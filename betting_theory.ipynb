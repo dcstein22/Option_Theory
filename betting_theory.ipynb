{
 "cells": [
  {
   "cell_type": "markdown",
   "metadata": {},
   "source": [
    "# Betting Theory\n",
    "\n",
    "## Win Probability\n",
    "\n",
    "$G(f) = \\mathbb{E}g(f) = qln(1-af)+pln(1+bf)$\n",
    "\n",
    "\\begin{align}\n",
    "\n",
    "w_j &= P(A \\; wins | A \\; starts \\; at \\; j \\; dollars) \\\\\n",
    "\n",
    "w_j &= \\frac{1 - (\\frac{q}{p})^j}{1 - (\\frac{q}{p})^N}\n",
    "\\end{align}\n",
    "\n",
    "- Given a probability $p$, bankroll $j$, and number of games $N$, we have a closed form solution of computing the **probability** of winning the game. "
   ]
  },
  {
   "cell_type": "code",
   "execution_count": null,
   "metadata": {},
   "outputs": [],
   "source": [
    "import numpy as np\n",
    "import pandas as pd\n",
    "import scipy.stats as ss"
   ]
  },
  {
   "cell_type": "code",
   "execution_count": null,
   "metadata": {},
   "outputs": [],
   "source": [
    "def pwin(probwin:float, bankroll:float, numgames:float):\n",
    "    ploss = 1-probwin\n",
    "    num = 1-(ploss/probwin)**bankroll\n",
    "    denom = 1-(ploss/probwin)**numgames\n",
    "    return num/denom"
   ]
  },
  {
   "cell_type": "code",
   "execution_count": null,
   "metadata": {},
   "outputs": [],
   "source": [
    "PROBS= np.linspace(.00,.95,num =96 )\n",
    "bankroll= np.linspace(1,10,10)\n",
    "pwin(.8,20,80)"
   ]
  },
  {
   "cell_type": "code",
   "execution_count": null,
   "metadata": {},
   "outputs": [],
   "source": [
    "pw = .55\n",
    "pl = 1-pw\n",
    "betvar = pw*(1)+(1)*pl\n",
    "betsigma = np.sqrt(betvar)\n",
    "print(f\"Variance  is {np.round(betvar,2)} and standard deviation is {betsigma:.2f}\")"
   ]
  },
  {
   "cell_type": "code",
   "execution_count": null,
   "metadata": {},
   "outputs": [],
   "source": []
  }
 ],
 "metadata": {
  "kernelspec": {
   "display_name": "Python 3",
   "language": "python",
   "name": "python3"
  },
  "language_info": {
   "codemirror_mode": {
    "name": "ipython",
    "version": 3
   },
   "file_extension": ".py",
   "mimetype": "text/x-python",
   "name": "python",
   "nbconvert_exporter": "python",
   "pygments_lexer": "ipython3",
   "version": "3.11.7"
  }
 },
 "nbformat": 4,
 "nbformat_minor": 2
}
