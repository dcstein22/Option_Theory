{
 "cells": [
  {
   "cell_type": "markdown",
   "metadata": {},
   "source": [
    "# Option Strategies "
   ]
  },
  {
   "cell_type": "code",
   "execution_count": 62,
   "metadata": {},
   "outputs": [],
   "source": [
    "import matplotlib as mpl\n",
    "import statsmodels.api as sm\n",
    "import matplotlib.pyplot as plt\n",
    "import sklearn.linear_model as linear_model\n",
    "import pandas as pd\n",
    "import numpy as np\n",
    "import scipy as sp\n",
    "from scipy import stats\n",
    "from datetime import datetime\n",
    "import plotly.express as px\n",
    "import holidays\n",
    "import sympy\n",
    "from scipy import optimize"
   ]
  },
  {
   "cell_type": "code",
   "execution_count": 63,
   "metadata": {},
   "outputs": [],
   "source": [
    "from fredapi import Fred\n",
    "api_fred = 'caf2a437b55be8f56406870c1bed3521'\n",
    "fred = Fred(api_key= api_fred)\n",
    "import quandl\n",
    "quandl.api_config = 'J_fXGeVW_zC6RaDeJSQv'\n"
   ]
  },
  {
   "cell_type": "code",
   "execution_count": 64,
   "metadata": {},
   "outputs": [],
   "source": [
    "class Contract:\n",
    "\n",
    "    def __init__(self,S0,K,R,Sigma,T):\n",
    "        \"\"\"\n",
    "        Class defines GBM contract\n",
    "        S0: Spot price at time 0\n",
    "        K: Strike price\n",
    "        R: risk-free interest rate\n",
    "        Sigma: annualized volatility of the option\n",
    "        T: Time to maturity\n",
    "\n",
    "        \"\"\"\n",
    "        self.S0 = S0\n",
    "        self.K = K\n",
    "        self.R = R\n",
    "        self.Sigma = Sigma\n",
    "        self.T = T\n",
    "    def update_T(self,new_T:float):\n",
    "\n",
    "        self.T = new_T\n",
    "    def update_spot(self, Spot:float):\n",
    "        self.S0 = Spot\n",
    "    def update_rf(self, rf:float):\n",
    "        self.R = rf\n",
    "    def update_iv(self, IV:float):\n",
    "        self.Sigma = IV\n",
    "class CALL(Contract):\n",
    "\n",
    "    def __init__(self,S0,K,R,Sigma,T):\n",
    "\n",
    "        Contract.__init__(self,S0,K,R,Sigma,T)\n",
    "        \n",
    "    def update_T(self,new_T:float):\n",
    "\n",
    "        self.T = new_T\n",
    "    def update_spot(self, Spot:float):\n",
    "        self.S0 = Spot\n",
    "    def update_rf(self, rf:float):\n",
    "        self.R = rf\n",
    "    def update_iv(self, IV:float):\n",
    "        self.Sigma = IV\n",
    "\n",
    "class PUT(Contract):\n",
    "\n",
    "    def __init__(self,S0,K,R,Sigma,T):\n",
    "\n",
    "        Contract.__init__(self,S0,K,R,Sigma,T)\n",
    "    def update_T(self,new_T:float):\n",
    "\n",
    "        self.T = new_T\n",
    "    def update_spot(self, Spot:float):\n",
    "        self.S0 = Spot\n",
    "    def update_rf(self, rf:float):\n",
    "        self.R = rf\n",
    "    def update_iv(self, IV:float):\n",
    "        self.Sigma = IV\n",
    "\n",
    "class Option_Pricer:\n",
    "\n",
    "    def __init__(self,contract):\n",
    "\n",
    "        \"\"\"\n",
    "        contract: use the CALL or PUT derived classes to defined the contract\n",
    "\n",
    "        \"\"\"\n",
    "\n",
    "        self.contract = contract\n",
    "        self.S0, self.K, self.R, self.Sigma, self.T = contract.S0,contract.K,contract.R,contract.Sigma, contract.T\n",
    "        self.Type = self.contract.__class__.__name__\n",
    "\n",
    "    def d1(self):\n",
    "        D1 = (np.log(self.S0/self.K)+(self.R+ .5*self.Sigma**2)*self.T)/(self.Sigma*np.sqrt(self.T))\n",
    "        return D1\n",
    "    def d2(self):\n",
    "        d_1 = self.d1()\n",
    "        D2 = d_1 - self.Sigma*np.sqrt(self.T) \n",
    "        return D2\n",
    "    def pv(self):\n",
    "        return self.K*np.exp(-self.R*self.T)\n",
    "\n",
    "    def __str__(self):\n",
    "\n",
    "        return (f\"{self.Type} option contract with strike {self.K} and volatility {self.Sigma}.\")\n",
    "        \n",
    "    def price_derivative(self):\n",
    "        D1 = self.d1()\n",
    "        D2 = self.d2()\n",
    "        PV = self.pv()\n",
    "\n",
    "        if self.Type == 'CALL':\n",
    "\n",
    "            return self.S0*stats.norm.cdf(D1)- PV*stats.norm.cdf(D2)\n",
    "        else:\n",
    "\n",
    "            return PV*stats.norm.cdf(-D2)-self.S0*stats.norm.cdf(-D1)\n",
    "\n",
    "    def plot_contract(self):\n",
    "        prices = self.price_derivative()\n",
    "\n",
    "        if len(prices) <= 1:\n",
    "            raise Exception('Cannot Graph 1 Price.')\n",
    "        DF = pd.DataFrame(prices, index = self.S0, columns = [f\"{self.Type}(K = {self.K})\"])\n",
    "        DF.index.name = 'Spot Price'\n",
    "\n",
    "        fig = px.line(DF).update_layout(yaxis_title = 'Derivative Price')\n",
    "        fig.add_shape(type ='line',x0 = self.K,x1 = self.K,y0= np.where(self.Type == 'CALL',0,),y1=np.where(self.Type == \"CALL\",max(prices),0), line = dict(color = \"red\"),name = 'Strike')\n",
    "\n",
    "        return fig\n",
    "\n",
    "    def plot_delta(self):\n",
    "        title = f\"{self.Type}(K = {self.K}, T = {self.T},vol = {self.Sigma},r = {self.R})\"\n",
    "        Deltas = self.delta()\n",
    "        DF = pd.DataFrame(Deltas,index = self.S0, columns = [f\"{self.Type}(K = {self.K})\"])\n",
    "        DF.index.name = 'Spot Price'\n",
    "\n",
    "        fig = px.line(DF,title = title).update_layout(yaxis_title = \"Delta\")\n",
    "        fig.add_shape(type ='line',x0 = self.K,x1 = self.K,y0= np.where(self.Type == 'CALL',0,-100),y1=np.where(self.Type == \"CALL\",100,0), line = dict(color = \"red\"),name = 'Strike')\n",
    "\n",
    "        return fig\n",
    "    def plot_gamma(self):\n",
    "\n",
    "        title = f\"{self.Type}(K = {self.K}, T = {self.T},vol = {self.Sigma},r = {self.R})\"\n",
    "        gammas = self.gamma()\n",
    "        DF = pd.DataFrame(gammas,index = self.S0, columns = [f\"{self.Type}(K = {self.K})\"])\n",
    "        DF.index.name = 'Spot Price'\n",
    "        gamma_max = max(gammas)\n",
    "        fig = px.line(DF,title = title).update_layout(yaxis_title = \"Gamma\")\n",
    "        fig.add_shape(type ='line',x0 = self.K,x1 = self.K,y0=0,y1=gamma_max+1, line = dict(color = \"red\"),name = 'Strike')\n",
    "\n",
    "\n",
    "        return fig\n",
    "    def plot_vega(self):\n",
    "        title = f\"{self.Type}(K = {self.K}, T = {self.T},vol = {self.Sigma},r = {self.R})\"\n",
    "        vegas = self.vega()\n",
    "        DF = pd.DataFrame(vegas,index = self.S0, columns = [f\"{self.Type}(K = {self.K})\"])\n",
    "        DF.index.name = 'Spot Price'\n",
    "        vega_max = max(vegas)\n",
    "        fig = px.line(DF,title = title).update_layout(yaxis_title = \"Vega\")\n",
    "        fig = fig.add_shape(type ='line',x0 = self.K,x1 = self.K,y0=0,y1=vega_max+1, line = dict(color = \"red\"),name = 'Strike')\n",
    "\n",
    "        return fig\n",
    "    def delta(self):\n",
    "        if self.Type == 'CALL':\n",
    "            return stats.norm.cdf(self.d1())\n",
    "        else:\n",
    "            return -stats.norm.cdf(-self.d1())\n",
    "    def gamma(self):\n",
    "\n",
    "        return stats.norm.pdf(self.d1())/(self.S0*self.Sigma*np.sqrt(self.T))\n",
    "\n",
    "    def vega(self):\n",
    "\n",
    "        return self.S0*np.sqrt(self.T)*stats.norm.pdf(self.d1())*1e-2\n",
    "    def theta(self):\n",
    "        if self.Type == 'CALL':\n",
    "            return ((-self.S0*stats.norm.pdf(self.d1()) * self.Sigma)/(2*np.sqrt(self.T)) - self.R * self.K*np.exp(-self.R*self.T) * stats.norm.cdf(self.d2()))/365\n",
    "        else:\n",
    "            return ((-self.S0*stats.norm.pdf(self.d1()) * self.Sigma)/(2*np.sqrt(self.T)) +self.R * self.K*np.exp(-self.R*self.T) * stats.norm.cdf(-self.d2()))/365\n",
    "\n",
    "            # Divide Theta by 252 trading days\n",
    "    def return_values(self):\n",
    "\n",
    "        price = self.price_derivative()\n",
    "        delta =self.delta()\n",
    "        gamma = self.gamma()\n",
    "        vega = self.vega()\n",
    "        theta = self.theta()\n",
    "        vals = np.array([price,delta,gamma,vega,theta])\n",
    "        df = pd.DataFrame([vals],columns = ['Price','Delta','Gamma','Vega','Theta'],index = [f'{self.Type}(K = {self.K})'])\n",
    "        return df\n",
    "\n"
   ]
  },
  {
   "cell_type": "code",
   "execution_count": 65,
   "metadata": {},
   "outputs": [
    {
     "data": {
      "text/html": [
       "<div>\n",
       "<style scoped>\n",
       "    .dataframe tbody tr th:only-of-type {\n",
       "        vertical-align: middle;\n",
       "    }\n",
       "\n",
       "    .dataframe tbody tr th {\n",
       "        vertical-align: top;\n",
       "    }\n",
       "\n",
       "    .dataframe thead th {\n",
       "        text-align: right;\n",
       "    }\n",
       "</style>\n",
       "<table border=\"1\" class=\"dataframe\">\n",
       "  <thead>\n",
       "    <tr style=\"text-align: right;\">\n",
       "      <th></th>\n",
       "      <th>ONE_M</th>\n",
       "    </tr>\n",
       "  </thead>\n",
       "  <tbody>\n",
       "    <tr>\n",
       "      <th>2023-12-29</th>\n",
       "      <td>0.0560</td>\n",
       "    </tr>\n",
       "    <tr>\n",
       "      <th>2024-01-02</th>\n",
       "      <td>0.0555</td>\n",
       "    </tr>\n",
       "  </tbody>\n",
       "</table>\n",
       "</div>"
      ],
      "text/plain": [
       "             ONE_M\n",
       "2023-12-29  0.0560\n",
       "2024-01-02  0.0555"
      ]
     },
     "execution_count": 65,
     "metadata": {},
     "output_type": "execute_result"
    }
   ],
   "source": [
    "start = '2015-01-01'\n",
    "end = datetime.now()\n",
    "onemonth = (pd.DataFrame(fred.get_series(\"DGS1MO\",observation_start=start,observation_end=end),columns=['ONE_M'])*1e-2).dropna()\n",
    "onemonth.tail(2)"
   ]
  },
  {
   "cell_type": "code",
   "execution_count": 66,
   "metadata": {},
   "outputs": [],
   "source": [
    "def set_up_matrix(portfolio:pd.DataFrame):\n",
    "    newp = portfolio[['Delta','Vega']]\n",
    "    return newp.T.iloc[:,:2]"
   ]
  },
  {
   "cell_type": "markdown",
   "metadata": {},
   "source": [
    "# Put-Call Parity\n",
    "\n",
    "**Forward Contract:** is a contract with a delivery price $K$ that obligates its holder to buy one share of the stock at expiration time $T$ in exchange for payment $K$. At expiration the value of the forward contract is $S(T) - K$. Let $f(t,x)$ denote the value of the forward contract at earlier times $t\\in [0,T]$ if the stock price at time $\\tau$ is $S(t)=x$, the value of the forward contract at time $\\tau$ is :\n",
    "\n",
    "\\begin{align}\n",
    "\n",
    "f(\\tau,x) = x - e^{-r(T-\\tau)}K\n",
    "\n",
    "\\end{align}\n",
    "\n",
    "- Using no arbitrage pricing the payoff of the forward contract agrees with the payoff of a portfolio that is *long one call* and *short one put*, which can be summarized using this mathematical notation:\n",
    "\n",
    "\\begin{align}\n",
    "\n",
    "f(t,x) &= c(\\tau,x) - p(\\tau,x)\\\\\n",
    "\n",
    "x - e^{-r(T-\\tau)}K &= c(\\tau,x) - p(\\tau,x)\n",
    "\n",
    "\\end{align}"
   ]
  },
  {
   "cell_type": "markdown",
   "metadata": {},
   "source": [
    "# Put-Call-Parity\n",
    "\n",
    "- For options with the same strike and expiration, the following relationship between two portfolos hold:\n",
    "\n",
    "    1. A call option plus the discounted zero-coupon bond with payoff K at time $\\tau$.\n",
    "    2. A put option plus one share of stock\n",
    "\n",
    "    Are both equal...\n",
    "\n",
    "\\begin{align}\n",
    "\n",
    "C_o + K e^{rT} = S_o + P_o\n",
    "\n",
    "\\end{align}"
   ]
  },
  {
   "cell_type": "markdown",
   "metadata": {},
   "source": [
    "# Covered Call | Buy-Write\n",
    "\n",
    "A portfolio that consists of 1-share of stock and a short position in a European call option is known as a *covered call.*\n",
    "\n",
    "<u>Example</u>\n",
    "\n",
    "- Let's say we have 100 shares of an asset priced at $S_o = \\$60.00$ and we want to write a call against the stock protecting us from a  $5\\%$ decline in a period of 1 month, so we choose a strike price of $\\$57.00$."
   ]
  },
  {
   "cell_type": "code",
   "execution_count": 67,
   "metadata": {},
   "outputs": [],
   "source": [
    "Ss = np.linspace(50,70,num = 161)\n",
    "ivol1 = .20\n",
    "Time = 30/365\n",
    "r = 0.05\n",
    "spot = 60\n",
    "strike_ = 67\n",
    "Vp = pd.DataFrame([100*spot],index = ['MV'])\n",
    "co = Option_Pricer(CALL(S0 = spot, K = strike_, R = r, Sigma = ivol1,T = Time))\n",
    "price_0 = co.price_derivative()*100\n"
   ]
  },
  {
   "cell_type": "code",
   "execution_count": 68,
   "metadata": {},
   "outputs": [
    {
     "data": {
      "application/vnd.plotly.v1+json": {
       "config": {
        "plotlyServerURL": "https://plot.ly"
       },
       "data": [
        {
         "hovertemplate": "variable=MV<br>$ Underlying Price=%{x}<br>value=%{y}<extra></extra>",
         "legendgroup": "MV",
         "line": {
          "color": "#636efa",
          "dash": "solid"
         },
         "marker": {
          "symbol": "circle"
         },
         "mode": "lines",
         "name": "MV",
         "orientation": "v",
         "showlegend": true,
         "type": "scatter",
         "x": [
          50,
          50.125,
          50.25,
          50.375,
          50.5,
          50.625,
          50.75,
          50.875,
          51,
          51.125,
          51.25,
          51.375,
          51.5,
          51.625,
          51.75,
          51.875,
          52,
          52.125,
          52.25,
          52.375,
          52.5,
          52.625,
          52.75,
          52.875,
          53,
          53.125,
          53.25,
          53.375,
          53.5,
          53.625,
          53.75,
          53.875,
          54,
          54.125,
          54.25,
          54.375,
          54.5,
          54.625,
          54.75,
          54.875,
          55,
          55.125,
          55.25,
          55.375,
          55.5,
          55.625,
          55.75,
          55.875,
          56,
          56.125,
          56.25,
          56.375,
          56.5,
          56.625,
          56.75,
          56.875,
          57,
          57.125,
          57.25,
          57.375,
          57.5,
          57.625,
          57.75,
          57.875,
          58,
          58.125,
          58.25,
          58.375,
          58.5,
          58.625,
          58.75,
          58.875,
          59,
          59.125,
          59.25,
          59.375,
          59.5,
          59.625,
          59.75,
          59.875,
          60,
          60.125,
          60.25,
          60.375,
          60.5,
          60.625,
          60.75,
          60.875,
          61,
          61.125,
          61.25,
          61.375,
          61.5,
          61.625,
          61.75,
          61.875,
          62,
          62.125,
          62.25,
          62.375,
          62.5,
          62.625,
          62.75,
          62.875,
          63,
          63.125,
          63.25,
          63.375,
          63.5,
          63.625,
          63.75,
          63.875,
          64,
          64.125,
          64.25,
          64.375,
          64.5,
          64.625,
          64.75,
          64.875,
          65,
          65.125,
          65.25,
          65.375,
          65.5,
          65.625,
          65.75,
          65.875,
          66,
          66.125,
          66.25,
          66.375,
          66.5,
          66.625,
          66.75,
          66.875,
          67,
          67.125,
          67.25,
          67.375,
          67.5,
          67.625,
          67.75,
          67.875,
          68,
          68.125,
          68.25,
          68.375,
          68.5,
          68.625,
          68.75,
          68.875,
          69,
          69.125,
          69.25,
          69.375,
          69.5,
          69.625,
          69.75,
          69.875,
          70
         ],
         "xaxis": "x",
         "y": [
          5353.0869999999995,
          5365.5869999999995,
          5378.0869999999995,
          5390.5869999999995,
          5403.0869999999995,
          5415.5869999999995,
          5428.0869999999995,
          5440.5869999999995,
          5453.0869999999995,
          5465.5869999999995,
          5478.0869999999995,
          5490.5869999999995,
          5503.0869999999995,
          5515.5869999999995,
          5528.0869999999995,
          5540.5869999999995,
          5553.0869999999995,
          5565.5869999999995,
          5578.0869999999995,
          5590.5869999999995,
          5603.0869999999995,
          5615.5869999999995,
          5628.0869999999995,
          5640.5869999999995,
          5653.0869999999995,
          5665.5869999999995,
          5678.0869999999995,
          5690.5869999999995,
          5703.0869999999995,
          5715.5869999999995,
          5728.0869999999995,
          5740.5869999999995,
          5753.0869999999995,
          5765.5869999999995,
          5778.0869999999995,
          5790.5869999999995,
          5803.0869999999995,
          5815.5869999999995,
          5828.0869999999995,
          5840.5869999999995,
          5853.0869999999995,
          5865.5869999999995,
          5878.0869999999995,
          5890.5869999999995,
          5903.0869999999995,
          5915.5869999999995,
          5928.0869999999995,
          5940.5869999999995,
          5953.0869999999995,
          5965.5869999999995,
          5978.0869999999995,
          5990.5869999999995,
          6003.0869999999995,
          6015.5869999999995,
          6028.0869999999995,
          6040.5869999999995,
          6053.0869999999995,
          6053.0869999999995,
          6053.0869999999995,
          6053.0869999999995,
          6053.0869999999995,
          6053.0869999999995,
          6053.0869999999995,
          6053.0869999999995,
          6053.0869999999995,
          6053.0869999999995,
          6053.0869999999995,
          6053.0869999999995,
          6053.0869999999995,
          6053.0869999999995,
          6053.0869999999995,
          6053.0869999999995,
          6053.0869999999995,
          6053.0869999999995,
          6053.0869999999995,
          6053.0869999999995,
          6053.0869999999995,
          6053.0869999999995,
          6053.0869999999995,
          6053.0869999999995,
          6053.0869999999995,
          6053.0869999999995,
          6053.0869999999995,
          6053.0869999999995,
          6053.0869999999995,
          6053.0869999999995,
          6053.0869999999995,
          6053.0869999999995,
          6053.0869999999995,
          6053.0869999999995,
          6053.0869999999995,
          6053.0869999999995,
          6053.0869999999995,
          6053.0869999999995,
          6053.0869999999995,
          6053.0869999999995,
          6053.0869999999995,
          6053.0869999999995,
          6053.0869999999995,
          6053.0869999999995,
          6053.0869999999995,
          6053.0869999999995,
          6053.0869999999995,
          6053.0869999999995,
          6053.0869999999995,
          6053.0869999999995,
          6053.0869999999995,
          6053.0869999999995,
          6053.0869999999995,
          6053.0869999999995,
          6053.0869999999995,
          6053.0869999999995,
          6053.0869999999995,
          6053.0869999999995,
          6053.0869999999995,
          6053.0869999999995,
          6053.0869999999995,
          6053.0869999999995,
          6053.0869999999995,
          6053.0869999999995,
          6053.0869999999995,
          6053.0869999999995,
          6053.0869999999995,
          6053.0869999999995,
          6053.0869999999995,
          6053.0869999999995,
          6053.0869999999995,
          6053.0869999999995,
          6053.0869999999995,
          6053.0869999999995,
          6053.0869999999995,
          6053.0869999999995,
          6053.0869999999995,
          6053.0869999999995,
          6053.0869999999995,
          6053.0869999999995,
          6053.0869999999995,
          6053.0869999999995,
          6053.0869999999995,
          6053.0869999999995,
          6053.0869999999995,
          6053.0869999999995,
          6053.0869999999995,
          6053.0869999999995,
          6053.0869999999995,
          6053.0869999999995,
          6053.0869999999995,
          6053.0869999999995,
          6053.0869999999995,
          6053.0869999999995,
          6053.0869999999995,
          6053.0869999999995,
          6053.0869999999995,
          6053.0869999999995,
          6053.0869999999995,
          6053.0869999999995,
          6053.0869999999995,
          6053.0869999999995,
          6053.0869999999995,
          6053.0869999999995,
          6053.0869999999995
         ],
         "yaxis": "y"
        }
       ],
       "layout": {
        "annotations": [
         {
          "showarrow": false,
          "text": "Spot plus Credit 56.47",
          "x": 56.47,
          "xanchor": "left",
          "xref": "x",
          "y": 1,
          "yanchor": "top",
          "yref": "y domain"
         }
        ],
        "legend": {
         "title": {
          "text": "variable"
         },
         "tracegroupgap": 0
        },
        "shapes": [
         {
          "type": "line",
          "x0": 56.47,
          "x1": 56.47,
          "xref": "x",
          "y0": 0,
          "y1": 1,
          "yref": "y domain"
         }
        ],
        "template": {
         "data": {
          "bar": [
           {
            "error_x": {
             "color": "#2a3f5f"
            },
            "error_y": {
             "color": "#2a3f5f"
            },
            "marker": {
             "line": {
              "color": "#E5ECF6",
              "width": 0.5
             },
             "pattern": {
              "fillmode": "overlay",
              "size": 10,
              "solidity": 0.2
             }
            },
            "type": "bar"
           }
          ],
          "barpolar": [
           {
            "marker": {
             "line": {
              "color": "#E5ECF6",
              "width": 0.5
             },
             "pattern": {
              "fillmode": "overlay",
              "size": 10,
              "solidity": 0.2
             }
            },
            "type": "barpolar"
           }
          ],
          "carpet": [
           {
            "aaxis": {
             "endlinecolor": "#2a3f5f",
             "gridcolor": "white",
             "linecolor": "white",
             "minorgridcolor": "white",
             "startlinecolor": "#2a3f5f"
            },
            "baxis": {
             "endlinecolor": "#2a3f5f",
             "gridcolor": "white",
             "linecolor": "white",
             "minorgridcolor": "white",
             "startlinecolor": "#2a3f5f"
            },
            "type": "carpet"
           }
          ],
          "choropleth": [
           {
            "colorbar": {
             "outlinewidth": 0,
             "ticks": ""
            },
            "type": "choropleth"
           }
          ],
          "contour": [
           {
            "colorbar": {
             "outlinewidth": 0,
             "ticks": ""
            },
            "colorscale": [
             [
              0,
              "#0d0887"
             ],
             [
              0.1111111111111111,
              "#46039f"
             ],
             [
              0.2222222222222222,
              "#7201a8"
             ],
             [
              0.3333333333333333,
              "#9c179e"
             ],
             [
              0.4444444444444444,
              "#bd3786"
             ],
             [
              0.5555555555555556,
              "#d8576b"
             ],
             [
              0.6666666666666666,
              "#ed7953"
             ],
             [
              0.7777777777777778,
              "#fb9f3a"
             ],
             [
              0.8888888888888888,
              "#fdca26"
             ],
             [
              1,
              "#f0f921"
             ]
            ],
            "type": "contour"
           }
          ],
          "contourcarpet": [
           {
            "colorbar": {
             "outlinewidth": 0,
             "ticks": ""
            },
            "type": "contourcarpet"
           }
          ],
          "heatmap": [
           {
            "colorbar": {
             "outlinewidth": 0,
             "ticks": ""
            },
            "colorscale": [
             [
              0,
              "#0d0887"
             ],
             [
              0.1111111111111111,
              "#46039f"
             ],
             [
              0.2222222222222222,
              "#7201a8"
             ],
             [
              0.3333333333333333,
              "#9c179e"
             ],
             [
              0.4444444444444444,
              "#bd3786"
             ],
             [
              0.5555555555555556,
              "#d8576b"
             ],
             [
              0.6666666666666666,
              "#ed7953"
             ],
             [
              0.7777777777777778,
              "#fb9f3a"
             ],
             [
              0.8888888888888888,
              "#fdca26"
             ],
             [
              1,
              "#f0f921"
             ]
            ],
            "type": "heatmap"
           }
          ],
          "heatmapgl": [
           {
            "colorbar": {
             "outlinewidth": 0,
             "ticks": ""
            },
            "colorscale": [
             [
              0,
              "#0d0887"
             ],
             [
              0.1111111111111111,
              "#46039f"
             ],
             [
              0.2222222222222222,
              "#7201a8"
             ],
             [
              0.3333333333333333,
              "#9c179e"
             ],
             [
              0.4444444444444444,
              "#bd3786"
             ],
             [
              0.5555555555555556,
              "#d8576b"
             ],
             [
              0.6666666666666666,
              "#ed7953"
             ],
             [
              0.7777777777777778,
              "#fb9f3a"
             ],
             [
              0.8888888888888888,
              "#fdca26"
             ],
             [
              1,
              "#f0f921"
             ]
            ],
            "type": "heatmapgl"
           }
          ],
          "histogram": [
           {
            "marker": {
             "pattern": {
              "fillmode": "overlay",
              "size": 10,
              "solidity": 0.2
             }
            },
            "type": "histogram"
           }
          ],
          "histogram2d": [
           {
            "colorbar": {
             "outlinewidth": 0,
             "ticks": ""
            },
            "colorscale": [
             [
              0,
              "#0d0887"
             ],
             [
              0.1111111111111111,
              "#46039f"
             ],
             [
              0.2222222222222222,
              "#7201a8"
             ],
             [
              0.3333333333333333,
              "#9c179e"
             ],
             [
              0.4444444444444444,
              "#bd3786"
             ],
             [
              0.5555555555555556,
              "#d8576b"
             ],
             [
              0.6666666666666666,
              "#ed7953"
             ],
             [
              0.7777777777777778,
              "#fb9f3a"
             ],
             [
              0.8888888888888888,
              "#fdca26"
             ],
             [
              1,
              "#f0f921"
             ]
            ],
            "type": "histogram2d"
           }
          ],
          "histogram2dcontour": [
           {
            "colorbar": {
             "outlinewidth": 0,
             "ticks": ""
            },
            "colorscale": [
             [
              0,
              "#0d0887"
             ],
             [
              0.1111111111111111,
              "#46039f"
             ],
             [
              0.2222222222222222,
              "#7201a8"
             ],
             [
              0.3333333333333333,
              "#9c179e"
             ],
             [
              0.4444444444444444,
              "#bd3786"
             ],
             [
              0.5555555555555556,
              "#d8576b"
             ],
             [
              0.6666666666666666,
              "#ed7953"
             ],
             [
              0.7777777777777778,
              "#fb9f3a"
             ],
             [
              0.8888888888888888,
              "#fdca26"
             ],
             [
              1,
              "#f0f921"
             ]
            ],
            "type": "histogram2dcontour"
           }
          ],
          "mesh3d": [
           {
            "colorbar": {
             "outlinewidth": 0,
             "ticks": ""
            },
            "type": "mesh3d"
           }
          ],
          "parcoords": [
           {
            "line": {
             "colorbar": {
              "outlinewidth": 0,
              "ticks": ""
             }
            },
            "type": "parcoords"
           }
          ],
          "pie": [
           {
            "automargin": true,
            "type": "pie"
           }
          ],
          "scatter": [
           {
            "fillpattern": {
             "fillmode": "overlay",
             "size": 10,
             "solidity": 0.2
            },
            "type": "scatter"
           }
          ],
          "scatter3d": [
           {
            "line": {
             "colorbar": {
              "outlinewidth": 0,
              "ticks": ""
             }
            },
            "marker": {
             "colorbar": {
              "outlinewidth": 0,
              "ticks": ""
             }
            },
            "type": "scatter3d"
           }
          ],
          "scattercarpet": [
           {
            "marker": {
             "colorbar": {
              "outlinewidth": 0,
              "ticks": ""
             }
            },
            "type": "scattercarpet"
           }
          ],
          "scattergeo": [
           {
            "marker": {
             "colorbar": {
              "outlinewidth": 0,
              "ticks": ""
             }
            },
            "type": "scattergeo"
           }
          ],
          "scattergl": [
           {
            "marker": {
             "colorbar": {
              "outlinewidth": 0,
              "ticks": ""
             }
            },
            "type": "scattergl"
           }
          ],
          "scattermapbox": [
           {
            "marker": {
             "colorbar": {
              "outlinewidth": 0,
              "ticks": ""
             }
            },
            "type": "scattermapbox"
           }
          ],
          "scatterpolar": [
           {
            "marker": {
             "colorbar": {
              "outlinewidth": 0,
              "ticks": ""
             }
            },
            "type": "scatterpolar"
           }
          ],
          "scatterpolargl": [
           {
            "marker": {
             "colorbar": {
              "outlinewidth": 0,
              "ticks": ""
             }
            },
            "type": "scatterpolargl"
           }
          ],
          "scatterternary": [
           {
            "marker": {
             "colorbar": {
              "outlinewidth": 0,
              "ticks": ""
             }
            },
            "type": "scatterternary"
           }
          ],
          "surface": [
           {
            "colorbar": {
             "outlinewidth": 0,
             "ticks": ""
            },
            "colorscale": [
             [
              0,
              "#0d0887"
             ],
             [
              0.1111111111111111,
              "#46039f"
             ],
             [
              0.2222222222222222,
              "#7201a8"
             ],
             [
              0.3333333333333333,
              "#9c179e"
             ],
             [
              0.4444444444444444,
              "#bd3786"
             ],
             [
              0.5555555555555556,
              "#d8576b"
             ],
             [
              0.6666666666666666,
              "#ed7953"
             ],
             [
              0.7777777777777778,
              "#fb9f3a"
             ],
             [
              0.8888888888888888,
              "#fdca26"
             ],
             [
              1,
              "#f0f921"
             ]
            ],
            "type": "surface"
           }
          ],
          "table": [
           {
            "cells": {
             "fill": {
              "color": "#EBF0F8"
             },
             "line": {
              "color": "white"
             }
            },
            "header": {
             "fill": {
              "color": "#C8D4E3"
             },
             "line": {
              "color": "white"
             }
            },
            "type": "table"
           }
          ]
         },
         "layout": {
          "annotationdefaults": {
           "arrowcolor": "#2a3f5f",
           "arrowhead": 0,
           "arrowwidth": 1
          },
          "autotypenumbers": "strict",
          "coloraxis": {
           "colorbar": {
            "outlinewidth": 0,
            "ticks": ""
           }
          },
          "colorscale": {
           "diverging": [
            [
             0,
             "#8e0152"
            ],
            [
             0.1,
             "#c51b7d"
            ],
            [
             0.2,
             "#de77ae"
            ],
            [
             0.3,
             "#f1b6da"
            ],
            [
             0.4,
             "#fde0ef"
            ],
            [
             0.5,
             "#f7f7f7"
            ],
            [
             0.6,
             "#e6f5d0"
            ],
            [
             0.7,
             "#b8e186"
            ],
            [
             0.8,
             "#7fbc41"
            ],
            [
             0.9,
             "#4d9221"
            ],
            [
             1,
             "#276419"
            ]
           ],
           "sequential": [
            [
             0,
             "#0d0887"
            ],
            [
             0.1111111111111111,
             "#46039f"
            ],
            [
             0.2222222222222222,
             "#7201a8"
            ],
            [
             0.3333333333333333,
             "#9c179e"
            ],
            [
             0.4444444444444444,
             "#bd3786"
            ],
            [
             0.5555555555555556,
             "#d8576b"
            ],
            [
             0.6666666666666666,
             "#ed7953"
            ],
            [
             0.7777777777777778,
             "#fb9f3a"
            ],
            [
             0.8888888888888888,
             "#fdca26"
            ],
            [
             1,
             "#f0f921"
            ]
           ],
           "sequentialminus": [
            [
             0,
             "#0d0887"
            ],
            [
             0.1111111111111111,
             "#46039f"
            ],
            [
             0.2222222222222222,
             "#7201a8"
            ],
            [
             0.3333333333333333,
             "#9c179e"
            ],
            [
             0.4444444444444444,
             "#bd3786"
            ],
            [
             0.5555555555555556,
             "#d8576b"
            ],
            [
             0.6666666666666666,
             "#ed7953"
            ],
            [
             0.7777777777777778,
             "#fb9f3a"
            ],
            [
             0.8888888888888888,
             "#fdca26"
            ],
            [
             1,
             "#f0f921"
            ]
           ]
          },
          "colorway": [
           "#636efa",
           "#EF553B",
           "#00cc96",
           "#ab63fa",
           "#FFA15A",
           "#19d3f3",
           "#FF6692",
           "#B6E880",
           "#FF97FF",
           "#FECB52"
          ],
          "font": {
           "color": "#2a3f5f"
          },
          "geo": {
           "bgcolor": "white",
           "lakecolor": "white",
           "landcolor": "#E5ECF6",
           "showlakes": true,
           "showland": true,
           "subunitcolor": "white"
          },
          "hoverlabel": {
           "align": "left"
          },
          "hovermode": "closest",
          "mapbox": {
           "style": "light"
          },
          "paper_bgcolor": "white",
          "plot_bgcolor": "#E5ECF6",
          "polar": {
           "angularaxis": {
            "gridcolor": "white",
            "linecolor": "white",
            "ticks": ""
           },
           "bgcolor": "#E5ECF6",
           "radialaxis": {
            "gridcolor": "white",
            "linecolor": "white",
            "ticks": ""
           }
          },
          "scene": {
           "xaxis": {
            "backgroundcolor": "#E5ECF6",
            "gridcolor": "white",
            "gridwidth": 2,
            "linecolor": "white",
            "showbackground": true,
            "ticks": "",
            "zerolinecolor": "white"
           },
           "yaxis": {
            "backgroundcolor": "#E5ECF6",
            "gridcolor": "white",
            "gridwidth": 2,
            "linecolor": "white",
            "showbackground": true,
            "ticks": "",
            "zerolinecolor": "white"
           },
           "zaxis": {
            "backgroundcolor": "#E5ECF6",
            "gridcolor": "white",
            "gridwidth": 2,
            "linecolor": "white",
            "showbackground": true,
            "ticks": "",
            "zerolinecolor": "white"
           }
          },
          "shapedefaults": {
           "line": {
            "color": "#2a3f5f"
           }
          },
          "ternary": {
           "aaxis": {
            "gridcolor": "white",
            "linecolor": "white",
            "ticks": ""
           },
           "baxis": {
            "gridcolor": "white",
            "linecolor": "white",
            "ticks": ""
           },
           "bgcolor": "#E5ECF6",
           "caxis": {
            "gridcolor": "white",
            "linecolor": "white",
            "ticks": ""
           }
          },
          "title": {
           "x": 0.05
          },
          "xaxis": {
           "automargin": true,
           "gridcolor": "white",
           "linecolor": "white",
           "ticks": "",
           "title": {
            "standoff": 15
           },
           "zerolinecolor": "white",
           "zerolinewidth": 2
          },
          "yaxis": {
           "automargin": true,
           "gridcolor": "white",
           "linecolor": "white",
           "ticks": "",
           "title": {
            "standoff": 15
           },
           "zerolinecolor": "white",
           "zerolinewidth": 2
          }
         }
        },
        "title": {
         "text": "Covered Call"
        },
        "xaxis": {
         "anchor": "y",
         "domain": [
          0,
          1
         ],
         "title": {
          "text": "$ Underlying Price"
         }
        },
        "yaxis": {
         "anchor": "x",
         "domain": [
          0,
          1
         ],
         "title": {
          "text": "value"
         }
        }
       }
      }
     },
     "metadata": {},
     "output_type": "display_data"
    }
   ],
   "source": [
    "portfolio = 100*Ss + -np.maximum(Ss-57,0)*100 + (353.087)\n",
    "covered_call = pd.DataFrame(portfolio,columns = ['MV'],index = Ss)\n",
    "covered_call.index.name ='$ Underlying Price'\n",
    "ccalfig = px.line(covered_call,title = 'Covered Call')\n",
    "\n",
    "ccalfig.add_vline(x = 56.47,annotation = dict(text = f\"Spot plus Credit {56.47}\"))"
   ]
  },
  {
   "cell_type": "markdown",
   "metadata": {},
   "source": [
    "- This is the exact payoff of writing a put with strike 57 plus investing the sale of $100 \\cdot S_0 = \\$6,000$ at the risk free rate for the remainder of the period.  \n",
    "\n",
    "- Using put-call parity the price of the put is equal to $\\$0.297108$."
   ]
  },
  {
   "cell_type": "code",
   "execution_count": 69,
   "metadata": {},
   "outputs": [
    {
     "data": {
      "application/vnd.plotly.v1+json": {
       "config": {
        "plotlyServerURL": "https://plot.ly"
       },
       "data": [
        {
         "hovertemplate": "variable=0<br>index=%{x}<br>value=%{y}<extra></extra>",
         "legendgroup": "0",
         "line": {
          "color": "#636efa",
          "dash": "solid"
         },
         "marker": {
          "symbol": "circle"
         },
         "mode": "lines",
         "name": "0",
         "orientation": "v",
         "showlegend": true,
         "type": "scatter",
         "x": [
          50,
          50.125,
          50.25,
          50.375,
          50.5,
          50.625,
          50.75,
          50.875,
          51,
          51.125,
          51.25,
          51.375,
          51.5,
          51.625,
          51.75,
          51.875,
          52,
          52.125,
          52.25,
          52.375,
          52.5,
          52.625,
          52.75,
          52.875,
          53,
          53.125,
          53.25,
          53.375,
          53.5,
          53.625,
          53.75,
          53.875,
          54,
          54.125,
          54.25,
          54.375,
          54.5,
          54.625,
          54.75,
          54.875,
          55,
          55.125,
          55.25,
          55.375,
          55.5,
          55.625,
          55.75,
          55.875,
          56,
          56.125,
          56.25,
          56.375,
          56.5,
          56.625,
          56.75,
          56.875,
          57,
          57.125,
          57.25,
          57.375,
          57.5,
          57.625,
          57.75,
          57.875,
          58,
          58.125,
          58.25,
          58.375,
          58.5,
          58.625,
          58.75,
          58.875,
          59,
          59.125,
          59.25,
          59.375,
          59.5,
          59.625,
          59.75,
          59.875,
          60,
          60.125,
          60.25,
          60.375,
          60.5,
          60.625,
          60.75,
          60.875,
          61,
          61.125,
          61.25,
          61.375,
          61.5,
          61.625,
          61.75,
          61.875,
          62,
          62.125,
          62.25,
          62.375,
          62.5,
          62.625,
          62.75,
          62.875,
          63,
          63.125,
          63.25,
          63.375,
          63.5,
          63.625,
          63.75,
          63.875,
          64,
          64.125,
          64.25,
          64.375,
          64.5,
          64.625,
          64.75,
          64.875,
          65,
          65.125,
          65.25,
          65.375,
          65.5,
          65.625,
          65.75,
          65.875,
          66,
          66.125,
          66.25,
          66.375,
          66.5,
          66.625,
          66.75,
          66.875,
          67,
          67.125,
          67.25,
          67.375,
          67.5,
          67.625,
          67.75,
          67.875,
          68,
          68.125,
          68.25,
          68.375,
          68.5,
          68.625,
          68.75,
          68.875,
          69,
          69.125,
          69.25,
          69.375,
          69.5,
          69.625,
          69.75,
          69.875,
          70
         ],
         "xaxis": "x",
         "y": [
          5354.419069889908,
          5366.919069889908,
          5379.419069889908,
          5391.919069889908,
          5404.419069889908,
          5416.919069889908,
          5429.419069889908,
          5441.919069889908,
          5454.419069889908,
          5466.919069889908,
          5479.419069889908,
          5491.919069889908,
          5504.419069889908,
          5516.919069889908,
          5529.419069889908,
          5541.919069889908,
          5554.419069889908,
          5566.919069889908,
          5579.419069889908,
          5591.919069889908,
          5604.419069889908,
          5616.919069889908,
          5629.419069889908,
          5641.919069889908,
          5654.419069889908,
          5666.919069889908,
          5679.419069889908,
          5691.919069889908,
          5704.419069889908,
          5716.919069889908,
          5729.419069889908,
          5741.919069889908,
          5754.419069889908,
          5766.919069889908,
          5779.419069889908,
          5791.919069889908,
          5804.419069889908,
          5816.919069889908,
          5829.419069889908,
          5841.919069889908,
          5854.419069889908,
          5866.919069889908,
          5879.419069889908,
          5891.919069889908,
          5904.419069889908,
          5916.919069889908,
          5929.419069889908,
          5941.919069889908,
          5954.419069889908,
          5966.919069889908,
          5979.419069889908,
          5991.919069889908,
          6004.419069889908,
          6016.919069889908,
          6029.419069889908,
          6041.919069889908,
          6054.419069889908,
          6054.419069889908,
          6054.419069889908,
          6054.419069889908,
          6054.419069889908,
          6054.419069889908,
          6054.419069889908,
          6054.419069889908,
          6054.419069889908,
          6054.419069889908,
          6054.419069889908,
          6054.419069889908,
          6054.419069889908,
          6054.419069889908,
          6054.419069889908,
          6054.419069889908,
          6054.419069889908,
          6054.419069889908,
          6054.419069889908,
          6054.419069889908,
          6054.419069889908,
          6054.419069889908,
          6054.419069889908,
          6054.419069889908,
          6054.419069889908,
          6054.419069889908,
          6054.419069889908,
          6054.419069889908,
          6054.419069889908,
          6054.419069889908,
          6054.419069889908,
          6054.419069889908,
          6054.419069889908,
          6054.419069889908,
          6054.419069889908,
          6054.419069889908,
          6054.419069889908,
          6054.419069889908,
          6054.419069889908,
          6054.419069889908,
          6054.419069889908,
          6054.419069889908,
          6054.419069889908,
          6054.419069889908,
          6054.419069889908,
          6054.419069889908,
          6054.419069889908,
          6054.419069889908,
          6054.419069889908,
          6054.419069889908,
          6054.419069889908,
          6054.419069889908,
          6054.419069889908,
          6054.419069889908,
          6054.419069889908,
          6054.419069889908,
          6054.419069889908,
          6054.419069889908,
          6054.419069889908,
          6054.419069889908,
          6054.419069889908,
          6054.419069889908,
          6054.419069889908,
          6054.419069889908,
          6054.419069889908,
          6054.419069889908,
          6054.419069889908,
          6054.419069889908,
          6054.419069889908,
          6054.419069889908,
          6054.419069889908,
          6054.419069889908,
          6054.419069889908,
          6054.419069889908,
          6054.419069889908,
          6054.419069889908,
          6054.419069889908,
          6054.419069889908,
          6054.419069889908,
          6054.419069889908,
          6054.419069889908,
          6054.419069889908,
          6054.419069889908,
          6054.419069889908,
          6054.419069889908,
          6054.419069889908,
          6054.419069889908,
          6054.419069889908,
          6054.419069889908,
          6054.419069889908,
          6054.419069889908,
          6054.419069889908,
          6054.419069889908,
          6054.419069889908,
          6054.419069889908,
          6054.419069889908,
          6054.419069889908,
          6054.419069889908,
          6054.419069889908,
          6054.419069889908,
          6054.419069889908,
          6054.419069889908,
          6054.419069889908,
          6054.419069889908,
          6054.419069889908
         ],
         "yaxis": "y"
        }
       ],
       "layout": {
        "legend": {
         "title": {
          "text": "variable"
         },
         "tracegroupgap": 0
        },
        "margin": {
         "t": 60
        },
        "template": {
         "data": {
          "bar": [
           {
            "error_x": {
             "color": "#2a3f5f"
            },
            "error_y": {
             "color": "#2a3f5f"
            },
            "marker": {
             "line": {
              "color": "#E5ECF6",
              "width": 0.5
             },
             "pattern": {
              "fillmode": "overlay",
              "size": 10,
              "solidity": 0.2
             }
            },
            "type": "bar"
           }
          ],
          "barpolar": [
           {
            "marker": {
             "line": {
              "color": "#E5ECF6",
              "width": 0.5
             },
             "pattern": {
              "fillmode": "overlay",
              "size": 10,
              "solidity": 0.2
             }
            },
            "type": "barpolar"
           }
          ],
          "carpet": [
           {
            "aaxis": {
             "endlinecolor": "#2a3f5f",
             "gridcolor": "white",
             "linecolor": "white",
             "minorgridcolor": "white",
             "startlinecolor": "#2a3f5f"
            },
            "baxis": {
             "endlinecolor": "#2a3f5f",
             "gridcolor": "white",
             "linecolor": "white",
             "minorgridcolor": "white",
             "startlinecolor": "#2a3f5f"
            },
            "type": "carpet"
           }
          ],
          "choropleth": [
           {
            "colorbar": {
             "outlinewidth": 0,
             "ticks": ""
            },
            "type": "choropleth"
           }
          ],
          "contour": [
           {
            "colorbar": {
             "outlinewidth": 0,
             "ticks": ""
            },
            "colorscale": [
             [
              0,
              "#0d0887"
             ],
             [
              0.1111111111111111,
              "#46039f"
             ],
             [
              0.2222222222222222,
              "#7201a8"
             ],
             [
              0.3333333333333333,
              "#9c179e"
             ],
             [
              0.4444444444444444,
              "#bd3786"
             ],
             [
              0.5555555555555556,
              "#d8576b"
             ],
             [
              0.6666666666666666,
              "#ed7953"
             ],
             [
              0.7777777777777778,
              "#fb9f3a"
             ],
             [
              0.8888888888888888,
              "#fdca26"
             ],
             [
              1,
              "#f0f921"
             ]
            ],
            "type": "contour"
           }
          ],
          "contourcarpet": [
           {
            "colorbar": {
             "outlinewidth": 0,
             "ticks": ""
            },
            "type": "contourcarpet"
           }
          ],
          "heatmap": [
           {
            "colorbar": {
             "outlinewidth": 0,
             "ticks": ""
            },
            "colorscale": [
             [
              0,
              "#0d0887"
             ],
             [
              0.1111111111111111,
              "#46039f"
             ],
             [
              0.2222222222222222,
              "#7201a8"
             ],
             [
              0.3333333333333333,
              "#9c179e"
             ],
             [
              0.4444444444444444,
              "#bd3786"
             ],
             [
              0.5555555555555556,
              "#d8576b"
             ],
             [
              0.6666666666666666,
              "#ed7953"
             ],
             [
              0.7777777777777778,
              "#fb9f3a"
             ],
             [
              0.8888888888888888,
              "#fdca26"
             ],
             [
              1,
              "#f0f921"
             ]
            ],
            "type": "heatmap"
           }
          ],
          "heatmapgl": [
           {
            "colorbar": {
             "outlinewidth": 0,
             "ticks": ""
            },
            "colorscale": [
             [
              0,
              "#0d0887"
             ],
             [
              0.1111111111111111,
              "#46039f"
             ],
             [
              0.2222222222222222,
              "#7201a8"
             ],
             [
              0.3333333333333333,
              "#9c179e"
             ],
             [
              0.4444444444444444,
              "#bd3786"
             ],
             [
              0.5555555555555556,
              "#d8576b"
             ],
             [
              0.6666666666666666,
              "#ed7953"
             ],
             [
              0.7777777777777778,
              "#fb9f3a"
             ],
             [
              0.8888888888888888,
              "#fdca26"
             ],
             [
              1,
              "#f0f921"
             ]
            ],
            "type": "heatmapgl"
           }
          ],
          "histogram": [
           {
            "marker": {
             "pattern": {
              "fillmode": "overlay",
              "size": 10,
              "solidity": 0.2
             }
            },
            "type": "histogram"
           }
          ],
          "histogram2d": [
           {
            "colorbar": {
             "outlinewidth": 0,
             "ticks": ""
            },
            "colorscale": [
             [
              0,
              "#0d0887"
             ],
             [
              0.1111111111111111,
              "#46039f"
             ],
             [
              0.2222222222222222,
              "#7201a8"
             ],
             [
              0.3333333333333333,
              "#9c179e"
             ],
             [
              0.4444444444444444,
              "#bd3786"
             ],
             [
              0.5555555555555556,
              "#d8576b"
             ],
             [
              0.6666666666666666,
              "#ed7953"
             ],
             [
              0.7777777777777778,
              "#fb9f3a"
             ],
             [
              0.8888888888888888,
              "#fdca26"
             ],
             [
              1,
              "#f0f921"
             ]
            ],
            "type": "histogram2d"
           }
          ],
          "histogram2dcontour": [
           {
            "colorbar": {
             "outlinewidth": 0,
             "ticks": ""
            },
            "colorscale": [
             [
              0,
              "#0d0887"
             ],
             [
              0.1111111111111111,
              "#46039f"
             ],
             [
              0.2222222222222222,
              "#7201a8"
             ],
             [
              0.3333333333333333,
              "#9c179e"
             ],
             [
              0.4444444444444444,
              "#bd3786"
             ],
             [
              0.5555555555555556,
              "#d8576b"
             ],
             [
              0.6666666666666666,
              "#ed7953"
             ],
             [
              0.7777777777777778,
              "#fb9f3a"
             ],
             [
              0.8888888888888888,
              "#fdca26"
             ],
             [
              1,
              "#f0f921"
             ]
            ],
            "type": "histogram2dcontour"
           }
          ],
          "mesh3d": [
           {
            "colorbar": {
             "outlinewidth": 0,
             "ticks": ""
            },
            "type": "mesh3d"
           }
          ],
          "parcoords": [
           {
            "line": {
             "colorbar": {
              "outlinewidth": 0,
              "ticks": ""
             }
            },
            "type": "parcoords"
           }
          ],
          "pie": [
           {
            "automargin": true,
            "type": "pie"
           }
          ],
          "scatter": [
           {
            "fillpattern": {
             "fillmode": "overlay",
             "size": 10,
             "solidity": 0.2
            },
            "type": "scatter"
           }
          ],
          "scatter3d": [
           {
            "line": {
             "colorbar": {
              "outlinewidth": 0,
              "ticks": ""
             }
            },
            "marker": {
             "colorbar": {
              "outlinewidth": 0,
              "ticks": ""
             }
            },
            "type": "scatter3d"
           }
          ],
          "scattercarpet": [
           {
            "marker": {
             "colorbar": {
              "outlinewidth": 0,
              "ticks": ""
             }
            },
            "type": "scattercarpet"
           }
          ],
          "scattergeo": [
           {
            "marker": {
             "colorbar": {
              "outlinewidth": 0,
              "ticks": ""
             }
            },
            "type": "scattergeo"
           }
          ],
          "scattergl": [
           {
            "marker": {
             "colorbar": {
              "outlinewidth": 0,
              "ticks": ""
             }
            },
            "type": "scattergl"
           }
          ],
          "scattermapbox": [
           {
            "marker": {
             "colorbar": {
              "outlinewidth": 0,
              "ticks": ""
             }
            },
            "type": "scattermapbox"
           }
          ],
          "scatterpolar": [
           {
            "marker": {
             "colorbar": {
              "outlinewidth": 0,
              "ticks": ""
             }
            },
            "type": "scatterpolar"
           }
          ],
          "scatterpolargl": [
           {
            "marker": {
             "colorbar": {
              "outlinewidth": 0,
              "ticks": ""
             }
            },
            "type": "scatterpolargl"
           }
          ],
          "scatterternary": [
           {
            "marker": {
             "colorbar": {
              "outlinewidth": 0,
              "ticks": ""
             }
            },
            "type": "scatterternary"
           }
          ],
          "surface": [
           {
            "colorbar": {
             "outlinewidth": 0,
             "ticks": ""
            },
            "colorscale": [
             [
              0,
              "#0d0887"
             ],
             [
              0.1111111111111111,
              "#46039f"
             ],
             [
              0.2222222222222222,
              "#7201a8"
             ],
             [
              0.3333333333333333,
              "#9c179e"
             ],
             [
              0.4444444444444444,
              "#bd3786"
             ],
             [
              0.5555555555555556,
              "#d8576b"
             ],
             [
              0.6666666666666666,
              "#ed7953"
             ],
             [
              0.7777777777777778,
              "#fb9f3a"
             ],
             [
              0.8888888888888888,
              "#fdca26"
             ],
             [
              1,
              "#f0f921"
             ]
            ],
            "type": "surface"
           }
          ],
          "table": [
           {
            "cells": {
             "fill": {
              "color": "#EBF0F8"
             },
             "line": {
              "color": "white"
             }
            },
            "header": {
             "fill": {
              "color": "#C8D4E3"
             },
             "line": {
              "color": "white"
             }
            },
            "type": "table"
           }
          ]
         },
         "layout": {
          "annotationdefaults": {
           "arrowcolor": "#2a3f5f",
           "arrowhead": 0,
           "arrowwidth": 1
          },
          "autotypenumbers": "strict",
          "coloraxis": {
           "colorbar": {
            "outlinewidth": 0,
            "ticks": ""
           }
          },
          "colorscale": {
           "diverging": [
            [
             0,
             "#8e0152"
            ],
            [
             0.1,
             "#c51b7d"
            ],
            [
             0.2,
             "#de77ae"
            ],
            [
             0.3,
             "#f1b6da"
            ],
            [
             0.4,
             "#fde0ef"
            ],
            [
             0.5,
             "#f7f7f7"
            ],
            [
             0.6,
             "#e6f5d0"
            ],
            [
             0.7,
             "#b8e186"
            ],
            [
             0.8,
             "#7fbc41"
            ],
            [
             0.9,
             "#4d9221"
            ],
            [
             1,
             "#276419"
            ]
           ],
           "sequential": [
            [
             0,
             "#0d0887"
            ],
            [
             0.1111111111111111,
             "#46039f"
            ],
            [
             0.2222222222222222,
             "#7201a8"
            ],
            [
             0.3333333333333333,
             "#9c179e"
            ],
            [
             0.4444444444444444,
             "#bd3786"
            ],
            [
             0.5555555555555556,
             "#d8576b"
            ],
            [
             0.6666666666666666,
             "#ed7953"
            ],
            [
             0.7777777777777778,
             "#fb9f3a"
            ],
            [
             0.8888888888888888,
             "#fdca26"
            ],
            [
             1,
             "#f0f921"
            ]
           ],
           "sequentialminus": [
            [
             0,
             "#0d0887"
            ],
            [
             0.1111111111111111,
             "#46039f"
            ],
            [
             0.2222222222222222,
             "#7201a8"
            ],
            [
             0.3333333333333333,
             "#9c179e"
            ],
            [
             0.4444444444444444,
             "#bd3786"
            ],
            [
             0.5555555555555556,
             "#d8576b"
            ],
            [
             0.6666666666666666,
             "#ed7953"
            ],
            [
             0.7777777777777778,
             "#fb9f3a"
            ],
            [
             0.8888888888888888,
             "#fdca26"
            ],
            [
             1,
             "#f0f921"
            ]
           ]
          },
          "colorway": [
           "#636efa",
           "#EF553B",
           "#00cc96",
           "#ab63fa",
           "#FFA15A",
           "#19d3f3",
           "#FF6692",
           "#B6E880",
           "#FF97FF",
           "#FECB52"
          ],
          "font": {
           "color": "#2a3f5f"
          },
          "geo": {
           "bgcolor": "white",
           "lakecolor": "white",
           "landcolor": "#E5ECF6",
           "showlakes": true,
           "showland": true,
           "subunitcolor": "white"
          },
          "hoverlabel": {
           "align": "left"
          },
          "hovermode": "closest",
          "mapbox": {
           "style": "light"
          },
          "paper_bgcolor": "white",
          "plot_bgcolor": "#E5ECF6",
          "polar": {
           "angularaxis": {
            "gridcolor": "white",
            "linecolor": "white",
            "ticks": ""
           },
           "bgcolor": "#E5ECF6",
           "radialaxis": {
            "gridcolor": "white",
            "linecolor": "white",
            "ticks": ""
           }
          },
          "scene": {
           "xaxis": {
            "backgroundcolor": "#E5ECF6",
            "gridcolor": "white",
            "gridwidth": 2,
            "linecolor": "white",
            "showbackground": true,
            "ticks": "",
            "zerolinecolor": "white"
           },
           "yaxis": {
            "backgroundcolor": "#E5ECF6",
            "gridcolor": "white",
            "gridwidth": 2,
            "linecolor": "white",
            "showbackground": true,
            "ticks": "",
            "zerolinecolor": "white"
           },
           "zaxis": {
            "backgroundcolor": "#E5ECF6",
            "gridcolor": "white",
            "gridwidth": 2,
            "linecolor": "white",
            "showbackground": true,
            "ticks": "",
            "zerolinecolor": "white"
           }
          },
          "shapedefaults": {
           "line": {
            "color": "#2a3f5f"
           }
          },
          "ternary": {
           "aaxis": {
            "gridcolor": "white",
            "linecolor": "white",
            "ticks": ""
           },
           "baxis": {
            "gridcolor": "white",
            "linecolor": "white",
            "ticks": ""
           },
           "bgcolor": "#E5ECF6",
           "caxis": {
            "gridcolor": "white",
            "linecolor": "white",
            "ticks": ""
           }
          },
          "title": {
           "x": 0.05
          },
          "xaxis": {
           "automargin": true,
           "gridcolor": "white",
           "linecolor": "white",
           "ticks": "",
           "title": {
            "standoff": 15
           },
           "zerolinecolor": "white",
           "zerolinewidth": 2
          },
          "yaxis": {
           "automargin": true,
           "gridcolor": "white",
           "linecolor": "white",
           "ticks": "",
           "title": {
            "standoff": 15
           },
           "zerolinecolor": "white",
           "zerolinewidth": 2
          }
         }
        },
        "xaxis": {
         "anchor": "y",
         "domain": [
          0,
          1
         ],
         "title": {
          "text": "index"
         }
        },
        "yaxis": {
         "anchor": "x",
         "domain": [
          0,
          1
         ],
         "title": {
          "text": "value"
         }
        }
       }
      }
     },
     "metadata": {},
     "output_type": "display_data"
    }
   ],
   "source": [
    "synthetic_put = -np.maximum(57-Ss,0)*100 + 29.7108 + (6000*np.exp(r*Time))\n",
    "synthetic_p = pd.DataFrame(synthetic_put,index = Ss)\n",
    "px.line(synthetic_p)"
   ]
  },
  {
   "cell_type": "markdown",
   "metadata": {},
   "source": [
    "What if I am short 100 shares of stock and buy a call option with strike price of 61? Assume you shorted the shares initially for $60.\n",
    "\n",
    "- This is equivalent to buying a long synthetic put with strike of 61. "
   ]
  },
  {
   "cell_type": "code",
   "execution_count": 70,
   "metadata": {},
   "outputs": [
    {
     "data": {
      "text/html": [
       "<div>\n",
       "<style scoped>\n",
       "    .dataframe tbody tr th:only-of-type {\n",
       "        vertical-align: middle;\n",
       "    }\n",
       "\n",
       "    .dataframe tbody tr th {\n",
       "        vertical-align: top;\n",
       "    }\n",
       "\n",
       "    .dataframe thead th {\n",
       "        text-align: right;\n",
       "    }\n",
       "</style>\n",
       "<table border=\"1\" class=\"dataframe\">\n",
       "  <thead>\n",
       "    <tr style=\"text-align: right;\">\n",
       "      <th></th>\n",
       "      <th>Price</th>\n",
       "      <th>Delta</th>\n",
       "      <th>Gamma</th>\n",
       "      <th>Vega</th>\n",
       "      <th>Theta</th>\n",
       "    </tr>\n",
       "  </thead>\n",
       "  <tbody>\n",
       "    <tr>\n",
       "      <th>CALL(K = 67)</th>\n",
       "      <td>0.045277</td>\n",
       "      <td>0.034063</td>\n",
       "      <td>0.021965</td>\n",
       "      <td>0.012999</td>\n",
       "      <td>-0.004607</td>\n",
       "    </tr>\n",
       "  </tbody>\n",
       "</table>\n",
       "</div>"
      ],
      "text/plain": [
       "                 Price     Delta     Gamma      Vega     Theta\n",
       "CALL(K = 67)  0.045277  0.034063  0.021965  0.012999 -0.004607"
      ]
     },
     "execution_count": 70,
     "metadata": {},
     "output_type": "execute_result"
    }
   ],
   "source": [
    "co.return_values()"
   ]
  },
  {
   "cell_type": "code",
   "execution_count": 71,
   "metadata": {},
   "outputs": [],
   "source": [
    "discounted = 61*np.exp(-r*(30/252))\n",
    "putprice= 1.0382 - 60 + discounted\n",
    "#putprice  = 178.80379221282183*1e-2"
   ]
  },
  {
   "cell_type": "code",
   "execution_count": 72,
   "metadata": {},
   "outputs": [
    {
     "data": {
      "application/vnd.plotly.v1+json": {
       "config": {
        "plotlyServerURL": "https://plot.ly"
       },
       "data": [
        {
         "hovertemplate": "variable=Short_Stock_PNL<br>index=%{x}<br>value=%{y}<extra></extra>",
         "legendgroup": "Short_Stock_PNL",
         "line": {
          "color": "#636efa",
          "dash": "solid"
         },
         "marker": {
          "symbol": "circle"
         },
         "mode": "lines",
         "name": "Short_Stock_PNL",
         "orientation": "v",
         "showlegend": true,
         "type": "scatter",
         "x": [
          50,
          50.125,
          50.25,
          50.375,
          50.5,
          50.625,
          50.75,
          50.875,
          51,
          51.125,
          51.25,
          51.375,
          51.5,
          51.625,
          51.75,
          51.875,
          52,
          52.125,
          52.25,
          52.375,
          52.5,
          52.625,
          52.75,
          52.875,
          53,
          53.125,
          53.25,
          53.375,
          53.5,
          53.625,
          53.75,
          53.875,
          54,
          54.125,
          54.25,
          54.375,
          54.5,
          54.625,
          54.75,
          54.875,
          55,
          55.125,
          55.25,
          55.375,
          55.5,
          55.625,
          55.75,
          55.875,
          56,
          56.125,
          56.25,
          56.375,
          56.5,
          56.625,
          56.75,
          56.875,
          57,
          57.125,
          57.25,
          57.375,
          57.5,
          57.625,
          57.75,
          57.875,
          58,
          58.125,
          58.25,
          58.375,
          58.5,
          58.625,
          58.75,
          58.875,
          59,
          59.125,
          59.25,
          59.375,
          59.5,
          59.625,
          59.75,
          59.875,
          60,
          60.125,
          60.25,
          60.375,
          60.5,
          60.625,
          60.75,
          60.875,
          61,
          61.125,
          61.25,
          61.375,
          61.5,
          61.625,
          61.75,
          61.875,
          62,
          62.125,
          62.25,
          62.375,
          62.5,
          62.625,
          62.75,
          62.875,
          63,
          63.125,
          63.25,
          63.375,
          63.5,
          63.625,
          63.75,
          63.875,
          64,
          64.125,
          64.25,
          64.375,
          64.5,
          64.625,
          64.75,
          64.875,
          65,
          65.125,
          65.25,
          65.375,
          65.5,
          65.625,
          65.75,
          65.875,
          66,
          66.125,
          66.25,
          66.375,
          66.5,
          66.625,
          66.75,
          66.875,
          67,
          67.125,
          67.25,
          67.375,
          67.5,
          67.625,
          67.75,
          67.875,
          68,
          68.125,
          68.25,
          68.375,
          68.5,
          68.625,
          68.75,
          68.875,
          69,
          69.125,
          69.25,
          69.375,
          69.5,
          69.625,
          69.75,
          69.875,
          70
         ],
         "xaxis": "x",
         "y": [
          1000,
          987.5,
          975,
          962.5,
          950,
          937.5,
          925,
          912.5,
          900,
          887.5,
          875,
          862.5,
          850,
          837.5,
          825,
          812.5,
          800,
          787.5,
          775,
          762.5,
          750,
          737.5,
          725,
          712.5,
          700,
          687.5,
          675,
          662.5,
          650,
          637.5,
          625,
          612.5,
          600,
          587.5,
          575,
          562.5,
          550,
          537.5,
          525,
          512.5,
          500,
          487.5,
          475,
          462.5,
          450,
          437.5,
          425,
          412.5,
          400,
          387.5,
          375,
          362.5,
          350,
          337.5,
          325,
          312.5,
          300,
          287.5,
          275,
          262.5,
          250,
          237.5,
          225,
          212.5,
          200,
          187.5,
          175,
          162.5,
          150,
          137.5,
          125,
          112.5,
          100,
          87.5,
          75,
          62.5,
          50,
          37.5,
          25,
          12.5,
          0,
          -12.5,
          -25,
          -37.5,
          -50,
          -62.5,
          -75,
          -87.5,
          -100,
          -112.5,
          -125,
          -137.5,
          -150,
          -162.5,
          -175,
          -187.5,
          -200,
          -212.5,
          -225,
          -237.5,
          -250,
          -262.5,
          -275,
          -287.5,
          -300,
          -312.5,
          -325,
          -337.5,
          -350,
          -362.5,
          -375,
          -387.5,
          -400,
          -412.5,
          -425,
          -437.5,
          -450,
          -462.5,
          -475,
          -487.5,
          -500,
          -512.5,
          -525,
          -537.5,
          -550,
          -562.5,
          -575,
          -587.5,
          -600,
          -612.5,
          -625,
          -637.5,
          -650,
          -662.5,
          -675,
          -687.5,
          -700,
          -712.5,
          -725,
          -737.5,
          -750,
          -762.5,
          -775,
          -787.5,
          -800,
          -812.5,
          -825,
          -837.5,
          -850,
          -862.5,
          -875,
          -887.5,
          -900,
          -912.5,
          -925,
          -937.5,
          -950,
          -962.5,
          -975,
          -987.5,
          -1000
         ],
         "yaxis": "y"
        },
        {
         "hovertemplate": "variable=Call(K=61)<br>index=%{x}<br>value=%{y}<extra></extra>",
         "legendgroup": "Call(K=61)",
         "line": {
          "color": "#EF553B",
          "dash": "solid"
         },
         "marker": {
          "symbol": "circle"
         },
         "mode": "lines",
         "name": "Call(K=61)",
         "orientation": "v",
         "showlegend": true,
         "type": "scatter",
         "x": [
          50,
          50.125,
          50.25,
          50.375,
          50.5,
          50.625,
          50.75,
          50.875,
          51,
          51.125,
          51.25,
          51.375,
          51.5,
          51.625,
          51.75,
          51.875,
          52,
          52.125,
          52.25,
          52.375,
          52.5,
          52.625,
          52.75,
          52.875,
          53,
          53.125,
          53.25,
          53.375,
          53.5,
          53.625,
          53.75,
          53.875,
          54,
          54.125,
          54.25,
          54.375,
          54.5,
          54.625,
          54.75,
          54.875,
          55,
          55.125,
          55.25,
          55.375,
          55.5,
          55.625,
          55.75,
          55.875,
          56,
          56.125,
          56.25,
          56.375,
          56.5,
          56.625,
          56.75,
          56.875,
          57,
          57.125,
          57.25,
          57.375,
          57.5,
          57.625,
          57.75,
          57.875,
          58,
          58.125,
          58.25,
          58.375,
          58.5,
          58.625,
          58.75,
          58.875,
          59,
          59.125,
          59.25,
          59.375,
          59.5,
          59.625,
          59.75,
          59.875,
          60,
          60.125,
          60.25,
          60.375,
          60.5,
          60.625,
          60.75,
          60.875,
          61,
          61.125,
          61.25,
          61.375,
          61.5,
          61.625,
          61.75,
          61.875,
          62,
          62.125,
          62.25,
          62.375,
          62.5,
          62.625,
          62.75,
          62.875,
          63,
          63.125,
          63.25,
          63.375,
          63.5,
          63.625,
          63.75,
          63.875,
          64,
          64.125,
          64.25,
          64.375,
          64.5,
          64.625,
          64.75,
          64.875,
          65,
          65.125,
          65.25,
          65.375,
          65.5,
          65.625,
          65.75,
          65.875,
          66,
          66.125,
          66.25,
          66.375,
          66.5,
          66.625,
          66.75,
          66.875,
          67,
          67.125,
          67.25,
          67.375,
          67.5,
          67.625,
          67.75,
          67.875,
          68,
          68.125,
          68.25,
          68.375,
          68.5,
          68.625,
          68.75,
          68.875,
          69,
          69.125,
          69.25,
          69.375,
          69.5,
          69.625,
          69.75,
          69.875,
          70
         ],
         "xaxis": "x",
         "y": [
          -103.82000000000001,
          -103.82000000000001,
          -103.82000000000001,
          -103.82000000000001,
          -103.82000000000001,
          -103.82000000000001,
          -103.82000000000001,
          -103.82000000000001,
          -103.82000000000001,
          -103.82000000000001,
          -103.82000000000001,
          -103.82000000000001,
          -103.82000000000001,
          -103.82000000000001,
          -103.82000000000001,
          -103.82000000000001,
          -103.82000000000001,
          -103.82000000000001,
          -103.82000000000001,
          -103.82000000000001,
          -103.82000000000001,
          -103.82000000000001,
          -103.82000000000001,
          -103.82000000000001,
          -103.82000000000001,
          -103.82000000000001,
          -103.82000000000001,
          -103.82000000000001,
          -103.82000000000001,
          -103.82000000000001,
          -103.82000000000001,
          -103.82000000000001,
          -103.82000000000001,
          -103.82000000000001,
          -103.82000000000001,
          -103.82000000000001,
          -103.82000000000001,
          -103.82000000000001,
          -103.82000000000001,
          -103.82000000000001,
          -103.82000000000001,
          -103.82000000000001,
          -103.82000000000001,
          -103.82000000000001,
          -103.82000000000001,
          -103.82000000000001,
          -103.82000000000001,
          -103.82000000000001,
          -103.82000000000001,
          -103.82000000000001,
          -103.82000000000001,
          -103.82000000000001,
          -103.82000000000001,
          -103.82000000000001,
          -103.82000000000001,
          -103.82000000000001,
          -103.82000000000001,
          -103.82000000000001,
          -103.82000000000001,
          -103.82000000000001,
          -103.82000000000001,
          -103.82000000000001,
          -103.82000000000001,
          -103.82000000000001,
          -103.82000000000001,
          -103.82000000000001,
          -103.82000000000001,
          -103.82000000000001,
          -103.82000000000001,
          -103.82000000000001,
          -103.82000000000001,
          -103.82000000000001,
          -103.82000000000001,
          -103.82000000000001,
          -103.82000000000001,
          -103.82000000000001,
          -103.82000000000001,
          -103.82000000000001,
          -103.82000000000001,
          -103.82000000000001,
          -103.82000000000001,
          -103.82000000000001,
          -103.82000000000001,
          -103.82000000000001,
          -103.82000000000001,
          -103.82000000000001,
          -103.82000000000001,
          -103.82000000000001,
          -103.82000000000001,
          -91.32000000000001,
          -78.82000000000001,
          -66.32000000000001,
          -53.82000000000001,
          -41.32000000000001,
          -28.820000000000007,
          -16.320000000000007,
          -3.8200000000000074,
          8.679999999999993,
          21.179999999999993,
          33.67999999999999,
          46.17999999999999,
          58.67999999999999,
          71.17999999999999,
          83.67999999999999,
          96.17999999999999,
          108.67999999999999,
          121.17999999999999,
          133.68,
          146.18,
          158.68,
          171.18,
          183.68,
          196.18,
          208.68,
          221.18,
          233.68,
          246.18,
          258.68,
          271.18,
          283.68,
          296.18,
          308.68,
          321.18,
          333.68,
          346.18,
          358.68,
          371.18,
          383.68,
          396.18,
          408.68,
          421.18,
          433.68,
          446.18,
          458.68,
          471.18,
          483.68,
          496.18,
          508.68,
          521.18,
          533.68,
          546.18,
          558.68,
          571.18,
          583.68,
          596.18,
          608.68,
          621.18,
          633.68,
          646.18,
          658.68,
          671.18,
          683.68,
          696.18,
          708.68,
          721.18,
          733.68,
          746.18,
          758.68,
          771.18,
          783.68,
          796.18
         ],
         "yaxis": "y"
        },
        {
         "hovertemplate": "variable=Synthetic_Put<br>index=%{x}<br>value=%{y}<extra></extra>",
         "legendgroup": "Synthetic_Put",
         "line": {
          "color": "#00cc96",
          "dash": "solid"
         },
         "marker": {
          "symbol": "circle"
         },
         "mode": "lines",
         "name": "Synthetic_Put",
         "orientation": "v",
         "showlegend": true,
         "type": "scatter",
         "x": [
          50,
          50.125,
          50.25,
          50.375,
          50.5,
          50.625,
          50.75,
          50.875,
          51,
          51.125,
          51.25,
          51.375,
          51.5,
          51.625,
          51.75,
          51.875,
          52,
          52.125,
          52.25,
          52.375,
          52.5,
          52.625,
          52.75,
          52.875,
          53,
          53.125,
          53.25,
          53.375,
          53.5,
          53.625,
          53.75,
          53.875,
          54,
          54.125,
          54.25,
          54.375,
          54.5,
          54.625,
          54.75,
          54.875,
          55,
          55.125,
          55.25,
          55.375,
          55.5,
          55.625,
          55.75,
          55.875,
          56,
          56.125,
          56.25,
          56.375,
          56.5,
          56.625,
          56.75,
          56.875,
          57,
          57.125,
          57.25,
          57.375,
          57.5,
          57.625,
          57.75,
          57.875,
          58,
          58.125,
          58.25,
          58.375,
          58.5,
          58.625,
          58.75,
          58.875,
          59,
          59.125,
          59.25,
          59.375,
          59.5,
          59.625,
          59.75,
          59.875,
          60,
          60.125,
          60.25,
          60.375,
          60.5,
          60.625,
          60.75,
          60.875,
          61,
          61.125,
          61.25,
          61.375,
          61.5,
          61.625,
          61.75,
          61.875,
          62,
          62.125,
          62.25,
          62.375,
          62.5,
          62.625,
          62.75,
          62.875,
          63,
          63.125,
          63.25,
          63.375,
          63.5,
          63.625,
          63.75,
          63.875,
          64,
          64.125,
          64.25,
          64.375,
          64.5,
          64.625,
          64.75,
          64.875,
          65,
          65.125,
          65.25,
          65.375,
          65.5,
          65.625,
          65.75,
          65.875,
          66,
          66.125,
          66.25,
          66.375,
          66.5,
          66.625,
          66.75,
          66.875,
          67,
          67.125,
          67.25,
          67.375,
          67.5,
          67.625,
          67.75,
          67.875,
          68,
          68.125,
          68.25,
          68.375,
          68.5,
          68.625,
          68.75,
          68.875,
          69,
          69.125,
          69.25,
          69.375,
          69.5,
          69.625,
          69.75,
          69.875,
          70
         ],
         "xaxis": "x",
         "y": [
          896.18,
          883.68,
          871.18,
          858.68,
          846.18,
          833.68,
          821.18,
          808.68,
          796.18,
          783.68,
          771.18,
          758.68,
          746.18,
          733.68,
          721.18,
          708.68,
          696.18,
          683.68,
          671.18,
          658.68,
          646.18,
          633.68,
          621.18,
          608.68,
          596.18,
          583.68,
          571.18,
          558.68,
          546.18,
          533.68,
          521.18,
          508.68,
          496.18,
          483.68,
          471.18,
          458.68,
          446.18,
          433.68,
          421.18,
          408.68,
          396.18,
          383.68,
          371.18,
          358.68,
          346.18,
          333.68,
          321.18,
          308.68,
          296.18,
          283.68,
          271.18,
          258.68,
          246.18,
          233.68,
          221.18,
          208.68,
          196.18,
          183.68,
          171.18,
          158.68,
          146.18,
          133.68,
          121.17999999999999,
          108.67999999999999,
          96.17999999999999,
          83.67999999999999,
          71.17999999999999,
          58.67999999999999,
          46.17999999999999,
          33.67999999999999,
          21.179999999999993,
          8.679999999999993,
          -3.8200000000000074,
          -16.320000000000007,
          -28.820000000000007,
          -41.32000000000001,
          -53.82000000000001,
          -66.32000000000001,
          -78.82000000000001,
          -91.32000000000001,
          -103.82000000000001,
          -116.32000000000001,
          -128.82,
          -141.32,
          -153.82,
          -166.32,
          -178.82,
          -191.32,
          -203.82,
          -203.82,
          -203.82,
          -203.82,
          -203.82,
          -203.82,
          -203.82,
          -203.82,
          -203.82,
          -203.82,
          -203.82,
          -203.82,
          -203.82,
          -203.82,
          -203.82,
          -203.82,
          -203.82,
          -203.82,
          -203.82,
          -203.82,
          -203.82,
          -203.82,
          -203.82,
          -203.82,
          -203.82,
          -203.82,
          -203.82,
          -203.82,
          -203.82,
          -203.82,
          -203.82,
          -203.82,
          -203.82,
          -203.82,
          -203.82,
          -203.82,
          -203.82,
          -203.82,
          -203.82,
          -203.82,
          -203.82,
          -203.82,
          -203.82,
          -203.82,
          -203.82,
          -203.82,
          -203.82,
          -203.82,
          -203.82,
          -203.82,
          -203.82000000000005,
          -203.82000000000005,
          -203.82000000000005,
          -203.82000000000005,
          -203.82000000000005,
          -203.82000000000005,
          -203.82000000000005,
          -203.82000000000005,
          -203.82000000000005,
          -203.82000000000005,
          -203.82000000000005,
          -203.82000000000005,
          -203.82000000000005,
          -203.82000000000005,
          -203.82000000000005,
          -203.82000000000005,
          -203.82000000000005,
          -203.82000000000005,
          -203.82000000000005,
          -203.82000000000005,
          -203.82000000000005,
          -203.82000000000005,
          -203.82000000000005
         ],
         "yaxis": "y"
        }
       ],
       "layout": {
        "legend": {
         "title": {
          "text": "variable"
         },
         "tracegroupgap": 0
        },
        "margin": {
         "t": 60
        },
        "template": {
         "data": {
          "bar": [
           {
            "error_x": {
             "color": "#2a3f5f"
            },
            "error_y": {
             "color": "#2a3f5f"
            },
            "marker": {
             "line": {
              "color": "#E5ECF6",
              "width": 0.5
             },
             "pattern": {
              "fillmode": "overlay",
              "size": 10,
              "solidity": 0.2
             }
            },
            "type": "bar"
           }
          ],
          "barpolar": [
           {
            "marker": {
             "line": {
              "color": "#E5ECF6",
              "width": 0.5
             },
             "pattern": {
              "fillmode": "overlay",
              "size": 10,
              "solidity": 0.2
             }
            },
            "type": "barpolar"
           }
          ],
          "carpet": [
           {
            "aaxis": {
             "endlinecolor": "#2a3f5f",
             "gridcolor": "white",
             "linecolor": "white",
             "minorgridcolor": "white",
             "startlinecolor": "#2a3f5f"
            },
            "baxis": {
             "endlinecolor": "#2a3f5f",
             "gridcolor": "white",
             "linecolor": "white",
             "minorgridcolor": "white",
             "startlinecolor": "#2a3f5f"
            },
            "type": "carpet"
           }
          ],
          "choropleth": [
           {
            "colorbar": {
             "outlinewidth": 0,
             "ticks": ""
            },
            "type": "choropleth"
           }
          ],
          "contour": [
           {
            "colorbar": {
             "outlinewidth": 0,
             "ticks": ""
            },
            "colorscale": [
             [
              0,
              "#0d0887"
             ],
             [
              0.1111111111111111,
              "#46039f"
             ],
             [
              0.2222222222222222,
              "#7201a8"
             ],
             [
              0.3333333333333333,
              "#9c179e"
             ],
             [
              0.4444444444444444,
              "#bd3786"
             ],
             [
              0.5555555555555556,
              "#d8576b"
             ],
             [
              0.6666666666666666,
              "#ed7953"
             ],
             [
              0.7777777777777778,
              "#fb9f3a"
             ],
             [
              0.8888888888888888,
              "#fdca26"
             ],
             [
              1,
              "#f0f921"
             ]
            ],
            "type": "contour"
           }
          ],
          "contourcarpet": [
           {
            "colorbar": {
             "outlinewidth": 0,
             "ticks": ""
            },
            "type": "contourcarpet"
           }
          ],
          "heatmap": [
           {
            "colorbar": {
             "outlinewidth": 0,
             "ticks": ""
            },
            "colorscale": [
             [
              0,
              "#0d0887"
             ],
             [
              0.1111111111111111,
              "#46039f"
             ],
             [
              0.2222222222222222,
              "#7201a8"
             ],
             [
              0.3333333333333333,
              "#9c179e"
             ],
             [
              0.4444444444444444,
              "#bd3786"
             ],
             [
              0.5555555555555556,
              "#d8576b"
             ],
             [
              0.6666666666666666,
              "#ed7953"
             ],
             [
              0.7777777777777778,
              "#fb9f3a"
             ],
             [
              0.8888888888888888,
              "#fdca26"
             ],
             [
              1,
              "#f0f921"
             ]
            ],
            "type": "heatmap"
           }
          ],
          "heatmapgl": [
           {
            "colorbar": {
             "outlinewidth": 0,
             "ticks": ""
            },
            "colorscale": [
             [
              0,
              "#0d0887"
             ],
             [
              0.1111111111111111,
              "#46039f"
             ],
             [
              0.2222222222222222,
              "#7201a8"
             ],
             [
              0.3333333333333333,
              "#9c179e"
             ],
             [
              0.4444444444444444,
              "#bd3786"
             ],
             [
              0.5555555555555556,
              "#d8576b"
             ],
             [
              0.6666666666666666,
              "#ed7953"
             ],
             [
              0.7777777777777778,
              "#fb9f3a"
             ],
             [
              0.8888888888888888,
              "#fdca26"
             ],
             [
              1,
              "#f0f921"
             ]
            ],
            "type": "heatmapgl"
           }
          ],
          "histogram": [
           {
            "marker": {
             "pattern": {
              "fillmode": "overlay",
              "size": 10,
              "solidity": 0.2
             }
            },
            "type": "histogram"
           }
          ],
          "histogram2d": [
           {
            "colorbar": {
             "outlinewidth": 0,
             "ticks": ""
            },
            "colorscale": [
             [
              0,
              "#0d0887"
             ],
             [
              0.1111111111111111,
              "#46039f"
             ],
             [
              0.2222222222222222,
              "#7201a8"
             ],
             [
              0.3333333333333333,
              "#9c179e"
             ],
             [
              0.4444444444444444,
              "#bd3786"
             ],
             [
              0.5555555555555556,
              "#d8576b"
             ],
             [
              0.6666666666666666,
              "#ed7953"
             ],
             [
              0.7777777777777778,
              "#fb9f3a"
             ],
             [
              0.8888888888888888,
              "#fdca26"
             ],
             [
              1,
              "#f0f921"
             ]
            ],
            "type": "histogram2d"
           }
          ],
          "histogram2dcontour": [
           {
            "colorbar": {
             "outlinewidth": 0,
             "ticks": ""
            },
            "colorscale": [
             [
              0,
              "#0d0887"
             ],
             [
              0.1111111111111111,
              "#46039f"
             ],
             [
              0.2222222222222222,
              "#7201a8"
             ],
             [
              0.3333333333333333,
              "#9c179e"
             ],
             [
              0.4444444444444444,
              "#bd3786"
             ],
             [
              0.5555555555555556,
              "#d8576b"
             ],
             [
              0.6666666666666666,
              "#ed7953"
             ],
             [
              0.7777777777777778,
              "#fb9f3a"
             ],
             [
              0.8888888888888888,
              "#fdca26"
             ],
             [
              1,
              "#f0f921"
             ]
            ],
            "type": "histogram2dcontour"
           }
          ],
          "mesh3d": [
           {
            "colorbar": {
             "outlinewidth": 0,
             "ticks": ""
            },
            "type": "mesh3d"
           }
          ],
          "parcoords": [
           {
            "line": {
             "colorbar": {
              "outlinewidth": 0,
              "ticks": ""
             }
            },
            "type": "parcoords"
           }
          ],
          "pie": [
           {
            "automargin": true,
            "type": "pie"
           }
          ],
          "scatter": [
           {
            "fillpattern": {
             "fillmode": "overlay",
             "size": 10,
             "solidity": 0.2
            },
            "type": "scatter"
           }
          ],
          "scatter3d": [
           {
            "line": {
             "colorbar": {
              "outlinewidth": 0,
              "ticks": ""
             }
            },
            "marker": {
             "colorbar": {
              "outlinewidth": 0,
              "ticks": ""
             }
            },
            "type": "scatter3d"
           }
          ],
          "scattercarpet": [
           {
            "marker": {
             "colorbar": {
              "outlinewidth": 0,
              "ticks": ""
             }
            },
            "type": "scattercarpet"
           }
          ],
          "scattergeo": [
           {
            "marker": {
             "colorbar": {
              "outlinewidth": 0,
              "ticks": ""
             }
            },
            "type": "scattergeo"
           }
          ],
          "scattergl": [
           {
            "marker": {
             "colorbar": {
              "outlinewidth": 0,
              "ticks": ""
             }
            },
            "type": "scattergl"
           }
          ],
          "scattermapbox": [
           {
            "marker": {
             "colorbar": {
              "outlinewidth": 0,
              "ticks": ""
             }
            },
            "type": "scattermapbox"
           }
          ],
          "scatterpolar": [
           {
            "marker": {
             "colorbar": {
              "outlinewidth": 0,
              "ticks": ""
             }
            },
            "type": "scatterpolar"
           }
          ],
          "scatterpolargl": [
           {
            "marker": {
             "colorbar": {
              "outlinewidth": 0,
              "ticks": ""
             }
            },
            "type": "scatterpolargl"
           }
          ],
          "scatterternary": [
           {
            "marker": {
             "colorbar": {
              "outlinewidth": 0,
              "ticks": ""
             }
            },
            "type": "scatterternary"
           }
          ],
          "surface": [
           {
            "colorbar": {
             "outlinewidth": 0,
             "ticks": ""
            },
            "colorscale": [
             [
              0,
              "#0d0887"
             ],
             [
              0.1111111111111111,
              "#46039f"
             ],
             [
              0.2222222222222222,
              "#7201a8"
             ],
             [
              0.3333333333333333,
              "#9c179e"
             ],
             [
              0.4444444444444444,
              "#bd3786"
             ],
             [
              0.5555555555555556,
              "#d8576b"
             ],
             [
              0.6666666666666666,
              "#ed7953"
             ],
             [
              0.7777777777777778,
              "#fb9f3a"
             ],
             [
              0.8888888888888888,
              "#fdca26"
             ],
             [
              1,
              "#f0f921"
             ]
            ],
            "type": "surface"
           }
          ],
          "table": [
           {
            "cells": {
             "fill": {
              "color": "#EBF0F8"
             },
             "line": {
              "color": "white"
             }
            },
            "header": {
             "fill": {
              "color": "#C8D4E3"
             },
             "line": {
              "color": "white"
             }
            },
            "type": "table"
           }
          ]
         },
         "layout": {
          "annotationdefaults": {
           "arrowcolor": "#2a3f5f",
           "arrowhead": 0,
           "arrowwidth": 1
          },
          "autotypenumbers": "strict",
          "coloraxis": {
           "colorbar": {
            "outlinewidth": 0,
            "ticks": ""
           }
          },
          "colorscale": {
           "diverging": [
            [
             0,
             "#8e0152"
            ],
            [
             0.1,
             "#c51b7d"
            ],
            [
             0.2,
             "#de77ae"
            ],
            [
             0.3,
             "#f1b6da"
            ],
            [
             0.4,
             "#fde0ef"
            ],
            [
             0.5,
             "#f7f7f7"
            ],
            [
             0.6,
             "#e6f5d0"
            ],
            [
             0.7,
             "#b8e186"
            ],
            [
             0.8,
             "#7fbc41"
            ],
            [
             0.9,
             "#4d9221"
            ],
            [
             1,
             "#276419"
            ]
           ],
           "sequential": [
            [
             0,
             "#0d0887"
            ],
            [
             0.1111111111111111,
             "#46039f"
            ],
            [
             0.2222222222222222,
             "#7201a8"
            ],
            [
             0.3333333333333333,
             "#9c179e"
            ],
            [
             0.4444444444444444,
             "#bd3786"
            ],
            [
             0.5555555555555556,
             "#d8576b"
            ],
            [
             0.6666666666666666,
             "#ed7953"
            ],
            [
             0.7777777777777778,
             "#fb9f3a"
            ],
            [
             0.8888888888888888,
             "#fdca26"
            ],
            [
             1,
             "#f0f921"
            ]
           ],
           "sequentialminus": [
            [
             0,
             "#0d0887"
            ],
            [
             0.1111111111111111,
             "#46039f"
            ],
            [
             0.2222222222222222,
             "#7201a8"
            ],
            [
             0.3333333333333333,
             "#9c179e"
            ],
            [
             0.4444444444444444,
             "#bd3786"
            ],
            [
             0.5555555555555556,
             "#d8576b"
            ],
            [
             0.6666666666666666,
             "#ed7953"
            ],
            [
             0.7777777777777778,
             "#fb9f3a"
            ],
            [
             0.8888888888888888,
             "#fdca26"
            ],
            [
             1,
             "#f0f921"
            ]
           ]
          },
          "colorway": [
           "#636efa",
           "#EF553B",
           "#00cc96",
           "#ab63fa",
           "#FFA15A",
           "#19d3f3",
           "#FF6692",
           "#B6E880",
           "#FF97FF",
           "#FECB52"
          ],
          "font": {
           "color": "#2a3f5f"
          },
          "geo": {
           "bgcolor": "white",
           "lakecolor": "white",
           "landcolor": "#E5ECF6",
           "showlakes": true,
           "showland": true,
           "subunitcolor": "white"
          },
          "hoverlabel": {
           "align": "left"
          },
          "hovermode": "closest",
          "mapbox": {
           "style": "light"
          },
          "paper_bgcolor": "white",
          "plot_bgcolor": "#E5ECF6",
          "polar": {
           "angularaxis": {
            "gridcolor": "white",
            "linecolor": "white",
            "ticks": ""
           },
           "bgcolor": "#E5ECF6",
           "radialaxis": {
            "gridcolor": "white",
            "linecolor": "white",
            "ticks": ""
           }
          },
          "scene": {
           "xaxis": {
            "backgroundcolor": "#E5ECF6",
            "gridcolor": "white",
            "gridwidth": 2,
            "linecolor": "white",
            "showbackground": true,
            "ticks": "",
            "zerolinecolor": "white"
           },
           "yaxis": {
            "backgroundcolor": "#E5ECF6",
            "gridcolor": "white",
            "gridwidth": 2,
            "linecolor": "white",
            "showbackground": true,
            "ticks": "",
            "zerolinecolor": "white"
           },
           "zaxis": {
            "backgroundcolor": "#E5ECF6",
            "gridcolor": "white",
            "gridwidth": 2,
            "linecolor": "white",
            "showbackground": true,
            "ticks": "",
            "zerolinecolor": "white"
           }
          },
          "shapedefaults": {
           "line": {
            "color": "#2a3f5f"
           }
          },
          "ternary": {
           "aaxis": {
            "gridcolor": "white",
            "linecolor": "white",
            "ticks": ""
           },
           "baxis": {
            "gridcolor": "white",
            "linecolor": "white",
            "ticks": ""
           },
           "bgcolor": "#E5ECF6",
           "caxis": {
            "gridcolor": "white",
            "linecolor": "white",
            "ticks": ""
           }
          },
          "title": {
           "x": 0.05
          },
          "xaxis": {
           "automargin": true,
           "gridcolor": "white",
           "linecolor": "white",
           "ticks": "",
           "title": {
            "standoff": 15
           },
           "zerolinecolor": "white",
           "zerolinewidth": 2
          },
          "yaxis": {
           "automargin": true,
           "gridcolor": "white",
           "linecolor": "white",
           "ticks": "",
           "title": {
            "standoff": 15
           },
           "zerolinecolor": "white",
           "zerolinewidth": 2
          }
         }
        },
        "xaxis": {
         "anchor": "y",
         "domain": [
          0,
          1
         ],
         "title": {
          "text": "index"
         }
        },
        "yaxis": {
         "anchor": "x",
         "domain": [
          0,
          1
         ],
         "title": {
          "text": "value"
         }
        }
       }
      }
     },
     "metadata": {},
     "output_type": "display_data"
    }
   ],
   "source": [
    "# using the previous example\n",
    "co.K = 61\n",
    "\n",
    "valueP = pd.DataFrame(-100*(Ss-spot),index = Ss,columns = ['Short_Stock_PNL']) \n",
    "valueP['Call(K=61)'] = np.maximum(Ss-61,0)*100 - 1.0382*100\n",
    "valueP['Synthetic_Put'] = valueP.sum(axis = 1)\n",
    "px.line(valueP)"
   ]
  },
  {
   "cell_type": "markdown",
   "metadata": {},
   "source": [
    "- That is the payoff of your synthetic put. What would you pay for this put?\n",
    "\n",
    "This put is equal to:\n",
    "\n",
    "\\begin{align}\n",
    "\n",
    "P_0 &= C_o + Ke^{-r\\tau} - S_0 \\\\\n",
    "\n",
    "P_0 &= 1.03 +60.637 - 60 = \\$1.676\n",
    "\n",
    "\\end{align}\n",
    "\n",
    "- a long call option plus a short position in stock is equal to a long put option less a certain amount of cash $Ke^{r\\tau}$. "
   ]
  },
  {
   "cell_type": "code",
   "execution_count": 73,
   "metadata": {},
   "outputs": [
    {
     "data": {
      "application/vnd.plotly.v1+json": {
       "config": {
        "plotlyServerURL": "https://plot.ly"
       },
       "data": [
        {
         "hovertemplate": "variable=Synthetic_Put61<br>index=%{x}<br>value=%{y}<extra></extra>",
         "legendgroup": "Synthetic_Put61",
         "line": {
          "color": "#636efa",
          "dash": "solid"
         },
         "marker": {
          "symbol": "circle"
         },
         "mode": "lines",
         "name": "Synthetic_Put61",
         "orientation": "v",
         "showlegend": true,
         "type": "scatter",
         "x": [
          50,
          50.125,
          50.25,
          50.375,
          50.5,
          50.625,
          50.75,
          50.875,
          51,
          51.125,
          51.25,
          51.375,
          51.5,
          51.625,
          51.75,
          51.875,
          52,
          52.125,
          52.25,
          52.375,
          52.5,
          52.625,
          52.75,
          52.875,
          53,
          53.125,
          53.25,
          53.375,
          53.5,
          53.625,
          53.75,
          53.875,
          54,
          54.125,
          54.25,
          54.375,
          54.5,
          54.625,
          54.75,
          54.875,
          55,
          55.125,
          55.25,
          55.375,
          55.5,
          55.625,
          55.75,
          55.875,
          56,
          56.125,
          56.25,
          56.375,
          56.5,
          56.625,
          56.75,
          56.875,
          57,
          57.125,
          57.25,
          57.375,
          57.5,
          57.625,
          57.75,
          57.875,
          58,
          58.125,
          58.25,
          58.375,
          58.5,
          58.625,
          58.75,
          58.875,
          59,
          59.125,
          59.25,
          59.375,
          59.5,
          59.625,
          59.75,
          59.875,
          60,
          60.125,
          60.25,
          60.375,
          60.5,
          60.625,
          60.75,
          60.875,
          61,
          61.125,
          61.25,
          61.375,
          61.5,
          61.625,
          61.75,
          61.875,
          62,
          62.125,
          62.25,
          62.375,
          62.5,
          62.625,
          62.75,
          62.875,
          63,
          63.125,
          63.25,
          63.375,
          63.5,
          63.625,
          63.75,
          63.875,
          64,
          64.125,
          64.25,
          64.375,
          64.5,
          64.625,
          64.75,
          64.875,
          65,
          65.125,
          65.25,
          65.375,
          65.5,
          65.625,
          65.75,
          65.875,
          66,
          66.125,
          66.25,
          66.375,
          66.5,
          66.625,
          66.75,
          66.875,
          67,
          67.125,
          67.25,
          67.375,
          67.5,
          67.625,
          67.75,
          67.875,
          68,
          68.125,
          68.25,
          68.375,
          68.5,
          68.625,
          68.75,
          68.875,
          69,
          69.125,
          69.25,
          69.375,
          69.5,
          69.625,
          69.75,
          69.875,
          70
         ],
         "xaxis": "x",
         "y": [
          896.3816738446951,
          883.8816738446951,
          871.3816738446951,
          858.8816738446951,
          846.3816738446951,
          833.8816738446951,
          821.3816738446951,
          808.8816738446951,
          796.3816738446951,
          783.8816738446951,
          771.3816738446951,
          758.8816738446951,
          746.3816738446951,
          733.8816738446951,
          721.3816738446951,
          708.8816738446951,
          696.3816738446951,
          683.8816738446951,
          671.3816738446951,
          658.8816738446951,
          646.3816738446951,
          633.8816738446951,
          621.3816738446951,
          608.8816738446951,
          596.3816738446951,
          583.8816738446951,
          571.3816738446951,
          558.8816738446951,
          546.3816738446951,
          533.8816738446951,
          521.3816738446951,
          508.8816738446951,
          496.3816738446951,
          483.8816738446951,
          471.38167384469506,
          458.88167384469506,
          446.38167384469506,
          433.88167384469506,
          421.38167384469506,
          408.88167384469506,
          396.38167384469506,
          383.88167384469506,
          371.38167384469506,
          358.88167384469506,
          346.38167384469506,
          333.88167384469506,
          321.38167384469506,
          308.88167384469506,
          296.38167384469506,
          283.88167384469506,
          271.38167384469506,
          258.88167384469506,
          246.38167384469506,
          233.88167384469506,
          221.38167384469506,
          208.88167384469506,
          196.38167384469506,
          183.88167384469506,
          171.38167384469506,
          158.88167384469506,
          146.38167384469506,
          133.88167384469506,
          121.38167384469506,
          108.88167384469506,
          96.38167384469506,
          83.88167384469506,
          71.38167384469506,
          58.88167384469506,
          46.38167384469506,
          33.88167384469506,
          21.381673844695058,
          8.881673844695058,
          -3.618326155304942,
          -16.118326155304942,
          -28.618326155304942,
          -41.11832615530494,
          -53.61832615530494,
          -66.11832615530494,
          -78.61832615530494,
          -91.11832615530494,
          -103.61832615530494,
          -116.11832615530494,
          -128.61832615530494,
          -141.11832615530494,
          -153.61832615530494,
          -166.11832615530494,
          -178.61832615530494,
          -191.11832615530494,
          -203.61832615530494,
          -203.61832615530494,
          -203.61832615530494,
          -203.61832615530494,
          -203.61832615530494,
          -203.61832615530494,
          -203.61832615530494,
          -203.61832615530494,
          -203.61832615530494,
          -203.61832615530494,
          -203.61832615530494,
          -203.61832615530494,
          -203.61832615530494,
          -203.61832615530494,
          -203.61832615530494,
          -203.61832615530494,
          -203.61832615530494,
          -203.61832615530494,
          -203.61832615530494,
          -203.61832615530494,
          -203.61832615530494,
          -203.61832615530494,
          -203.61832615530494,
          -203.61832615530494,
          -203.61832615530494,
          -203.61832615530494,
          -203.61832615530494,
          -203.61832615530494,
          -203.61832615530494,
          -203.61832615530494,
          -203.61832615530494,
          -203.61832615530494,
          -203.61832615530494,
          -203.61832615530494,
          -203.61832615530494,
          -203.61832615530494,
          -203.61832615530494,
          -203.61832615530494,
          -203.61832615530494,
          -203.61832615530494,
          -203.61832615530494,
          -203.61832615530494,
          -203.61832615530494,
          -203.61832615530494,
          -203.61832615530494,
          -203.61832615530494,
          -203.61832615530494,
          -203.61832615530494,
          -203.61832615530494,
          -203.61832615530494,
          -203.61832615530494,
          -203.61832615530494,
          -203.61832615530494,
          -203.61832615530494,
          -203.61832615530494,
          -203.61832615530494,
          -203.61832615530494,
          -203.61832615530494,
          -203.61832615530494,
          -203.61832615530494,
          -203.61832615530494,
          -203.61832615530494,
          -203.61832615530494,
          -203.61832615530494,
          -203.61832615530494,
          -203.61832615530494,
          -203.61832615530494,
          -203.61832615530494,
          -203.61832615530494,
          -203.61832615530494,
          -203.61832615530494,
          -203.61832615530494,
          -203.61832615530494
         ],
         "yaxis": "y"
        }
       ],
       "layout": {
        "legend": {
         "title": {
          "text": "variable"
         },
         "tracegroupgap": 0
        },
        "margin": {
         "t": 60
        },
        "template": {
         "data": {
          "bar": [
           {
            "error_x": {
             "color": "#2a3f5f"
            },
            "error_y": {
             "color": "#2a3f5f"
            },
            "marker": {
             "line": {
              "color": "#E5ECF6",
              "width": 0.5
             },
             "pattern": {
              "fillmode": "overlay",
              "size": 10,
              "solidity": 0.2
             }
            },
            "type": "bar"
           }
          ],
          "barpolar": [
           {
            "marker": {
             "line": {
              "color": "#E5ECF6",
              "width": 0.5
             },
             "pattern": {
              "fillmode": "overlay",
              "size": 10,
              "solidity": 0.2
             }
            },
            "type": "barpolar"
           }
          ],
          "carpet": [
           {
            "aaxis": {
             "endlinecolor": "#2a3f5f",
             "gridcolor": "white",
             "linecolor": "white",
             "minorgridcolor": "white",
             "startlinecolor": "#2a3f5f"
            },
            "baxis": {
             "endlinecolor": "#2a3f5f",
             "gridcolor": "white",
             "linecolor": "white",
             "minorgridcolor": "white",
             "startlinecolor": "#2a3f5f"
            },
            "type": "carpet"
           }
          ],
          "choropleth": [
           {
            "colorbar": {
             "outlinewidth": 0,
             "ticks": ""
            },
            "type": "choropleth"
           }
          ],
          "contour": [
           {
            "colorbar": {
             "outlinewidth": 0,
             "ticks": ""
            },
            "colorscale": [
             [
              0,
              "#0d0887"
             ],
             [
              0.1111111111111111,
              "#46039f"
             ],
             [
              0.2222222222222222,
              "#7201a8"
             ],
             [
              0.3333333333333333,
              "#9c179e"
             ],
             [
              0.4444444444444444,
              "#bd3786"
             ],
             [
              0.5555555555555556,
              "#d8576b"
             ],
             [
              0.6666666666666666,
              "#ed7953"
             ],
             [
              0.7777777777777778,
              "#fb9f3a"
             ],
             [
              0.8888888888888888,
              "#fdca26"
             ],
             [
              1,
              "#f0f921"
             ]
            ],
            "type": "contour"
           }
          ],
          "contourcarpet": [
           {
            "colorbar": {
             "outlinewidth": 0,
             "ticks": ""
            },
            "type": "contourcarpet"
           }
          ],
          "heatmap": [
           {
            "colorbar": {
             "outlinewidth": 0,
             "ticks": ""
            },
            "colorscale": [
             [
              0,
              "#0d0887"
             ],
             [
              0.1111111111111111,
              "#46039f"
             ],
             [
              0.2222222222222222,
              "#7201a8"
             ],
             [
              0.3333333333333333,
              "#9c179e"
             ],
             [
              0.4444444444444444,
              "#bd3786"
             ],
             [
              0.5555555555555556,
              "#d8576b"
             ],
             [
              0.6666666666666666,
              "#ed7953"
             ],
             [
              0.7777777777777778,
              "#fb9f3a"
             ],
             [
              0.8888888888888888,
              "#fdca26"
             ],
             [
              1,
              "#f0f921"
             ]
            ],
            "type": "heatmap"
           }
          ],
          "heatmapgl": [
           {
            "colorbar": {
             "outlinewidth": 0,
             "ticks": ""
            },
            "colorscale": [
             [
              0,
              "#0d0887"
             ],
             [
              0.1111111111111111,
              "#46039f"
             ],
             [
              0.2222222222222222,
              "#7201a8"
             ],
             [
              0.3333333333333333,
              "#9c179e"
             ],
             [
              0.4444444444444444,
              "#bd3786"
             ],
             [
              0.5555555555555556,
              "#d8576b"
             ],
             [
              0.6666666666666666,
              "#ed7953"
             ],
             [
              0.7777777777777778,
              "#fb9f3a"
             ],
             [
              0.8888888888888888,
              "#fdca26"
             ],
             [
              1,
              "#f0f921"
             ]
            ],
            "type": "heatmapgl"
           }
          ],
          "histogram": [
           {
            "marker": {
             "pattern": {
              "fillmode": "overlay",
              "size": 10,
              "solidity": 0.2
             }
            },
            "type": "histogram"
           }
          ],
          "histogram2d": [
           {
            "colorbar": {
             "outlinewidth": 0,
             "ticks": ""
            },
            "colorscale": [
             [
              0,
              "#0d0887"
             ],
             [
              0.1111111111111111,
              "#46039f"
             ],
             [
              0.2222222222222222,
              "#7201a8"
             ],
             [
              0.3333333333333333,
              "#9c179e"
             ],
             [
              0.4444444444444444,
              "#bd3786"
             ],
             [
              0.5555555555555556,
              "#d8576b"
             ],
             [
              0.6666666666666666,
              "#ed7953"
             ],
             [
              0.7777777777777778,
              "#fb9f3a"
             ],
             [
              0.8888888888888888,
              "#fdca26"
             ],
             [
              1,
              "#f0f921"
             ]
            ],
            "type": "histogram2d"
           }
          ],
          "histogram2dcontour": [
           {
            "colorbar": {
             "outlinewidth": 0,
             "ticks": ""
            },
            "colorscale": [
             [
              0,
              "#0d0887"
             ],
             [
              0.1111111111111111,
              "#46039f"
             ],
             [
              0.2222222222222222,
              "#7201a8"
             ],
             [
              0.3333333333333333,
              "#9c179e"
             ],
             [
              0.4444444444444444,
              "#bd3786"
             ],
             [
              0.5555555555555556,
              "#d8576b"
             ],
             [
              0.6666666666666666,
              "#ed7953"
             ],
             [
              0.7777777777777778,
              "#fb9f3a"
             ],
             [
              0.8888888888888888,
              "#fdca26"
             ],
             [
              1,
              "#f0f921"
             ]
            ],
            "type": "histogram2dcontour"
           }
          ],
          "mesh3d": [
           {
            "colorbar": {
             "outlinewidth": 0,
             "ticks": ""
            },
            "type": "mesh3d"
           }
          ],
          "parcoords": [
           {
            "line": {
             "colorbar": {
              "outlinewidth": 0,
              "ticks": ""
             }
            },
            "type": "parcoords"
           }
          ],
          "pie": [
           {
            "automargin": true,
            "type": "pie"
           }
          ],
          "scatter": [
           {
            "fillpattern": {
             "fillmode": "overlay",
             "size": 10,
             "solidity": 0.2
            },
            "type": "scatter"
           }
          ],
          "scatter3d": [
           {
            "line": {
             "colorbar": {
              "outlinewidth": 0,
              "ticks": ""
             }
            },
            "marker": {
             "colorbar": {
              "outlinewidth": 0,
              "ticks": ""
             }
            },
            "type": "scatter3d"
           }
          ],
          "scattercarpet": [
           {
            "marker": {
             "colorbar": {
              "outlinewidth": 0,
              "ticks": ""
             }
            },
            "type": "scattercarpet"
           }
          ],
          "scattergeo": [
           {
            "marker": {
             "colorbar": {
              "outlinewidth": 0,
              "ticks": ""
             }
            },
            "type": "scattergeo"
           }
          ],
          "scattergl": [
           {
            "marker": {
             "colorbar": {
              "outlinewidth": 0,
              "ticks": ""
             }
            },
            "type": "scattergl"
           }
          ],
          "scattermapbox": [
           {
            "marker": {
             "colorbar": {
              "outlinewidth": 0,
              "ticks": ""
             }
            },
            "type": "scattermapbox"
           }
          ],
          "scatterpolar": [
           {
            "marker": {
             "colorbar": {
              "outlinewidth": 0,
              "ticks": ""
             }
            },
            "type": "scatterpolar"
           }
          ],
          "scatterpolargl": [
           {
            "marker": {
             "colorbar": {
              "outlinewidth": 0,
              "ticks": ""
             }
            },
            "type": "scatterpolargl"
           }
          ],
          "scatterternary": [
           {
            "marker": {
             "colorbar": {
              "outlinewidth": 0,
              "ticks": ""
             }
            },
            "type": "scatterternary"
           }
          ],
          "surface": [
           {
            "colorbar": {
             "outlinewidth": 0,
             "ticks": ""
            },
            "colorscale": [
             [
              0,
              "#0d0887"
             ],
             [
              0.1111111111111111,
              "#46039f"
             ],
             [
              0.2222222222222222,
              "#7201a8"
             ],
             [
              0.3333333333333333,
              "#9c179e"
             ],
             [
              0.4444444444444444,
              "#bd3786"
             ],
             [
              0.5555555555555556,
              "#d8576b"
             ],
             [
              0.6666666666666666,
              "#ed7953"
             ],
             [
              0.7777777777777778,
              "#fb9f3a"
             ],
             [
              0.8888888888888888,
              "#fdca26"
             ],
             [
              1,
              "#f0f921"
             ]
            ],
            "type": "surface"
           }
          ],
          "table": [
           {
            "cells": {
             "fill": {
              "color": "#EBF0F8"
             },
             "line": {
              "color": "white"
             }
            },
            "header": {
             "fill": {
              "color": "#C8D4E3"
             },
             "line": {
              "color": "white"
             }
            },
            "type": "table"
           }
          ]
         },
         "layout": {
          "annotationdefaults": {
           "arrowcolor": "#2a3f5f",
           "arrowhead": 0,
           "arrowwidth": 1
          },
          "autotypenumbers": "strict",
          "coloraxis": {
           "colorbar": {
            "outlinewidth": 0,
            "ticks": ""
           }
          },
          "colorscale": {
           "diverging": [
            [
             0,
             "#8e0152"
            ],
            [
             0.1,
             "#c51b7d"
            ],
            [
             0.2,
             "#de77ae"
            ],
            [
             0.3,
             "#f1b6da"
            ],
            [
             0.4,
             "#fde0ef"
            ],
            [
             0.5,
             "#f7f7f7"
            ],
            [
             0.6,
             "#e6f5d0"
            ],
            [
             0.7,
             "#b8e186"
            ],
            [
             0.8,
             "#7fbc41"
            ],
            [
             0.9,
             "#4d9221"
            ],
            [
             1,
             "#276419"
            ]
           ],
           "sequential": [
            [
             0,
             "#0d0887"
            ],
            [
             0.1111111111111111,
             "#46039f"
            ],
            [
             0.2222222222222222,
             "#7201a8"
            ],
            [
             0.3333333333333333,
             "#9c179e"
            ],
            [
             0.4444444444444444,
             "#bd3786"
            ],
            [
             0.5555555555555556,
             "#d8576b"
            ],
            [
             0.6666666666666666,
             "#ed7953"
            ],
            [
             0.7777777777777778,
             "#fb9f3a"
            ],
            [
             0.8888888888888888,
             "#fdca26"
            ],
            [
             1,
             "#f0f921"
            ]
           ],
           "sequentialminus": [
            [
             0,
             "#0d0887"
            ],
            [
             0.1111111111111111,
             "#46039f"
            ],
            [
             0.2222222222222222,
             "#7201a8"
            ],
            [
             0.3333333333333333,
             "#9c179e"
            ],
            [
             0.4444444444444444,
             "#bd3786"
            ],
            [
             0.5555555555555556,
             "#d8576b"
            ],
            [
             0.6666666666666666,
             "#ed7953"
            ],
            [
             0.7777777777777778,
             "#fb9f3a"
            ],
            [
             0.8888888888888888,
             "#fdca26"
            ],
            [
             1,
             "#f0f921"
            ]
           ]
          },
          "colorway": [
           "#636efa",
           "#EF553B",
           "#00cc96",
           "#ab63fa",
           "#FFA15A",
           "#19d3f3",
           "#FF6692",
           "#B6E880",
           "#FF97FF",
           "#FECB52"
          ],
          "font": {
           "color": "#2a3f5f"
          },
          "geo": {
           "bgcolor": "white",
           "lakecolor": "white",
           "landcolor": "#E5ECF6",
           "showlakes": true,
           "showland": true,
           "subunitcolor": "white"
          },
          "hoverlabel": {
           "align": "left"
          },
          "hovermode": "closest",
          "mapbox": {
           "style": "light"
          },
          "paper_bgcolor": "white",
          "plot_bgcolor": "#E5ECF6",
          "polar": {
           "angularaxis": {
            "gridcolor": "white",
            "linecolor": "white",
            "ticks": ""
           },
           "bgcolor": "#E5ECF6",
           "radialaxis": {
            "gridcolor": "white",
            "linecolor": "white",
            "ticks": ""
           }
          },
          "scene": {
           "xaxis": {
            "backgroundcolor": "#E5ECF6",
            "gridcolor": "white",
            "gridwidth": 2,
            "linecolor": "white",
            "showbackground": true,
            "ticks": "",
            "zerolinecolor": "white"
           },
           "yaxis": {
            "backgroundcolor": "#E5ECF6",
            "gridcolor": "white",
            "gridwidth": 2,
            "linecolor": "white",
            "showbackground": true,
            "ticks": "",
            "zerolinecolor": "white"
           },
           "zaxis": {
            "backgroundcolor": "#E5ECF6",
            "gridcolor": "white",
            "gridwidth": 2,
            "linecolor": "white",
            "showbackground": true,
            "ticks": "",
            "zerolinecolor": "white"
           }
          },
          "shapedefaults": {
           "line": {
            "color": "#2a3f5f"
           }
          },
          "ternary": {
           "aaxis": {
            "gridcolor": "white",
            "linecolor": "white",
            "ticks": ""
           },
           "baxis": {
            "gridcolor": "white",
            "linecolor": "white",
            "ticks": ""
           },
           "bgcolor": "#E5ECF6",
           "caxis": {
            "gridcolor": "white",
            "linecolor": "white",
            "ticks": ""
           }
          },
          "title": {
           "x": 0.05
          },
          "xaxis": {
           "automargin": true,
           "gridcolor": "white",
           "linecolor": "white",
           "ticks": "",
           "title": {
            "standoff": 15
           },
           "zerolinecolor": "white",
           "zerolinewidth": 2
          },
          "yaxis": {
           "automargin": true,
           "gridcolor": "white",
           "linecolor": "white",
           "ticks": "",
           "title": {
            "standoff": 15
           },
           "zerolinecolor": "white",
           "zerolinewidth": 2
          }
         }
        },
        "xaxis": {
         "anchor": "y",
         "domain": [
          0,
          1
         ],
         "title": {
          "text": "index"
         }
        },
        "yaxis": {
         "anchor": "x",
         "domain": [
          0,
          1
         ],
         "title": {
          "text": "value"
         }
        }
       }
      }
     },
     "metadata": {},
     "output_type": "display_data"
    }
   ],
   "source": [
    "synthetic_put = pd.DataFrame(np.maximum(61-Ss,0) -putprice,columns =['Synthetic_Put61'],index = Ss)*100 -36\n",
    "px.line(synthetic_put)"
   ]
  },
  {
   "cell_type": "markdown",
   "metadata": {},
   "source": [
    "# Bull Call Spread \n",
    "\n",
    "- Simultaneously buy lower strike call and sell higher priced call\n",
    "- This position profits when $S_T$ increases."
   ]
  },
  {
   "cell_type": "code",
   "execution_count": 74,
   "metadata": {},
   "outputs": [
    {
     "data": {
      "text/html": [
       "<div>\n",
       "<style scoped>\n",
       "    .dataframe tbody tr th:only-of-type {\n",
       "        vertical-align: middle;\n",
       "    }\n",
       "\n",
       "    .dataframe tbody tr th {\n",
       "        vertical-align: top;\n",
       "    }\n",
       "\n",
       "    .dataframe thead th {\n",
       "        text-align: right;\n",
       "    }\n",
       "</style>\n",
       "<table border=\"1\" class=\"dataframe\">\n",
       "  <thead>\n",
       "    <tr style=\"text-align: right;\">\n",
       "      <th></th>\n",
       "      <th>Price</th>\n",
       "      <th>Delta</th>\n",
       "      <th>Gamma</th>\n",
       "      <th>Vega</th>\n",
       "      <th>Theta</th>\n",
       "    </tr>\n",
       "  </thead>\n",
       "  <tbody>\n",
       "    <tr>\n",
       "      <th>CALL(K = 93.5)</th>\n",
       "      <td>3.303893</td>\n",
       "      <td>0.594999</td>\n",
       "      <td>0.059434</td>\n",
       "      <td>0.126372</td>\n",
       "      <td>-0.033433</td>\n",
       "    </tr>\n",
       "    <tr>\n",
       "      <th>CALL(K = 95.5)</th>\n",
       "      <td>-2.098966</td>\n",
       "      <td>-0.469294</td>\n",
       "      <td>-0.065941</td>\n",
       "      <td>-0.129692</td>\n",
       "      <td>0.031081</td>\n",
       "    </tr>\n",
       "    <tr>\n",
       "      <th>Net_Position</th>\n",
       "      <td>1.204926</td>\n",
       "      <td>0.125705</td>\n",
       "      <td>-0.006507</td>\n",
       "      <td>-0.003320</td>\n",
       "      <td>-0.002352</td>\n",
       "    </tr>\n",
       "  </tbody>\n",
       "</table>\n",
       "</div>"
      ],
      "text/plain": [
       "                   Price     Delta     Gamma      Vega     Theta\n",
       "CALL(K = 93.5)  3.303893  0.594999  0.059434  0.126372 -0.033433\n",
       "CALL(K = 95.5) -2.098966 -0.469294 -0.065941 -0.129692  0.031081\n",
       "Net_Position    1.204926  0.125705 -0.006507 -0.003320 -0.002352"
      ]
     },
     "execution_count": 74,
     "metadata": {},
     "output_type": "execute_result"
    }
   ],
   "source": [
    "#C(K=95.5)\n",
    "spot = 94.5\n",
    "T = 30/252\n",
    "r = 0.03\n",
    "Lcall = Option_Pricer(CALL(S0=spot, K = 93.5,R = r, Sigma = .20, T = T))\n",
    "Scall = Option_Pricer(CALL(S0 = spot, K = 95.5,R = r, Sigma= 0.185,T = T))\n",
    "\n",
    "V0 = pd.concat([Lcall.return_values(),-1*Scall.return_values()],axis=0)\n",
    "V0.loc['Net_Position',:] = V0.sum(axis= 0)\n",
    "V0"
   ]
  },
  {
   "cell_type": "markdown",
   "metadata": {},
   "source": [
    "# Bear Call Spread\n",
    "\n",
    "- Simultaneoulsy *short* lower call strike and *buy* higher priced call\n",
    "- This positions profits when $S_T$ decreases."
   ]
  },
  {
   "cell_type": "code",
   "execution_count": 75,
   "metadata": {},
   "outputs": [
    {
     "data": {
      "text/html": [
       "<div>\n",
       "<style scoped>\n",
       "    .dataframe tbody tr th:only-of-type {\n",
       "        vertical-align: middle;\n",
       "    }\n",
       "\n",
       "    .dataframe tbody tr th {\n",
       "        vertical-align: top;\n",
       "    }\n",
       "\n",
       "    .dataframe thead th {\n",
       "        text-align: right;\n",
       "    }\n",
       "</style>\n",
       "<table border=\"1\" class=\"dataframe\">\n",
       "  <thead>\n",
       "    <tr style=\"text-align: right;\">\n",
       "      <th></th>\n",
       "      <th>Price</th>\n",
       "      <th>Delta</th>\n",
       "      <th>Gamma</th>\n",
       "      <th>Vega</th>\n",
       "      <th>Theta</th>\n",
       "    </tr>\n",
       "  </thead>\n",
       "  <tbody>\n",
       "    <tr>\n",
       "      <th>CALL(K = 93.5)</th>\n",
       "      <td>-3.303893</td>\n",
       "      <td>-0.594999</td>\n",
       "      <td>-0.059434</td>\n",
       "      <td>-0.126372</td>\n",
       "      <td>0.033433</td>\n",
       "    </tr>\n",
       "    <tr>\n",
       "      <th>CALL(K = 95.5)</th>\n",
       "      <td>2.098966</td>\n",
       "      <td>0.469294</td>\n",
       "      <td>0.065941</td>\n",
       "      <td>0.129692</td>\n",
       "      <td>-0.031081</td>\n",
       "    </tr>\n",
       "    <tr>\n",
       "      <th>Net_Position</th>\n",
       "      <td>-1.204926</td>\n",
       "      <td>-0.125705</td>\n",
       "      <td>0.006507</td>\n",
       "      <td>0.003320</td>\n",
       "      <td>0.002352</td>\n",
       "    </tr>\n",
       "  </tbody>\n",
       "</table>\n",
       "</div>"
      ],
      "text/plain": [
       "                   Price     Delta     Gamma      Vega     Theta\n",
       "CALL(K = 93.5) -3.303893 -0.594999 -0.059434 -0.126372  0.033433\n",
       "CALL(K = 95.5)  2.098966  0.469294  0.065941  0.129692 -0.031081\n",
       "Net_Position   -1.204926 -0.125705  0.006507  0.003320  0.002352"
      ]
     },
     "execution_count": 75,
     "metadata": {},
     "output_type": "execute_result"
    }
   ],
   "source": [
    "# Use the same options as before\n",
    "-1*V0"
   ]
  },
  {
   "cell_type": "code",
   "execution_count": 76,
   "metadata": {},
   "outputs": [],
   "source": [
    "import pandas_market_calendars as mcal\n",
    "\n",
    "# Create NYSE calendar\n",
    "nyse = mcal.get_calendar('NYSE')"
   ]
  },
  {
   "cell_type": "code",
   "execution_count": 77,
   "metadata": {},
   "outputs": [],
   "source": [
    "def generate_trade_days(begin_d, end_d):\n",
    "    days = pd.date_range(start = begin_d,end = end_d)\n",
    "    for i in days:\n",
    "        if (i.weekday()>=5)or(i in holidays.US()):\n",
    "            days = days.drop(i)\n",
    "        else:\n",
    "            continue\n",
    "    return days\n",
    "def market_days(begin_d, end_d):\n",
    "    days = nyse.schedule(start_date = begin_d, end_date = end_d).index\n",
    "    return days"
   ]
  },
  {
   "cell_type": "markdown",
   "metadata": {},
   "source": [
    "# SPY Example\n",
    "\n",
    "On interactive brokers we have $S_0 = 474.94$\n",
    "\n",
    "- I am going to buy ITM call at $K = 471$ and sell OTM call at $K = 480$ to set up my initial **bull call spread.**\n",
    "\n",
    "- The implied volatility for the lower strike is $12.2\\%$ and $11.1\\%$ for the higher strike. I am specificaly looking at options that expire on Febuary 16, 2024"
   ]
  },
  {
   "cell_type": "code",
   "execution_count": 78,
   "metadata": {},
   "outputs": [
    {
     "data": {
      "text/html": [
       "<div>\n",
       "<style scoped>\n",
       "    .dataframe tbody tr th:only-of-type {\n",
       "        vertical-align: middle;\n",
       "    }\n",
       "\n",
       "    .dataframe tbody tr th {\n",
       "        vertical-align: top;\n",
       "    }\n",
       "\n",
       "    .dataframe thead th {\n",
       "        text-align: right;\n",
       "    }\n",
       "</style>\n",
       "<table border=\"1\" class=\"dataframe\">\n",
       "  <thead>\n",
       "    <tr style=\"text-align: right;\">\n",
       "      <th></th>\n",
       "      <th>Price</th>\n",
       "      <th>Delta</th>\n",
       "      <th>Gamma</th>\n",
       "      <th>Vega</th>\n",
       "      <th>Theta</th>\n",
       "    </tr>\n",
       "  </thead>\n",
       "  <tbody>\n",
       "    <tr>\n",
       "      <th>Bull_Spread</th>\n",
       "      <td>5.648709</td>\n",
       "      <td>0.16902</td>\n",
       "      <td>-0.003112</td>\n",
       "      <td>-0.046275</td>\n",
       "      <td>-0.013407</td>\n",
       "    </tr>\n",
       "  </tbody>\n",
       "</table>\n",
       "</div>"
      ],
      "text/plain": [
       "                Price    Delta     Gamma      Vega     Theta\n",
       "Bull_Spread  5.648709  0.16902 -0.003112 -0.046275 -0.013407"
      ]
     },
     "execution_count": 78,
     "metadata": {},
     "output_type": "execute_result"
    }
   ],
   "source": [
    "t0 = datetime.now()\n",
    "expiration_date = datetime(year = 2024, month = 2,day = 16)\n",
    "T1 = len(generate_trade_days(begin_d=t0,end_d = expiration_date))/365\n",
    "T1 = 49/365\n",
    "\n",
    "\n",
    "spyspot = 474.94\n",
    "\n",
    "spyl = Option_Pricer(CALL(S0=spyspot,K = 471,R = 0.0557,Sigma = 0.122,T = T1))\n",
    "spyu = Option_Pricer(CALL(S0 = spyspot,K = 480,R = 0.0557, Sigma = 0.111,T = T1))\n",
    "V_spy = pd.concat([spyl.return_values(),-spyu.return_values()],axis =0)\n",
    "#V_spy.loc['Net_Position',:] = V_spy.sum(axis = 0)\n",
    "initialp = V_spy.sum(axis = 0).to_frame('Bull_Spread').T\n",
    "initialp\n"
   ]
  },
  {
   "cell_type": "code",
   "execution_count": 79,
   "metadata": {},
   "outputs": [
    {
     "data": {
      "application/vnd.plotly.v1+json": {
       "config": {
        "plotlyServerURL": "https://plot.ly"
       },
       "data": [
        {
         "hovertemplate": "variable=PNL_Bull_Spread<br>index=%{x}<br>value=%{y}<extra></extra>",
         "legendgroup": "PNL_Bull_Spread",
         "line": {
          "color": "#636efa",
          "dash": "solid"
         },
         "marker": {
          "symbol": "circle"
         },
         "mode": "lines",
         "name": "PNL_Bull_Spread",
         "orientation": "v",
         "showlegend": true,
         "type": "scatter",
         "x": [
          450,
          451,
          452,
          453,
          454,
          455,
          456,
          457,
          458,
          459,
          460,
          461,
          462,
          463,
          464,
          465,
          466,
          467,
          468,
          469,
          470,
          471,
          472,
          473,
          474,
          475,
          476,
          477,
          478,
          479,
          480,
          481,
          482,
          483,
          484,
          485,
          486,
          487,
          488,
          489,
          490,
          491,
          492,
          493,
          494,
          495,
          496,
          497,
          498,
          499,
          500,
          501,
          502,
          503,
          504,
          505,
          506,
          507,
          508,
          509,
          510
         ],
         "xaxis": "x",
         "y": [
          -5.640000000000001,
          -5.640000000000001,
          -5.640000000000001,
          -5.640000000000001,
          -5.640000000000001,
          -5.640000000000001,
          -5.640000000000001,
          -5.640000000000001,
          -5.640000000000001,
          -5.640000000000001,
          -5.640000000000001,
          -5.640000000000001,
          -5.640000000000001,
          -5.640000000000001,
          -5.640000000000001,
          -5.640000000000001,
          -5.640000000000001,
          -5.640000000000001,
          -5.640000000000001,
          -5.640000000000001,
          -5.640000000000001,
          -5.640000000000001,
          -4.640000000000001,
          -3.6400000000000006,
          -2.6400000000000006,
          -1.6400000000000006,
          -0.6399999999999997,
          0.3600000000000003,
          1.3600000000000003,
          2.3600000000000003,
          3.36,
          3.36,
          3.3600000000000003,
          3.36,
          3.36,
          3.3600000000000003,
          3.36,
          3.36,
          3.3600000000000003,
          3.3600000000000003,
          3.3600000000000003,
          3.3600000000000003,
          3.3599999999999994,
          3.3599999999999994,
          3.3599999999999994,
          3.3599999999999994,
          3.3599999999999994,
          3.3599999999999994,
          3.3599999999999994,
          3.3599999999999994,
          3.3599999999999994,
          3.3599999999999994,
          3.3599999999999994,
          3.3599999999999994,
          3.3599999999999994,
          3.3599999999999994,
          3.3599999999999994,
          3.3599999999999994,
          3.3599999999999994,
          3.3599999999999994,
          3.3599999999999994
         ],
         "yaxis": "y"
        }
       ],
       "layout": {
        "legend": {
         "title": {
          "text": "variable"
         },
         "tracegroupgap": 0
        },
        "shapes": [
         {
          "type": "line",
          "x0": 0,
          "x1": 1,
          "xref": "x domain",
          "y0": 0,
          "y1": 0,
          "yref": "y"
         }
        ],
        "template": {
         "data": {
          "bar": [
           {
            "error_x": {
             "color": "#2a3f5f"
            },
            "error_y": {
             "color": "#2a3f5f"
            },
            "marker": {
             "line": {
              "color": "#E5ECF6",
              "width": 0.5
             },
             "pattern": {
              "fillmode": "overlay",
              "size": 10,
              "solidity": 0.2
             }
            },
            "type": "bar"
           }
          ],
          "barpolar": [
           {
            "marker": {
             "line": {
              "color": "#E5ECF6",
              "width": 0.5
             },
             "pattern": {
              "fillmode": "overlay",
              "size": 10,
              "solidity": 0.2
             }
            },
            "type": "barpolar"
           }
          ],
          "carpet": [
           {
            "aaxis": {
             "endlinecolor": "#2a3f5f",
             "gridcolor": "white",
             "linecolor": "white",
             "minorgridcolor": "white",
             "startlinecolor": "#2a3f5f"
            },
            "baxis": {
             "endlinecolor": "#2a3f5f",
             "gridcolor": "white",
             "linecolor": "white",
             "minorgridcolor": "white",
             "startlinecolor": "#2a3f5f"
            },
            "type": "carpet"
           }
          ],
          "choropleth": [
           {
            "colorbar": {
             "outlinewidth": 0,
             "ticks": ""
            },
            "type": "choropleth"
           }
          ],
          "contour": [
           {
            "colorbar": {
             "outlinewidth": 0,
             "ticks": ""
            },
            "colorscale": [
             [
              0,
              "#0d0887"
             ],
             [
              0.1111111111111111,
              "#46039f"
             ],
             [
              0.2222222222222222,
              "#7201a8"
             ],
             [
              0.3333333333333333,
              "#9c179e"
             ],
             [
              0.4444444444444444,
              "#bd3786"
             ],
             [
              0.5555555555555556,
              "#d8576b"
             ],
             [
              0.6666666666666666,
              "#ed7953"
             ],
             [
              0.7777777777777778,
              "#fb9f3a"
             ],
             [
              0.8888888888888888,
              "#fdca26"
             ],
             [
              1,
              "#f0f921"
             ]
            ],
            "type": "contour"
           }
          ],
          "contourcarpet": [
           {
            "colorbar": {
             "outlinewidth": 0,
             "ticks": ""
            },
            "type": "contourcarpet"
           }
          ],
          "heatmap": [
           {
            "colorbar": {
             "outlinewidth": 0,
             "ticks": ""
            },
            "colorscale": [
             [
              0,
              "#0d0887"
             ],
             [
              0.1111111111111111,
              "#46039f"
             ],
             [
              0.2222222222222222,
              "#7201a8"
             ],
             [
              0.3333333333333333,
              "#9c179e"
             ],
             [
              0.4444444444444444,
              "#bd3786"
             ],
             [
              0.5555555555555556,
              "#d8576b"
             ],
             [
              0.6666666666666666,
              "#ed7953"
             ],
             [
              0.7777777777777778,
              "#fb9f3a"
             ],
             [
              0.8888888888888888,
              "#fdca26"
             ],
             [
              1,
              "#f0f921"
             ]
            ],
            "type": "heatmap"
           }
          ],
          "heatmapgl": [
           {
            "colorbar": {
             "outlinewidth": 0,
             "ticks": ""
            },
            "colorscale": [
             [
              0,
              "#0d0887"
             ],
             [
              0.1111111111111111,
              "#46039f"
             ],
             [
              0.2222222222222222,
              "#7201a8"
             ],
             [
              0.3333333333333333,
              "#9c179e"
             ],
             [
              0.4444444444444444,
              "#bd3786"
             ],
             [
              0.5555555555555556,
              "#d8576b"
             ],
             [
              0.6666666666666666,
              "#ed7953"
             ],
             [
              0.7777777777777778,
              "#fb9f3a"
             ],
             [
              0.8888888888888888,
              "#fdca26"
             ],
             [
              1,
              "#f0f921"
             ]
            ],
            "type": "heatmapgl"
           }
          ],
          "histogram": [
           {
            "marker": {
             "pattern": {
              "fillmode": "overlay",
              "size": 10,
              "solidity": 0.2
             }
            },
            "type": "histogram"
           }
          ],
          "histogram2d": [
           {
            "colorbar": {
             "outlinewidth": 0,
             "ticks": ""
            },
            "colorscale": [
             [
              0,
              "#0d0887"
             ],
             [
              0.1111111111111111,
              "#46039f"
             ],
             [
              0.2222222222222222,
              "#7201a8"
             ],
             [
              0.3333333333333333,
              "#9c179e"
             ],
             [
              0.4444444444444444,
              "#bd3786"
             ],
             [
              0.5555555555555556,
              "#d8576b"
             ],
             [
              0.6666666666666666,
              "#ed7953"
             ],
             [
              0.7777777777777778,
              "#fb9f3a"
             ],
             [
              0.8888888888888888,
              "#fdca26"
             ],
             [
              1,
              "#f0f921"
             ]
            ],
            "type": "histogram2d"
           }
          ],
          "histogram2dcontour": [
           {
            "colorbar": {
             "outlinewidth": 0,
             "ticks": ""
            },
            "colorscale": [
             [
              0,
              "#0d0887"
             ],
             [
              0.1111111111111111,
              "#46039f"
             ],
             [
              0.2222222222222222,
              "#7201a8"
             ],
             [
              0.3333333333333333,
              "#9c179e"
             ],
             [
              0.4444444444444444,
              "#bd3786"
             ],
             [
              0.5555555555555556,
              "#d8576b"
             ],
             [
              0.6666666666666666,
              "#ed7953"
             ],
             [
              0.7777777777777778,
              "#fb9f3a"
             ],
             [
              0.8888888888888888,
              "#fdca26"
             ],
             [
              1,
              "#f0f921"
             ]
            ],
            "type": "histogram2dcontour"
           }
          ],
          "mesh3d": [
           {
            "colorbar": {
             "outlinewidth": 0,
             "ticks": ""
            },
            "type": "mesh3d"
           }
          ],
          "parcoords": [
           {
            "line": {
             "colorbar": {
              "outlinewidth": 0,
              "ticks": ""
             }
            },
            "type": "parcoords"
           }
          ],
          "pie": [
           {
            "automargin": true,
            "type": "pie"
           }
          ],
          "scatter": [
           {
            "fillpattern": {
             "fillmode": "overlay",
             "size": 10,
             "solidity": 0.2
            },
            "type": "scatter"
           }
          ],
          "scatter3d": [
           {
            "line": {
             "colorbar": {
              "outlinewidth": 0,
              "ticks": ""
             }
            },
            "marker": {
             "colorbar": {
              "outlinewidth": 0,
              "ticks": ""
             }
            },
            "type": "scatter3d"
           }
          ],
          "scattercarpet": [
           {
            "marker": {
             "colorbar": {
              "outlinewidth": 0,
              "ticks": ""
             }
            },
            "type": "scattercarpet"
           }
          ],
          "scattergeo": [
           {
            "marker": {
             "colorbar": {
              "outlinewidth": 0,
              "ticks": ""
             }
            },
            "type": "scattergeo"
           }
          ],
          "scattergl": [
           {
            "marker": {
             "colorbar": {
              "outlinewidth": 0,
              "ticks": ""
             }
            },
            "type": "scattergl"
           }
          ],
          "scattermapbox": [
           {
            "marker": {
             "colorbar": {
              "outlinewidth": 0,
              "ticks": ""
             }
            },
            "type": "scattermapbox"
           }
          ],
          "scatterpolar": [
           {
            "marker": {
             "colorbar": {
              "outlinewidth": 0,
              "ticks": ""
             }
            },
            "type": "scatterpolar"
           }
          ],
          "scatterpolargl": [
           {
            "marker": {
             "colorbar": {
              "outlinewidth": 0,
              "ticks": ""
             }
            },
            "type": "scatterpolargl"
           }
          ],
          "scatterternary": [
           {
            "marker": {
             "colorbar": {
              "outlinewidth": 0,
              "ticks": ""
             }
            },
            "type": "scatterternary"
           }
          ],
          "surface": [
           {
            "colorbar": {
             "outlinewidth": 0,
             "ticks": ""
            },
            "colorscale": [
             [
              0,
              "#0d0887"
             ],
             [
              0.1111111111111111,
              "#46039f"
             ],
             [
              0.2222222222222222,
              "#7201a8"
             ],
             [
              0.3333333333333333,
              "#9c179e"
             ],
             [
              0.4444444444444444,
              "#bd3786"
             ],
             [
              0.5555555555555556,
              "#d8576b"
             ],
             [
              0.6666666666666666,
              "#ed7953"
             ],
             [
              0.7777777777777778,
              "#fb9f3a"
             ],
             [
              0.8888888888888888,
              "#fdca26"
             ],
             [
              1,
              "#f0f921"
             ]
            ],
            "type": "surface"
           }
          ],
          "table": [
           {
            "cells": {
             "fill": {
              "color": "#EBF0F8"
             },
             "line": {
              "color": "white"
             }
            },
            "header": {
             "fill": {
              "color": "#C8D4E3"
             },
             "line": {
              "color": "white"
             }
            },
            "type": "table"
           }
          ]
         },
         "layout": {
          "annotationdefaults": {
           "arrowcolor": "#2a3f5f",
           "arrowhead": 0,
           "arrowwidth": 1
          },
          "autotypenumbers": "strict",
          "coloraxis": {
           "colorbar": {
            "outlinewidth": 0,
            "ticks": ""
           }
          },
          "colorscale": {
           "diverging": [
            [
             0,
             "#8e0152"
            ],
            [
             0.1,
             "#c51b7d"
            ],
            [
             0.2,
             "#de77ae"
            ],
            [
             0.3,
             "#f1b6da"
            ],
            [
             0.4,
             "#fde0ef"
            ],
            [
             0.5,
             "#f7f7f7"
            ],
            [
             0.6,
             "#e6f5d0"
            ],
            [
             0.7,
             "#b8e186"
            ],
            [
             0.8,
             "#7fbc41"
            ],
            [
             0.9,
             "#4d9221"
            ],
            [
             1,
             "#276419"
            ]
           ],
           "sequential": [
            [
             0,
             "#0d0887"
            ],
            [
             0.1111111111111111,
             "#46039f"
            ],
            [
             0.2222222222222222,
             "#7201a8"
            ],
            [
             0.3333333333333333,
             "#9c179e"
            ],
            [
             0.4444444444444444,
             "#bd3786"
            ],
            [
             0.5555555555555556,
             "#d8576b"
            ],
            [
             0.6666666666666666,
             "#ed7953"
            ],
            [
             0.7777777777777778,
             "#fb9f3a"
            ],
            [
             0.8888888888888888,
             "#fdca26"
            ],
            [
             1,
             "#f0f921"
            ]
           ],
           "sequentialminus": [
            [
             0,
             "#0d0887"
            ],
            [
             0.1111111111111111,
             "#46039f"
            ],
            [
             0.2222222222222222,
             "#7201a8"
            ],
            [
             0.3333333333333333,
             "#9c179e"
            ],
            [
             0.4444444444444444,
             "#bd3786"
            ],
            [
             0.5555555555555556,
             "#d8576b"
            ],
            [
             0.6666666666666666,
             "#ed7953"
            ],
            [
             0.7777777777777778,
             "#fb9f3a"
            ],
            [
             0.8888888888888888,
             "#fdca26"
            ],
            [
             1,
             "#f0f921"
            ]
           ]
          },
          "colorway": [
           "#636efa",
           "#EF553B",
           "#00cc96",
           "#ab63fa",
           "#FFA15A",
           "#19d3f3",
           "#FF6692",
           "#B6E880",
           "#FF97FF",
           "#FECB52"
          ],
          "font": {
           "color": "#2a3f5f"
          },
          "geo": {
           "bgcolor": "white",
           "lakecolor": "white",
           "landcolor": "#E5ECF6",
           "showlakes": true,
           "showland": true,
           "subunitcolor": "white"
          },
          "hoverlabel": {
           "align": "left"
          },
          "hovermode": "closest",
          "mapbox": {
           "style": "light"
          },
          "paper_bgcolor": "white",
          "plot_bgcolor": "#E5ECF6",
          "polar": {
           "angularaxis": {
            "gridcolor": "white",
            "linecolor": "white",
            "ticks": ""
           },
           "bgcolor": "#E5ECF6",
           "radialaxis": {
            "gridcolor": "white",
            "linecolor": "white",
            "ticks": ""
           }
          },
          "scene": {
           "xaxis": {
            "backgroundcolor": "#E5ECF6",
            "gridcolor": "white",
            "gridwidth": 2,
            "linecolor": "white",
            "showbackground": true,
            "ticks": "",
            "zerolinecolor": "white"
           },
           "yaxis": {
            "backgroundcolor": "#E5ECF6",
            "gridcolor": "white",
            "gridwidth": 2,
            "linecolor": "white",
            "showbackground": true,
            "ticks": "",
            "zerolinecolor": "white"
           },
           "zaxis": {
            "backgroundcolor": "#E5ECF6",
            "gridcolor": "white",
            "gridwidth": 2,
            "linecolor": "white",
            "showbackground": true,
            "ticks": "",
            "zerolinecolor": "white"
           }
          },
          "shapedefaults": {
           "line": {
            "color": "#2a3f5f"
           }
          },
          "ternary": {
           "aaxis": {
            "gridcolor": "white",
            "linecolor": "white",
            "ticks": ""
           },
           "baxis": {
            "gridcolor": "white",
            "linecolor": "white",
            "ticks": ""
           },
           "bgcolor": "#E5ECF6",
           "caxis": {
            "gridcolor": "white",
            "linecolor": "white",
            "ticks": ""
           }
          },
          "title": {
           "x": 0.05
          },
          "xaxis": {
           "automargin": true,
           "gridcolor": "white",
           "linecolor": "white",
           "ticks": "",
           "title": {
            "standoff": 15
           },
           "zerolinecolor": "white",
           "zerolinewidth": 2
          },
          "yaxis": {
           "automargin": true,
           "gridcolor": "white",
           "linecolor": "white",
           "ticks": "",
           "title": {
            "standoff": 15
           },
           "zerolinecolor": "white",
           "zerolinewidth": 2
          }
         }
        },
        "title": {
         "text": "Bull Spread Strategy Payoff"
        },
        "xaxis": {
         "anchor": "y",
         "domain": [
          0,
          1
         ],
         "title": {
          "text": "Spot Price"
         }
        },
        "yaxis": {
         "anchor": "x",
         "domain": [
          0,
          1
         ],
         "title": {
          "text": "Profit"
         }
        }
       }
      }
     },
     "metadata": {},
     "output_type": "display_data"
    }
   ],
   "source": [
    "S = np.linspace(450,510,endpoint=True,num = 61)\n",
    "c1 = np.round(np.maximum(S-471,0) - 12.64,2)\n",
    "c2 = np.round(-1*np.maximum(S-480,0) +7,2)\n",
    "exp = c1+c2\n",
    "bullspread = pd.Series(exp,index = S,name = 'PNL_Bull_Spread')\n",
    "fig = px.line(bullspread,title = 'Bull Spread Strategy Payoff')\n",
    "fig = fig.update_layout(yaxis_title = 'Profit',xaxis_title = 'Spot Price')\n",
    "fig.add_hline(y = 0)\n",
    "fig.show()"
   ]
  },
  {
   "cell_type": "markdown",
   "metadata": {},
   "source": [
    "- Max profit from the bull spread is $\\$9$-$\\$5.64$ = $\\$3.34$. This is equal to to *max payoff* less debit. \n"
   ]
  },
  {
   "cell_type": "code",
   "execution_count": 80,
   "metadata": {},
   "outputs": [],
   "source": [
    "A=np.array([[0.646538,-0.477519],[1,-1]])*100\n",
    "b = np.array([50,0])\n",
    "size = np.round(np.linalg.solve(A,b))"
   ]
  },
  {
   "cell_type": "markdown",
   "metadata": {},
   "source": [
    "# Short Vertical Put Spread (Bull Put Spread)\n",
    "\n",
    "- Here I will create the same payoff using Put Options\n",
    "- Short higher strike put and buy lower strike put\n",
    "- Positive $\\Delta$ position.\n"
   ]
  },
  {
   "cell_type": "code",
   "execution_count": 81,
   "metadata": {},
   "outputs": [
    {
     "data": {
      "text/html": [
       "<div>\n",
       "<style scoped>\n",
       "    .dataframe tbody tr th:only-of-type {\n",
       "        vertical-align: middle;\n",
       "    }\n",
       "\n",
       "    .dataframe tbody tr th {\n",
       "        vertical-align: top;\n",
       "    }\n",
       "\n",
       "    .dataframe thead th {\n",
       "        text-align: right;\n",
       "    }\n",
       "</style>\n",
       "<table border=\"1\" class=\"dataframe\">\n",
       "  <thead>\n",
       "    <tr style=\"text-align: right;\">\n",
       "      <th></th>\n",
       "      <th>Price</th>\n",
       "      <th>Delta</th>\n",
       "      <th>Gamma</th>\n",
       "      <th>Vega</th>\n",
       "      <th>Theta</th>\n",
       "    </tr>\n",
       "  </thead>\n",
       "  <tbody>\n",
       "    <tr>\n",
       "      <th>Bull Put Spread</th>\n",
       "      <td>-3.284244</td>\n",
       "      <td>0.16902</td>\n",
       "      <td>-0.003112</td>\n",
       "      <td>-0.046275</td>\n",
       "      <td>-0.01477</td>\n",
       "    </tr>\n",
       "  </tbody>\n",
       "</table>\n",
       "</div>"
      ],
      "text/plain": [
       "                    Price    Delta     Gamma      Vega    Theta\n",
       "Bull Put Spread -3.284244  0.16902 -0.003112 -0.046275 -0.01477"
      ]
     },
     "execution_count": 81,
     "metadata": {},
     "output_type": "execute_result"
    }
   ],
   "source": [
    "putl = Option_Pricer(PUT(S0=spyspot,K = 471,R = 0.0557,Sigma = 0.122,T = T1))\n",
    "putu = Option_Pricer(PUT(S0 = spyspot,K = 480,R = 0.0557, Sigma = 0.111,T = T1))\n",
    "V_spy_P = pd.concat([putl.return_values(),-putu.return_values()],axis =0)\n",
    "bull_put_spread = V_spy_P.sum(axis =0).to_frame(\"Bull Put Spread\").T\n",
    "bull_put_spread"
   ]
  },
  {
   "cell_type": "code",
   "execution_count": 82,
   "metadata": {},
   "outputs": [
    {
     "data": {
      "text/html": [
       "<div>\n",
       "<style scoped>\n",
       "    .dataframe tbody tr th:only-of-type {\n",
       "        vertical-align: middle;\n",
       "    }\n",
       "\n",
       "    .dataframe tbody tr th {\n",
       "        vertical-align: top;\n",
       "    }\n",
       "\n",
       "    .dataframe thead th {\n",
       "        text-align: right;\n",
       "    }\n",
       "</style>\n",
       "<table border=\"1\" class=\"dataframe\">\n",
       "  <thead>\n",
       "    <tr style=\"text-align: right;\">\n",
       "      <th></th>\n",
       "      <th>Price</th>\n",
       "      <th>Delta</th>\n",
       "      <th>Gamma</th>\n",
       "      <th>Vega</th>\n",
       "      <th>Theta</th>\n",
       "    </tr>\n",
       "  </thead>\n",
       "  <tbody>\n",
       "    <tr>\n",
       "      <th>PUT(K = 471)</th>\n",
       "      <td>5.197946</td>\n",
       "      <td>-0.353462</td>\n",
       "      <td>0.017509</td>\n",
       "      <td>0.646848</td>\n",
       "      <td>-0.054115</td>\n",
       "    </tr>\n",
       "    <tr>\n",
       "      <th>PUT(K = 480)</th>\n",
       "      <td>-8.482190</td>\n",
       "      <td>0.522481</td>\n",
       "      <td>-0.020621</td>\n",
       "      <td>-0.693123</td>\n",
       "      <td>0.039344</td>\n",
       "    </tr>\n",
       "  </tbody>\n",
       "</table>\n",
       "</div>"
      ],
      "text/plain": [
       "                 Price     Delta     Gamma      Vega     Theta\n",
       "PUT(K = 471)  5.197946 -0.353462  0.017509  0.646848 -0.054115\n",
       "PUT(K = 480) -8.482190  0.522481 -0.020621 -0.693123  0.039344"
      ]
     },
     "execution_count": 82,
     "metadata": {},
     "output_type": "execute_result"
    }
   ],
   "source": [
    "V_spy_P\n"
   ]
  },
  {
   "cell_type": "code",
   "execution_count": 83,
   "metadata": {},
   "outputs": [
    {
     "data": {
      "application/vnd.plotly.v1+json": {
       "config": {
        "plotlyServerURL": "https://plot.ly"
       },
       "data": [
        {
         "hovertemplate": "variable=PNL_Put_Spread<br>index=%{x}<br>value=%{y}<extra></extra>",
         "legendgroup": "PNL_Put_Spread",
         "line": {
          "color": "#636efa",
          "dash": "solid"
         },
         "marker": {
          "symbol": "circle"
         },
         "mode": "lines",
         "name": "PNL_Put_Spread",
         "orientation": "v",
         "showlegend": true,
         "type": "scatter",
         "x": [
          470,
          471,
          472,
          473,
          474,
          475,
          476,
          477,
          478,
          479,
          480,
          481,
          482,
          483
         ],
         "xaxis": "x",
         "y": [
          -5.7159,
          -5.7159,
          -4.7159,
          -3.7159000000000004,
          -2.7159000000000004,
          -1.7159000000000004,
          -0.7159000000000004,
          0.2840999999999996,
          1.2840999999999996,
          2.2840999999999996,
          3.2840999999999996,
          3.2840999999999996,
          3.2840999999999996,
          3.2840999999999996
         ],
         "yaxis": "y"
        },
        {
         "hovertemplate": "variable=PNL_Bull_Spread<br>index=%{x}<br>value=%{y}<extra></extra>",
         "legendgroup": "PNL_Bull_Spread",
         "line": {
          "color": "#EF553B",
          "dash": "solid"
         },
         "marker": {
          "symbol": "circle"
         },
         "mode": "lines",
         "name": "PNL_Bull_Spread",
         "orientation": "v",
         "showlegend": true,
         "type": "scatter",
         "x": [
          470,
          471,
          472,
          473,
          474,
          475,
          476,
          477,
          478,
          479,
          480,
          481,
          482,
          483
         ],
         "xaxis": "x",
         "y": [
          -5.640000000000001,
          -5.640000000000001,
          -4.640000000000001,
          -3.6400000000000006,
          -2.6400000000000006,
          -1.6400000000000006,
          -0.6399999999999997,
          0.3600000000000003,
          1.3600000000000003,
          2.3600000000000003,
          3.36,
          3.36,
          3.3600000000000003,
          3.36
         ],
         "yaxis": "y"
        }
       ],
       "layout": {
        "legend": {
         "title": {
          "text": "variable"
         },
         "tracegroupgap": 0
        },
        "margin": {
         "t": 60
        },
        "shapes": [
         {
          "type": "line",
          "x0": 0,
          "x1": 1,
          "xref": "x domain",
          "y0": 0,
          "y1": 0,
          "yref": "y"
         }
        ],
        "template": {
         "data": {
          "bar": [
           {
            "error_x": {
             "color": "#2a3f5f"
            },
            "error_y": {
             "color": "#2a3f5f"
            },
            "marker": {
             "line": {
              "color": "#E5ECF6",
              "width": 0.5
             },
             "pattern": {
              "fillmode": "overlay",
              "size": 10,
              "solidity": 0.2
             }
            },
            "type": "bar"
           }
          ],
          "barpolar": [
           {
            "marker": {
             "line": {
              "color": "#E5ECF6",
              "width": 0.5
             },
             "pattern": {
              "fillmode": "overlay",
              "size": 10,
              "solidity": 0.2
             }
            },
            "type": "barpolar"
           }
          ],
          "carpet": [
           {
            "aaxis": {
             "endlinecolor": "#2a3f5f",
             "gridcolor": "white",
             "linecolor": "white",
             "minorgridcolor": "white",
             "startlinecolor": "#2a3f5f"
            },
            "baxis": {
             "endlinecolor": "#2a3f5f",
             "gridcolor": "white",
             "linecolor": "white",
             "minorgridcolor": "white",
             "startlinecolor": "#2a3f5f"
            },
            "type": "carpet"
           }
          ],
          "choropleth": [
           {
            "colorbar": {
             "outlinewidth": 0,
             "ticks": ""
            },
            "type": "choropleth"
           }
          ],
          "contour": [
           {
            "colorbar": {
             "outlinewidth": 0,
             "ticks": ""
            },
            "colorscale": [
             [
              0,
              "#0d0887"
             ],
             [
              0.1111111111111111,
              "#46039f"
             ],
             [
              0.2222222222222222,
              "#7201a8"
             ],
             [
              0.3333333333333333,
              "#9c179e"
             ],
             [
              0.4444444444444444,
              "#bd3786"
             ],
             [
              0.5555555555555556,
              "#d8576b"
             ],
             [
              0.6666666666666666,
              "#ed7953"
             ],
             [
              0.7777777777777778,
              "#fb9f3a"
             ],
             [
              0.8888888888888888,
              "#fdca26"
             ],
             [
              1,
              "#f0f921"
             ]
            ],
            "type": "contour"
           }
          ],
          "contourcarpet": [
           {
            "colorbar": {
             "outlinewidth": 0,
             "ticks": ""
            },
            "type": "contourcarpet"
           }
          ],
          "heatmap": [
           {
            "colorbar": {
             "outlinewidth": 0,
             "ticks": ""
            },
            "colorscale": [
             [
              0,
              "#0d0887"
             ],
             [
              0.1111111111111111,
              "#46039f"
             ],
             [
              0.2222222222222222,
              "#7201a8"
             ],
             [
              0.3333333333333333,
              "#9c179e"
             ],
             [
              0.4444444444444444,
              "#bd3786"
             ],
             [
              0.5555555555555556,
              "#d8576b"
             ],
             [
              0.6666666666666666,
              "#ed7953"
             ],
             [
              0.7777777777777778,
              "#fb9f3a"
             ],
             [
              0.8888888888888888,
              "#fdca26"
             ],
             [
              1,
              "#f0f921"
             ]
            ],
            "type": "heatmap"
           }
          ],
          "heatmapgl": [
           {
            "colorbar": {
             "outlinewidth": 0,
             "ticks": ""
            },
            "colorscale": [
             [
              0,
              "#0d0887"
             ],
             [
              0.1111111111111111,
              "#46039f"
             ],
             [
              0.2222222222222222,
              "#7201a8"
             ],
             [
              0.3333333333333333,
              "#9c179e"
             ],
             [
              0.4444444444444444,
              "#bd3786"
             ],
             [
              0.5555555555555556,
              "#d8576b"
             ],
             [
              0.6666666666666666,
              "#ed7953"
             ],
             [
              0.7777777777777778,
              "#fb9f3a"
             ],
             [
              0.8888888888888888,
              "#fdca26"
             ],
             [
              1,
              "#f0f921"
             ]
            ],
            "type": "heatmapgl"
           }
          ],
          "histogram": [
           {
            "marker": {
             "pattern": {
              "fillmode": "overlay",
              "size": 10,
              "solidity": 0.2
             }
            },
            "type": "histogram"
           }
          ],
          "histogram2d": [
           {
            "colorbar": {
             "outlinewidth": 0,
             "ticks": ""
            },
            "colorscale": [
             [
              0,
              "#0d0887"
             ],
             [
              0.1111111111111111,
              "#46039f"
             ],
             [
              0.2222222222222222,
              "#7201a8"
             ],
             [
              0.3333333333333333,
              "#9c179e"
             ],
             [
              0.4444444444444444,
              "#bd3786"
             ],
             [
              0.5555555555555556,
              "#d8576b"
             ],
             [
              0.6666666666666666,
              "#ed7953"
             ],
             [
              0.7777777777777778,
              "#fb9f3a"
             ],
             [
              0.8888888888888888,
              "#fdca26"
             ],
             [
              1,
              "#f0f921"
             ]
            ],
            "type": "histogram2d"
           }
          ],
          "histogram2dcontour": [
           {
            "colorbar": {
             "outlinewidth": 0,
             "ticks": ""
            },
            "colorscale": [
             [
              0,
              "#0d0887"
             ],
             [
              0.1111111111111111,
              "#46039f"
             ],
             [
              0.2222222222222222,
              "#7201a8"
             ],
             [
              0.3333333333333333,
              "#9c179e"
             ],
             [
              0.4444444444444444,
              "#bd3786"
             ],
             [
              0.5555555555555556,
              "#d8576b"
             ],
             [
              0.6666666666666666,
              "#ed7953"
             ],
             [
              0.7777777777777778,
              "#fb9f3a"
             ],
             [
              0.8888888888888888,
              "#fdca26"
             ],
             [
              1,
              "#f0f921"
             ]
            ],
            "type": "histogram2dcontour"
           }
          ],
          "mesh3d": [
           {
            "colorbar": {
             "outlinewidth": 0,
             "ticks": ""
            },
            "type": "mesh3d"
           }
          ],
          "parcoords": [
           {
            "line": {
             "colorbar": {
              "outlinewidth": 0,
              "ticks": ""
             }
            },
            "type": "parcoords"
           }
          ],
          "pie": [
           {
            "automargin": true,
            "type": "pie"
           }
          ],
          "scatter": [
           {
            "fillpattern": {
             "fillmode": "overlay",
             "size": 10,
             "solidity": 0.2
            },
            "type": "scatter"
           }
          ],
          "scatter3d": [
           {
            "line": {
             "colorbar": {
              "outlinewidth": 0,
              "ticks": ""
             }
            },
            "marker": {
             "colorbar": {
              "outlinewidth": 0,
              "ticks": ""
             }
            },
            "type": "scatter3d"
           }
          ],
          "scattercarpet": [
           {
            "marker": {
             "colorbar": {
              "outlinewidth": 0,
              "ticks": ""
             }
            },
            "type": "scattercarpet"
           }
          ],
          "scattergeo": [
           {
            "marker": {
             "colorbar": {
              "outlinewidth": 0,
              "ticks": ""
             }
            },
            "type": "scattergeo"
           }
          ],
          "scattergl": [
           {
            "marker": {
             "colorbar": {
              "outlinewidth": 0,
              "ticks": ""
             }
            },
            "type": "scattergl"
           }
          ],
          "scattermapbox": [
           {
            "marker": {
             "colorbar": {
              "outlinewidth": 0,
              "ticks": ""
             }
            },
            "type": "scattermapbox"
           }
          ],
          "scatterpolar": [
           {
            "marker": {
             "colorbar": {
              "outlinewidth": 0,
              "ticks": ""
             }
            },
            "type": "scatterpolar"
           }
          ],
          "scatterpolargl": [
           {
            "marker": {
             "colorbar": {
              "outlinewidth": 0,
              "ticks": ""
             }
            },
            "type": "scatterpolargl"
           }
          ],
          "scatterternary": [
           {
            "marker": {
             "colorbar": {
              "outlinewidth": 0,
              "ticks": ""
             }
            },
            "type": "scatterternary"
           }
          ],
          "surface": [
           {
            "colorbar": {
             "outlinewidth": 0,
             "ticks": ""
            },
            "colorscale": [
             [
              0,
              "#0d0887"
             ],
             [
              0.1111111111111111,
              "#46039f"
             ],
             [
              0.2222222222222222,
              "#7201a8"
             ],
             [
              0.3333333333333333,
              "#9c179e"
             ],
             [
              0.4444444444444444,
              "#bd3786"
             ],
             [
              0.5555555555555556,
              "#d8576b"
             ],
             [
              0.6666666666666666,
              "#ed7953"
             ],
             [
              0.7777777777777778,
              "#fb9f3a"
             ],
             [
              0.8888888888888888,
              "#fdca26"
             ],
             [
              1,
              "#f0f921"
             ]
            ],
            "type": "surface"
           }
          ],
          "table": [
           {
            "cells": {
             "fill": {
              "color": "#EBF0F8"
             },
             "line": {
              "color": "white"
             }
            },
            "header": {
             "fill": {
              "color": "#C8D4E3"
             },
             "line": {
              "color": "white"
             }
            },
            "type": "table"
           }
          ]
         },
         "layout": {
          "annotationdefaults": {
           "arrowcolor": "#2a3f5f",
           "arrowhead": 0,
           "arrowwidth": 1
          },
          "autotypenumbers": "strict",
          "coloraxis": {
           "colorbar": {
            "outlinewidth": 0,
            "ticks": ""
           }
          },
          "colorscale": {
           "diverging": [
            [
             0,
             "#8e0152"
            ],
            [
             0.1,
             "#c51b7d"
            ],
            [
             0.2,
             "#de77ae"
            ],
            [
             0.3,
             "#f1b6da"
            ],
            [
             0.4,
             "#fde0ef"
            ],
            [
             0.5,
             "#f7f7f7"
            ],
            [
             0.6,
             "#e6f5d0"
            ],
            [
             0.7,
             "#b8e186"
            ],
            [
             0.8,
             "#7fbc41"
            ],
            [
             0.9,
             "#4d9221"
            ],
            [
             1,
             "#276419"
            ]
           ],
           "sequential": [
            [
             0,
             "#0d0887"
            ],
            [
             0.1111111111111111,
             "#46039f"
            ],
            [
             0.2222222222222222,
             "#7201a8"
            ],
            [
             0.3333333333333333,
             "#9c179e"
            ],
            [
             0.4444444444444444,
             "#bd3786"
            ],
            [
             0.5555555555555556,
             "#d8576b"
            ],
            [
             0.6666666666666666,
             "#ed7953"
            ],
            [
             0.7777777777777778,
             "#fb9f3a"
            ],
            [
             0.8888888888888888,
             "#fdca26"
            ],
            [
             1,
             "#f0f921"
            ]
           ],
           "sequentialminus": [
            [
             0,
             "#0d0887"
            ],
            [
             0.1111111111111111,
             "#46039f"
            ],
            [
             0.2222222222222222,
             "#7201a8"
            ],
            [
             0.3333333333333333,
             "#9c179e"
            ],
            [
             0.4444444444444444,
             "#bd3786"
            ],
            [
             0.5555555555555556,
             "#d8576b"
            ],
            [
             0.6666666666666666,
             "#ed7953"
            ],
            [
             0.7777777777777778,
             "#fb9f3a"
            ],
            [
             0.8888888888888888,
             "#fdca26"
            ],
            [
             1,
             "#f0f921"
            ]
           ]
          },
          "colorway": [
           "#636efa",
           "#EF553B",
           "#00cc96",
           "#ab63fa",
           "#FFA15A",
           "#19d3f3",
           "#FF6692",
           "#B6E880",
           "#FF97FF",
           "#FECB52"
          ],
          "font": {
           "color": "#2a3f5f"
          },
          "geo": {
           "bgcolor": "white",
           "lakecolor": "white",
           "landcolor": "#E5ECF6",
           "showlakes": true,
           "showland": true,
           "subunitcolor": "white"
          },
          "hoverlabel": {
           "align": "left"
          },
          "hovermode": "closest",
          "mapbox": {
           "style": "light"
          },
          "paper_bgcolor": "white",
          "plot_bgcolor": "#E5ECF6",
          "polar": {
           "angularaxis": {
            "gridcolor": "white",
            "linecolor": "white",
            "ticks": ""
           },
           "bgcolor": "#E5ECF6",
           "radialaxis": {
            "gridcolor": "white",
            "linecolor": "white",
            "ticks": ""
           }
          },
          "scene": {
           "xaxis": {
            "backgroundcolor": "#E5ECF6",
            "gridcolor": "white",
            "gridwidth": 2,
            "linecolor": "white",
            "showbackground": true,
            "ticks": "",
            "zerolinecolor": "white"
           },
           "yaxis": {
            "backgroundcolor": "#E5ECF6",
            "gridcolor": "white",
            "gridwidth": 2,
            "linecolor": "white",
            "showbackground": true,
            "ticks": "",
            "zerolinecolor": "white"
           },
           "zaxis": {
            "backgroundcolor": "#E5ECF6",
            "gridcolor": "white",
            "gridwidth": 2,
            "linecolor": "white",
            "showbackground": true,
            "ticks": "",
            "zerolinecolor": "white"
           }
          },
          "shapedefaults": {
           "line": {
            "color": "#2a3f5f"
           }
          },
          "ternary": {
           "aaxis": {
            "gridcolor": "white",
            "linecolor": "white",
            "ticks": ""
           },
           "baxis": {
            "gridcolor": "white",
            "linecolor": "white",
            "ticks": ""
           },
           "bgcolor": "#E5ECF6",
           "caxis": {
            "gridcolor": "white",
            "linecolor": "white",
            "ticks": ""
           }
          },
          "title": {
           "x": 0.05
          },
          "xaxis": {
           "automargin": true,
           "gridcolor": "white",
           "linecolor": "white",
           "ticks": "",
           "title": {
            "standoff": 15
           },
           "zerolinecolor": "white",
           "zerolinewidth": 2
          },
          "yaxis": {
           "automargin": true,
           "gridcolor": "white",
           "linecolor": "white",
           "ticks": "",
           "title": {
            "standoff": 15
           },
           "zerolinecolor": "white",
           "zerolinewidth": 2
          }
         }
        },
        "xaxis": {
         "anchor": "y",
         "domain": [
          0,
          1
         ],
         "title": {
          "text": "index"
         }
        },
        "yaxis": {
         "anchor": "x",
         "domain": [
          0,
          1
         ],
         "title": {
          "text": "PNL"
         }
        }
       }
      }
     },
     "metadata": {},
     "output_type": "display_data"
    }
   ],
   "source": [
    "# PUT EXPIRATION VALUES\n",
    "putl_E = np.maximum(471-S,0)-5.1979\n",
    "putu_E = -1*np.maximum(480-S,0) +8.482\n",
    "put_spread = pd.Series(putl_E+putu_E,name ='PNL_Put_Spread',index = S)\n",
    "ALL_Spreads =pd.concat([put_spread,bullspread],axis =1)\n",
    "fig2 = px.line(ALL_Spreads.loc[470:483])\n",
    "fig2.update_layout(yaxis_title= 'PNL')\n",
    "fig2.add_hline(y = 0)"
   ]
  },
  {
   "cell_type": "markdown",
   "metadata": {},
   "source": [
    "- What if I buy the bull spread and simultaneoulsy short the put spread of the option.\n",
    "\n",
    "This means my initial portfolio looks like this at time $t_0$:\n",
    "\n",
    "\\begin{align}\n",
    "\n",
    "V_0 &= \\{\\text{C(K= 471)} - \\text{C(K = 480)}\\} - \\{\\text{P(K = 471)} - \\text{P(K = 480)}\\} \\\\\n",
    "\n",
    "V_T &= \\$0.079/trade\n",
    "\n",
    "\\end{align}"
   ]
  },
  {
   "cell_type": "code",
   "execution_count": 84,
   "metadata": {},
   "outputs": [
    {
     "name": "stdout",
     "output_type": "stream",
     "text": [
      "PNL from trade is $-0.32\n"
     ]
    }
   ],
   "source": [
    "ask_price  = -12.88+7.12-8.88+5.32\n",
    "# PNL is the ask price plus tbe box which is $9\n",
    "print(f\"PNL from trade is ${ask_price+9:,.2f}\")"
   ]
  },
  {
   "cell_type": "code",
   "execution_count": 85,
   "metadata": {},
   "outputs": [],
   "source": [
    "# Using actual bid ask prices from quoted calls and puts from interactive brokers\n",
    "c471 = np.maximum(S-471,0) - 12.88\n",
    "c480 = -1*np.maximum(S-480,0) + 7.12\n",
    "p480 = np.maximum(480-S,0) - 8.88\n",
    "p471 = -1*np.maximum(471-S,0) + 5.32\n",
    "VT = pd.Series(c471+c480+p480+p471,name = 'Buy_Short_Spread',index = S)\n",
    "# There actually is no arbitrage "
   ]
  },
  {
   "cell_type": "markdown",
   "metadata": {},
   "source": [
    "- In the example above the *payoff* from the Bull Call Spread dominates the put bull spread for all expiration prices. "
   ]
  },
  {
   "cell_type": "markdown",
   "metadata": {},
   "source": [
    "- When buying options compare the max profit from buying credit vs debit spread. "
   ]
  },
  {
   "cell_type": "markdown",
   "metadata": {},
   "source": [
    "# Put Spread Example\n",
    "\n",
    "Suppose it is August 1, 2022 and you decide to buys 18 November 19 - 15 October 19 130 put spread when $S_0 = \\$136.31$.\n"
   ]
  },
  {
   "cell_type": "code",
   "execution_count": 122,
   "metadata": {},
   "outputs": [
    {
     "data": {
      "text/html": [
       "<div>\n",
       "<style scoped>\n",
       "    .dataframe tbody tr th:only-of-type {\n",
       "        vertical-align: middle;\n",
       "    }\n",
       "\n",
       "    .dataframe tbody tr th {\n",
       "        vertical-align: top;\n",
       "    }\n",
       "\n",
       "    .dataframe thead th {\n",
       "        text-align: right;\n",
       "    }\n",
       "</style>\n",
       "<table border=\"1\" class=\"dataframe\">\n",
       "  <thead>\n",
       "    <tr style=\"text-align: right;\">\n",
       "      <th></th>\n",
       "      <th>Price</th>\n",
       "      <th>Delta</th>\n",
       "      <th>Gamma</th>\n",
       "      <th>Vega</th>\n",
       "      <th>Theta</th>\n",
       "    </tr>\n",
       "  </thead>\n",
       "  <tbody>\n",
       "    <tr>\n",
       "      <th>PUT(K = 130)</th>\n",
       "      <td>-2700.975497</td>\n",
       "      <td>414.457994</td>\n",
       "      <td>-50.764836</td>\n",
       "      <td>-294.598415</td>\n",
       "      <td>43.574926</td>\n",
       "    </tr>\n",
       "    <tr>\n",
       "      <th>PUT(K = 130)</th>\n",
       "      <td>3918.502276</td>\n",
       "      <td>-412.584262</td>\n",
       "      <td>34.318786</td>\n",
       "      <td>317.431057</td>\n",
       "      <td>-37.967515</td>\n",
       "    </tr>\n",
       "    <tr>\n",
       "      <th>Initial</th>\n",
       "      <td>1217.526779</td>\n",
       "      <td>1.873732</td>\n",
       "      <td>-16.446050</td>\n",
       "      <td>22.832642</td>\n",
       "      <td>5.607411</td>\n",
       "    </tr>\n",
       "  </tbody>\n",
       "</table>\n",
       "</div>"
      ],
      "text/plain": [
       "                    Price       Delta      Gamma        Vega      Theta\n",
       "PUT(K = 130) -2700.975497  414.457994 -50.764836 -294.598415  43.574926\n",
       "PUT(K = 130)  3918.502276 -412.584262  34.318786  317.431057 -37.967515\n",
       "Initial       1217.526779    1.873732 -16.446050   22.832642   5.607411"
      ]
     },
     "execution_count": 122,
     "metadata": {},
     "output_type": "execute_result"
    }
   ],
   "source": [
    "put_octT = len(market_days(begin_d=\"2022-08-01\",end_d='2022-10-19'))/365\n",
    "put_novT = len(market_days(begin_d=\"2022-08-01\",end_d = \"2022-11-19\"))/365\n",
    "p130oct= Option_Pricer(PUT(S0 = 136.31,K = 130, R = .05,Sigma = .2,T = put_octT))\n",
    "p130nov = Option_Pricer(PUT(S0 = 136.31, K = 130, R= .05, Sigma=.23,T = put_novT))\n",
    "port = pd.concat([-18*p130oct.return_values(),15*p130nov.return_values()],axis = 0)*100\n",
    "port.loc['Initial',:] = port.sum(axis = 0).values\n",
    "#port.sum(axis = 0).values\n",
    "port"
   ]
  },
  {
   "cell_type": "markdown",
   "metadata": {},
   "source": [
    "# Short Call Time Value Spread\n",
    "\n",
    "- This position is made when one shorts the further expiration call while simultaneously buying the closer expiration call option at the same strike price. \n",
    "- Overall $-\\Delta$ position."
   ]
  },
  {
   "cell_type": "code",
   "execution_count": 150,
   "metadata": {},
   "outputs": [
    {
     "data": {
      "text/html": [
       "<div>\n",
       "<style scoped>\n",
       "    .dataframe tbody tr th:only-of-type {\n",
       "        vertical-align: middle;\n",
       "    }\n",
       "\n",
       "    .dataframe tbody tr th {\n",
       "        vertical-align: top;\n",
       "    }\n",
       "\n",
       "    .dataframe thead th {\n",
       "        text-align: right;\n",
       "    }\n",
       "</style>\n",
       "<table border=\"1\" class=\"dataframe\">\n",
       "  <thead>\n",
       "    <tr style=\"text-align: right;\">\n",
       "      <th></th>\n",
       "      <th>Price</th>\n",
       "      <th>Delta</th>\n",
       "      <th>Gamma</th>\n",
       "      <th>Vega</th>\n",
       "      <th>Theta</th>\n",
       "    </tr>\n",
       "  </thead>\n",
       "  <tbody>\n",
       "    <tr>\n",
       "      <th>CALL(K = 135)</th>\n",
       "      <td>-578.677776</td>\n",
       "      <td>-56.133001</td>\n",
       "      <td>-3.080931</td>\n",
       "      <td>-23.962961</td>\n",
       "      <td>4.367051</td>\n",
       "    </tr>\n",
       "    <tr>\n",
       "      <th>CALL(K = 135)</th>\n",
       "      <td>440.058389</td>\n",
       "      <td>55.102003</td>\n",
       "      <td>3.999665</td>\n",
       "      <td>19.571513</td>\n",
       "      <td>-4.952914</td>\n",
       "    </tr>\n",
       "    <tr>\n",
       "      <th>Initial</th>\n",
       "      <td>-138.619387</td>\n",
       "      <td>-1.030999</td>\n",
       "      <td>0.918734</td>\n",
       "      <td>-4.391448</td>\n",
       "      <td>-0.585863</td>\n",
       "    </tr>\n",
       "  </tbody>\n",
       "</table>\n",
       "</div>"
      ],
      "text/plain": [
       "                    Price      Delta     Gamma       Vega     Theta\n",
       "CALL(K = 135) -578.677776 -56.133001 -3.080931 -23.962961  4.367051\n",
       "CALL(K = 135)  440.058389  55.102003  3.999665  19.571513 -4.952914\n",
       "Initial       -138.619387  -1.030999  0.918734  -4.391448 -0.585863"
      ]
     },
     "execution_count": 150,
     "metadata": {},
     "output_type": "execute_result"
    }
   ],
   "source": [
    "start_date = '2021-01-01'\n",
    "closer_d = '2021-03-15'\n",
    "further_d = '2021-04-20'\n",
    "T_closer = len(market_days(begin_d=start_date,end_d=closer_d))/365\n",
    "T_further = len(market_days(begin_d=start_date,end_d = further_d))/365\n",
    "spot = 135\n",
    "c_march = Option_Pricer(CALL(S0 = spot, K  = 135, R = .05, Sigma= 0.20, T=T_closer))\n",
    "c_april = Option_Pricer(CALL(S0 = spot, K = 135, R = .05, Sigma = .2105, T= T_further))\n",
    "port= pd.concat([-c_april.return_values(),c_march.return_values()],axis = 0)*100\n",
    "port.loc['Initial',:] = port.sum(axis = 0).values\n",
    "port"
   ]
  },
  {
   "cell_type": "code",
   "execution_count": 149,
   "metadata": {},
   "outputs": [
    {
     "data": {
      "text/plain": [
       "4.385620611699875"
      ]
     },
     "execution_count": 149,
     "metadata": {},
     "output_type": "execute_result"
    }
   ],
   "source": [
    "time_frame = market_days(begin_d=start_date,end_d=closer_d)\n",
    "simulated_values = 135*np.exp((.05 - .5*(.2**2))*T_closer + .2*np.sqrt(T_closer)*np.random.standard_normal(size= 100))\n",
    "march_contract = np.maximum(simulated_values-135,0)\n",
    "march_contract.mean()"
   ]
  },
  {
   "cell_type": "markdown",
   "metadata": {},
   "source": [
    "# Long Straddle\n",
    "\n",
    "- Buy and equal amount of calls and puts usually ATM\n",
    "\n"
   ]
  },
  {
   "cell_type": "code",
   "execution_count": 110,
   "metadata": {},
   "outputs": [
    {
     "data": {
      "text/html": [
       "<div>\n",
       "<style scoped>\n",
       "    .dataframe tbody tr th:only-of-type {\n",
       "        vertical-align: middle;\n",
       "    }\n",
       "\n",
       "    .dataframe tbody tr th {\n",
       "        vertical-align: top;\n",
       "    }\n",
       "\n",
       "    .dataframe thead th {\n",
       "        text-align: right;\n",
       "    }\n",
       "</style>\n",
       "<table border=\"1\" class=\"dataframe\">\n",
       "  <thead>\n",
       "    <tr style=\"text-align: right;\">\n",
       "      <th></th>\n",
       "      <th>Price</th>\n",
       "      <th>Delta</th>\n",
       "      <th>Gamma</th>\n",
       "      <th>Vega</th>\n",
       "      <th>Theta</th>\n",
       "    </tr>\n",
       "  </thead>\n",
       "  <tbody>\n",
       "    <tr>\n",
       "      <th>CALL(K = 95)</th>\n",
       "      <td>226.324071</td>\n",
       "      <td>50.143209</td>\n",
       "      <td>6.797396</td>\n",
       "      <td>13.007668</td>\n",
       "      <td>-3.065057</td>\n",
       "    </tr>\n",
       "    <tr>\n",
       "      <th>PUT(K = 95)</th>\n",
       "      <td>242.456015</td>\n",
       "      <td>-49.856791</td>\n",
       "      <td>6.797396</td>\n",
       "      <td>13.007668</td>\n",
       "      <td>-2.287019</td>\n",
       "    </tr>\n",
       "  </tbody>\n",
       "</table>\n",
       "</div>"
      ],
      "text/plain": [
       "                   Price      Delta     Gamma       Vega     Theta\n",
       "CALL(K = 95)  226.324071  50.143209  6.797396  13.007668 -3.065057\n",
       "PUT(K = 95)   242.456015 -49.856791  6.797396  13.007668 -2.287019"
      ]
     },
     "execution_count": 110,
     "metadata": {},
     "output_type": "execute_result"
    }
   ],
   "source": [
    "spot = 94.5\n",
    "K_s = 95\n",
    "T = 30/252\n",
    "r = 0.03\n",
    "sigma_straddle = 0.18\n",
    "cstr = Option_Pricer(CALL(S0 = spot, K =K_s,R = r, T = T,Sigma= sigma_straddle))\n",
    "pustr = Option_Pricer(PUT(S0=spot, K = K_s, R = r, Sigma = sigma_straddle,T= T))\n",
    "P = pd.concat([cstr.return_values(),pustr.return_values()],axis = 0)*100\n",
    "#P.loc['Net_Position',:] = P.sum()\n",
    "P"
   ]
  },
  {
   "cell_type": "markdown",
   "metadata": {},
   "source": [
    "- How would I make this position Delta neutral but Vega notional of 1000? This means that if implied volatility increases by one percent my expected profits are 1000. "
   ]
  },
  {
   "cell_type": "code",
   "execution_count": 115,
   "metadata": {},
   "outputs": [],
   "source": [
    "greeks = set_up_matrix(P)\n",
    "#sizes also calculates correct allocation\n",
    "sizes = np.floor(np.linalg.solve(greeks,np.array([0,1000])).reshape(2,1))\n",
    "\n",
    "#size = np.linalg.solve(A,b)\n",
    "# scaled everything down but set vega equation equal to 10 because 10*100 = $1000\n",
    "A1 = np.array([[50.143,-49.85],[13.007,13.007]])*1e-2\n",
    "b1 = np.array([0,1000])*1e-2"
   ]
  },
  {
   "cell_type": "markdown",
   "metadata": {},
   "source": [
    "- Buy 38 calls and 38 puts"
   ]
  },
  {
   "cell_type": "code",
   "execution_count": 116,
   "metadata": {},
   "outputs": [
    {
     "data": {
      "text/html": [
       "<div>\n",
       "<style scoped>\n",
       "    .dataframe tbody tr th:only-of-type {\n",
       "        vertical-align: middle;\n",
       "    }\n",
       "\n",
       "    .dataframe tbody tr th {\n",
       "        vertical-align: top;\n",
       "    }\n",
       "\n",
       "    .dataframe thead th {\n",
       "        text-align: right;\n",
       "    }\n",
       "</style>\n",
       "<table border=\"1\" class=\"dataframe\">\n",
       "  <thead>\n",
       "    <tr style=\"text-align: right;\">\n",
       "      <th></th>\n",
       "      <th>CALL(K = 95)</th>\n",
       "      <th>PUT(K = 95)</th>\n",
       "    </tr>\n",
       "  </thead>\n",
       "  <tbody>\n",
       "    <tr>\n",
       "      <th>Delta</th>\n",
       "      <td>50.143209</td>\n",
       "      <td>-49.856791</td>\n",
       "    </tr>\n",
       "    <tr>\n",
       "      <th>Vega</th>\n",
       "      <td>13.007668</td>\n",
       "      <td>13.007668</td>\n",
       "    </tr>\n",
       "  </tbody>\n",
       "</table>\n",
       "</div>"
      ],
      "text/plain": [
       "       CALL(K = 95)  PUT(K = 95)\n",
       "Delta     50.143209   -49.856791\n",
       "Vega      13.007668    13.007668"
      ]
     },
     "execution_count": 116,
     "metadata": {},
     "output_type": "execute_result"
    }
   ],
   "source": [
    "greeks"
   ]
  },
  {
   "cell_type": "code",
   "execution_count": 117,
   "metadata": {},
   "outputs": [
    {
     "data": {
      "text/html": [
       "<div>\n",
       "<style scoped>\n",
       "    .dataframe tbody tr th:only-of-type {\n",
       "        vertical-align: middle;\n",
       "    }\n",
       "\n",
       "    .dataframe tbody tr th {\n",
       "        vertical-align: top;\n",
       "    }\n",
       "\n",
       "    .dataframe thead th {\n",
       "        text-align: right;\n",
       "    }\n",
       "</style>\n",
       "<table border=\"1\" class=\"dataframe\">\n",
       "  <thead>\n",
       "    <tr style=\"text-align: right;\">\n",
       "      <th></th>\n",
       "      <th>Size</th>\n",
       "    </tr>\n",
       "  </thead>\n",
       "  <tbody>\n",
       "    <tr>\n",
       "      <th>CALL(K = 95)</th>\n",
       "      <td>38.0</td>\n",
       "    </tr>\n",
       "    <tr>\n",
       "      <th>PUT(K = 95)</th>\n",
       "      <td>38.0</td>\n",
       "    </tr>\n",
       "  </tbody>\n",
       "</table>\n",
       "</div>"
      ],
      "text/plain": [
       "              Size\n",
       "CALL(K = 95)  38.0\n",
       "PUT(K = 95)   38.0"
      ]
     },
     "execution_count": 117,
     "metadata": {},
     "output_type": "execute_result"
    }
   ],
   "source": [
    "positions = pd.DataFrame({'Size':sizes.flatten()},index = P.iloc[0:2].index)\n",
    "positions"
   ]
  },
  {
   "cell_type": "code",
   "execution_count": 118,
   "metadata": {},
   "outputs": [
    {
     "data": {
      "text/html": [
       "<div>\n",
       "<style scoped>\n",
       "    .dataframe tbody tr th:only-of-type {\n",
       "        vertical-align: middle;\n",
       "    }\n",
       "\n",
       "    .dataframe tbody tr th {\n",
       "        vertical-align: top;\n",
       "    }\n",
       "\n",
       "    .dataframe thead th {\n",
       "        text-align: right;\n",
       "    }\n",
       "</style>\n",
       "<table border=\"1\" class=\"dataframe\">\n",
       "  <thead>\n",
       "    <tr style=\"text-align: right;\">\n",
       "      <th></th>\n",
       "      <th>Price</th>\n",
       "      <th>Delta</th>\n",
       "      <th>Gamma</th>\n",
       "      <th>Vega</th>\n",
       "      <th>Theta</th>\n",
       "    </tr>\n",
       "  </thead>\n",
       "  <tbody>\n",
       "    <tr>\n",
       "      <th>CALL(K = 95)</th>\n",
       "      <td>226.324071</td>\n",
       "      <td>50.143209</td>\n",
       "      <td>6.797396</td>\n",
       "      <td>13.007668</td>\n",
       "      <td>-3.065057</td>\n",
       "    </tr>\n",
       "    <tr>\n",
       "      <th>PUT(K = 95)</th>\n",
       "      <td>242.456015</td>\n",
       "      <td>-49.856791</td>\n",
       "      <td>6.797396</td>\n",
       "      <td>13.007668</td>\n",
       "      <td>-2.287019</td>\n",
       "    </tr>\n",
       "    <tr>\n",
       "      <th>Net_Position</th>\n",
       "      <td>17813.643277</td>\n",
       "      <td>10.883874</td>\n",
       "      <td>516.602126</td>\n",
       "      <td>988.582744</td>\n",
       "      <td>-203.378909</td>\n",
       "    </tr>\n",
       "  </tbody>\n",
       "</table>\n",
       "</div>"
      ],
      "text/plain": [
       "                     Price      Delta       Gamma        Vega       Theta\n",
       "CALL(K = 95)    226.324071  50.143209    6.797396   13.007668   -3.065057\n",
       "PUT(K = 95)     242.456015 -49.856791    6.797396   13.007668   -2.287019\n",
       "Net_Position  17813.643277  10.883874  516.602126  988.582744 -203.378909"
      ]
     },
     "execution_count": 118,
     "metadata": {},
     "output_type": "execute_result"
    }
   ],
   "source": [
    "P.loc['Net_Position',:] = (P.iloc[0:2,:].T @ sizes).values.T\n",
    "P"
   ]
  },
  {
   "cell_type": "markdown",
   "metadata": {},
   "source": [
    "**Initial Portfolio**\n",
    "- Bought and sold 38 call and puts\n",
    "\n",
    "|              |     Price |     $\\Delta$ |    $\\Gamma$ |    $\\nu$ |      $\\Theta$ |\n",
    "|:-------------|----------:|----------:|---------:|---------:|-----------:|\n",
    "| CALL(K = 95) |   2.26324 |  0.501432 | 0.067974 |  13.0077 | -0.0306506 |\n",
    "| PUT(K = 95)  |   2.42456 | -0.498568 | 0.067974 |  13.0077 | -0.0228702 |\n",
    "| Net_Position | 178.136   |  0.108839 | 5.16602  | 988.583  | -2.03379   |"
   ]
  },
  {
   "cell_type": "markdown",
   "metadata": {},
   "source": [
    "Let's say the stock price moved to $\\$98.5$ the next day. How many calls and puts would I need to sell in order to be delta = .2 and Vega notional 400?"
   ]
  },
  {
   "cell_type": "code",
   "execution_count": 91,
   "metadata": {},
   "outputs": [],
   "source": [
    "# update S and T for the calls/puts\n",
    "cstr.S0 = 98.5\n",
    "pustr.S0 = 98.5\n",
    "newT = 29/252\n",
    "cstr.T = newT\n",
    "pustr.T = newT\n",
    "newp = pd.concat([cstr.return_values(),pustr.return_values()],axis = 0)\n",
    "newp.loc['net_position',:] = (newp.T @ positions).values.T\n"
   ]
  },
  {
   "cell_type": "code",
   "execution_count": 92,
   "metadata": {},
   "outputs": [
    {
     "data": {
      "text/html": [
       "<div>\n",
       "<style scoped>\n",
       "    .dataframe tbody tr th:only-of-type {\n",
       "        vertical-align: middle;\n",
       "    }\n",
       "\n",
       "    .dataframe tbody tr th {\n",
       "        vertical-align: top;\n",
       "    }\n",
       "\n",
       "    .dataframe thead th {\n",
       "        text-align: right;\n",
       "    }\n",
       "</style>\n",
       "<table border=\"1\" class=\"dataframe\">\n",
       "  <thead>\n",
       "    <tr style=\"text-align: right;\">\n",
       "      <th></th>\n",
       "      <th>Price</th>\n",
       "      <th>Delta</th>\n",
       "      <th>Gamma</th>\n",
       "      <th>Vega</th>\n",
       "      <th>Theta</th>\n",
       "    </tr>\n",
       "  </thead>\n",
       "  <tbody>\n",
       "    <tr>\n",
       "      <th>CALL(K = 95)</th>\n",
       "      <td>4.744795</td>\n",
       "      <td>0.751614</td>\n",
       "      <td>0.052652</td>\n",
       "      <td>0.105818</td>\n",
       "      <td>-0.028368</td>\n",
       "    </tr>\n",
       "    <tr>\n",
       "      <th>PUT(K = 95)</th>\n",
       "      <td>0.917385</td>\n",
       "      <td>-0.248386</td>\n",
       "      <td>0.052652</td>\n",
       "      <td>0.105818</td>\n",
       "      <td>-0.020587</td>\n",
       "    </tr>\n",
       "    <tr>\n",
       "      <th>net_position</th>\n",
       "      <td>21717.655087</td>\n",
       "      <td>1922.902814</td>\n",
       "      <td>404.686868</td>\n",
       "      <td>813.320156</td>\n",
       "      <td>-188.049023</td>\n",
       "    </tr>\n",
       "  </tbody>\n",
       "</table>\n",
       "</div>"
      ],
      "text/plain": [
       "                     Price        Delta       Gamma        Vega       Theta\n",
       "CALL(K = 95)      4.744795     0.751614    0.052652    0.105818   -0.028368\n",
       "PUT(K = 95)       0.917385    -0.248386    0.052652    0.105818   -0.020587\n",
       "net_position  21717.655087  1922.902814  404.686868  813.320156 -188.049023"
      ]
     },
     "execution_count": 92,
     "metadata": {},
     "output_type": "execute_result"
    }
   ],
   "source": [
    "newp"
   ]
  },
  {
   "cell_type": "code",
   "execution_count": 93,
   "metadata": {},
   "outputs": [
    {
     "data": {
      "text/plain": [
       "Delta   -1922.702814\n",
       "Vega     -413.320156\n",
       "Name: net_position, dtype: float64"
      ]
     },
     "execution_count": 93,
     "metadata": {},
     "output_type": "execute_result"
    }
   ],
   "source": [
    "bcol = np.array([0.2,400]) - newp.loc['net_position',['Delta','Vega']]\n",
    "bcol"
   ]
  },
  {
   "cell_type": "code",
   "execution_count": 94,
   "metadata": {},
   "outputs": [
    {
     "data": {
      "text/html": [
       "<div>\n",
       "<style scoped>\n",
       "    .dataframe tbody tr th:only-of-type {\n",
       "        vertical-align: middle;\n",
       "    }\n",
       "\n",
       "    .dataframe tbody tr th {\n",
       "        vertical-align: top;\n",
       "    }\n",
       "\n",
       "    .dataframe thead th {\n",
       "        text-align: right;\n",
       "    }\n",
       "</style>\n",
       "<table border=\"1\" class=\"dataframe\">\n",
       "  <thead>\n",
       "    <tr style=\"text-align: right;\">\n",
       "      <th></th>\n",
       "      <th>Size</th>\n",
       "    </tr>\n",
       "  </thead>\n",
       "  <tbody>\n",
       "    <tr>\n",
       "      <th>CALL(K = 95)</th>\n",
       "      <td>939.115468</td>\n",
       "    </tr>\n",
       "    <tr>\n",
       "      <th>PUT(K = 95)</th>\n",
       "      <td>2840.945776</td>\n",
       "    </tr>\n",
       "  </tbody>\n",
       "</table>\n",
       "</div>"
      ],
      "text/plain": [
       "                     Size\n",
       "CALL(K = 95)   939.115468\n",
       "PUT(K = 95)   2840.945776"
      ]
     },
     "execution_count": 94,
     "metadata": {},
     "output_type": "execute_result"
    }
   ],
   "source": [
    "newdymanics = set_up_matrix(portfolio=newp)\n",
    "positions['Size'] = sizes.flatten() + (np.linalg.solve(newdymanics,bcol))\n",
    "positions"
   ]
  },
  {
   "cell_type": "code",
   "execution_count": 95,
   "metadata": {},
   "outputs": [
    {
     "data": {
      "text/html": [
       "<div>\n",
       "<style scoped>\n",
       "    .dataframe tbody tr th:only-of-type {\n",
       "        vertical-align: middle;\n",
       "    }\n",
       "\n",
       "    .dataframe tbody tr th {\n",
       "        vertical-align: top;\n",
       "    }\n",
       "\n",
       "    .dataframe thead th {\n",
       "        text-align: right;\n",
       "    }\n",
       "</style>\n",
       "<table border=\"1\" class=\"dataframe\">\n",
       "  <thead>\n",
       "    <tr style=\"text-align: right;\">\n",
       "      <th></th>\n",
       "      <th>Price</th>\n",
       "      <th>Delta</th>\n",
       "      <th>Gamma</th>\n",
       "      <th>Vega</th>\n",
       "      <th>Theta</th>\n",
       "    </tr>\n",
       "  </thead>\n",
       "  <tbody>\n",
       "    <tr>\n",
       "      <th>CALL(K = 95)</th>\n",
       "      <td>4.744795</td>\n",
       "      <td>0.751614</td>\n",
       "      <td>0.052652</td>\n",
       "      <td>0.105818</td>\n",
       "      <td>-0.028368</td>\n",
       "    </tr>\n",
       "    <tr>\n",
       "      <th>PUT(K = 95)</th>\n",
       "      <td>0.917385</td>\n",
       "      <td>-0.248386</td>\n",
       "      <td>0.052652</td>\n",
       "      <td>0.105818</td>\n",
       "      <td>-0.020587</td>\n",
       "    </tr>\n",
       "    <tr>\n",
       "      <th>net_position</th>\n",
       "      <td>21717.655087</td>\n",
       "      <td>1922.902814</td>\n",
       "      <td>404.686868</td>\n",
       "      <td>813.320156</td>\n",
       "      <td>-188.049023</td>\n",
       "    </tr>\n",
       "    <tr>\n",
       "      <th>re_hedged</th>\n",
       "      <td>7062.150200</td>\n",
       "      <td>0.200000</td>\n",
       "      <td>199.029553</td>\n",
       "      <td>400.000000</td>\n",
       "      <td>-85.127356</td>\n",
       "    </tr>\n",
       "  </tbody>\n",
       "</table>\n",
       "</div>"
      ],
      "text/plain": [
       "                     Price        Delta       Gamma        Vega       Theta\n",
       "CALL(K = 95)      4.744795     0.751614    0.052652    0.105818   -0.028368\n",
       "PUT(K = 95)       0.917385    -0.248386    0.052652    0.105818   -0.020587\n",
       "net_position  21717.655087  1922.902814  404.686868  813.320156 -188.049023\n",
       "re_hedged      7062.150200     0.200000  199.029553  400.000000  -85.127356"
      ]
     },
     "execution_count": 95,
     "metadata": {},
     "output_type": "execute_result"
    }
   ],
   "source": [
    "newp_hedged  = newp.copy()\n",
    "newp_hedged.loc['re_hedged',:] = (newp.iloc[0:2,:].T @ positions).values.T \n",
    "newp_hedged"
   ]
  },
  {
   "cell_type": "code",
   "execution_count": 96,
   "metadata": {},
   "outputs": [
    {
     "data": {
      "text/html": [
       "<div>\n",
       "<style scoped>\n",
       "    .dataframe tbody tr th:only-of-type {\n",
       "        vertical-align: middle;\n",
       "    }\n",
       "\n",
       "    .dataframe tbody tr th {\n",
       "        vertical-align: top;\n",
       "    }\n",
       "\n",
       "    .dataframe thead th {\n",
       "        text-align: right;\n",
       "    }\n",
       "</style>\n",
       "<table border=\"1\" class=\"dataframe\">\n",
       "  <thead>\n",
       "    <tr style=\"text-align: right;\">\n",
       "      <th></th>\n",
       "      <th>Size</th>\n",
       "    </tr>\n",
       "  </thead>\n",
       "  <tbody>\n",
       "    <tr>\n",
       "      <th>Price</th>\n",
       "      <td>7062.150200</td>\n",
       "    </tr>\n",
       "    <tr>\n",
       "      <th>Delta</th>\n",
       "      <td>0.200000</td>\n",
       "    </tr>\n",
       "    <tr>\n",
       "      <th>Gamma</th>\n",
       "      <td>199.029553</td>\n",
       "    </tr>\n",
       "    <tr>\n",
       "      <th>Vega</th>\n",
       "      <td>400.000000</td>\n",
       "    </tr>\n",
       "    <tr>\n",
       "      <th>Theta</th>\n",
       "      <td>-85.127356</td>\n",
       "    </tr>\n",
       "  </tbody>\n",
       "</table>\n",
       "</div>"
      ],
      "text/plain": [
       "              Size\n",
       "Price  7062.150200\n",
       "Delta     0.200000\n",
       "Gamma   199.029553\n",
       "Vega    400.000000\n",
       "Theta   -85.127356"
      ]
     },
     "execution_count": 96,
     "metadata": {},
     "output_type": "execute_result"
    }
   ],
   "source": [
    "newp.iloc[0:2,:].T @ positions"
   ]
  },
  {
   "cell_type": "markdown",
   "metadata": {},
   "source": [
    "- I need to sell 29 calls and sell and additional 10 puts in order to make my current portfolio 0.2 delta and vega notional 400.\n"
   ]
  },
  {
   "cell_type": "markdown",
   "metadata": {},
   "source": [
    "## Gamma Scalp\n",
    "\n",
    "- For a **delta neutral portfolio**, the fundamental multivariate relationship exists:\n",
    "\n",
    "\\begin{align}\n",
    "\n",
    "\\Delta V_{p} = \\Theta \\Delta\\tau + \\frac{\\Gamma (\\Delta S)^{2}}{2}\n",
    "\n",
    "\\end{align}\n",
    "\n",
    "How much does a stock price need to move in one day in order to profit from $\\Gamma$?\n",
    "\n",
    "- Solving for $\\Delta S$ we find the solution:\n",
    "\n",
    "\\begin{align}\n",
    "\n",
    "\\Delta S  \\ge \\sqrt{\\frac{2 \\Theta}{\\Gamma}}\n",
    "\n",
    "\\end{align}"
   ]
  },
  {
   "cell_type": "code",
   "execution_count": 97,
   "metadata": {},
   "outputs": [
    {
     "data": {
      "text/html": [
       "<div>\n",
       "<style scoped>\n",
       "    .dataframe tbody tr th:only-of-type {\n",
       "        vertical-align: middle;\n",
       "    }\n",
       "\n",
       "    .dataframe tbody tr th {\n",
       "        vertical-align: top;\n",
       "    }\n",
       "\n",
       "    .dataframe thead th {\n",
       "        text-align: right;\n",
       "    }\n",
       "</style>\n",
       "<table border=\"1\" class=\"dataframe\">\n",
       "  <thead>\n",
       "    <tr style=\"text-align: right;\">\n",
       "      <th></th>\n",
       "      <th>0</th>\n",
       "    </tr>\n",
       "  </thead>\n",
       "  <tbody>\n",
       "    <tr>\n",
       "      <th>Price</th>\n",
       "      <td>1.801699e+06</td>\n",
       "    </tr>\n",
       "    <tr>\n",
       "      <th>Delta</th>\n",
       "      <td>7.033685e-01</td>\n",
       "    </tr>\n",
       "    <tr>\n",
       "      <th>Gamma</th>\n",
       "      <td>5.224479e+04</td>\n",
       "    </tr>\n",
       "    <tr>\n",
       "      <th>Vega</th>\n",
       "      <td>9.997693e+04</td>\n",
       "    </tr>\n",
       "    <tr>\n",
       "      <th>Theta</th>\n",
       "      <td>-2.055947e+04</td>\n",
       "    </tr>\n",
       "  </tbody>\n",
       "</table>\n",
       "</div>"
      ],
      "text/plain": [
       "                  0\n",
       "Price  1.801699e+06\n",
       "Delta  7.033685e-01\n",
       "Gamma  5.224479e+04\n",
       "Vega   9.997693e+04\n",
       "Theta -2.055947e+04"
      ]
     },
     "execution_count": 97,
     "metadata": {},
     "output_type": "execute_result"
    }
   ],
   "source": [
    "(P.iloc[0:2,:].T @ sizes)*100"
   ]
  },
  {
   "cell_type": "markdown",
   "metadata": {},
   "source": [
    "- If $\\sigma_{iv}$ increases by 0.01, the PNL of my portfolio of options increases by $\\$1000$."
   ]
  },
  {
   "cell_type": "markdown",
   "metadata": {},
   "source": [
    "# Long Strangle\n",
    "\n",
    "- Buying an equidistant *OTM Call* and *OTM Put*\n",
    "- Less expensive strategy for long volatility than setting up a straddle\n",
    "\n",
    "<u>Example</u>:\n",
    "\n",
    "- Buy C(82.5) = 0.49\n",
    "- Buy P(62.50) = 0.57\n",
    "\n",
    "- Let's say the spot is $S_0 = \\$72.38$.\n",
    "\n",
    "- Premium paid is $\\$1.06$."
   ]
  },
  {
   "cell_type": "code",
   "execution_count": 98,
   "metadata": {},
   "outputs": [
    {
     "data": {
      "application/vnd.plotly.v1+json": {
       "config": {
        "plotlyServerURL": "https://plot.ly"
       },
       "data": [
        {
         "hovertemplate": "variable=Profit<br>Spot=%{x}<br>value=%{y}<extra></extra>",
         "legendgroup": "Profit",
         "line": {
          "color": "#636efa",
          "dash": "solid"
         },
         "marker": {
          "symbol": "circle"
         },
         "mode": "lines",
         "name": "Profit",
         "orientation": "v",
         "showlegend": true,
         "type": "scatter",
         "x": [
          50,
          50.5,
          51,
          51.5,
          52,
          52.5,
          53,
          53.5,
          54,
          54.5,
          55,
          55.5,
          56,
          56.5,
          57,
          57.5,
          58,
          58.5,
          59,
          59.5,
          60,
          60.5,
          61,
          61.5,
          62,
          62.5,
          63,
          63.5,
          64,
          64.5,
          65,
          65.5,
          66,
          66.5,
          67,
          67.5,
          68,
          68.5,
          69,
          69.5,
          70,
          70.5,
          71,
          71.5,
          72,
          72.5,
          73,
          73.5,
          74,
          74.5,
          75,
          75.5,
          76,
          76.5,
          77,
          77.5,
          78,
          78.5,
          79,
          79.5,
          80,
          80.5,
          81,
          81.5,
          82,
          82.5,
          83,
          83.5,
          84,
          84.5,
          85,
          85.5,
          86,
          86.5,
          87,
          87.5,
          88,
          88.5,
          89,
          89.5,
          90,
          90.5,
          91,
          91.5,
          92,
          92.5,
          93,
          93.5,
          94,
          94.5,
          95,
          95.5,
          96,
          96.5,
          97,
          97.5,
          98,
          98.5,
          99,
          99.5,
          100
         ],
         "xaxis": "x",
         "y": [
          11440,
          10940,
          10440,
          9940,
          9440,
          8940,
          8440,
          7939.999999999999,
          7439.999999999999,
          6939.999999999999,
          6439.999999999999,
          5939.999999999999,
          5439.999999999999,
          4939.999999999999,
          4439.999999999999,
          3940,
          3440,
          2940,
          2440,
          1939.9999999999998,
          1439.9999999999998,
          939.9999999999999,
          439.99999999999994,
          -60.00000000000006,
          -560,
          -1060.0000000000002,
          -1060.0000000000002,
          -1060.0000000000002,
          -1060.0000000000002,
          -1060.0000000000002,
          -1060.0000000000002,
          -1060.0000000000002,
          -1060.0000000000002,
          -1060.0000000000002,
          -1060.0000000000002,
          -1060.0000000000002,
          -1060.0000000000002,
          -1060.0000000000002,
          -1060.0000000000002,
          -1060.0000000000002,
          -1060.0000000000002,
          -1060.0000000000002,
          -1060.0000000000002,
          -1060.0000000000002,
          -1060.0000000000002,
          -1060.0000000000002,
          -1060.0000000000002,
          -1060.0000000000002,
          -1060.0000000000002,
          -1060.0000000000002,
          -1060.0000000000002,
          -1060.0000000000002,
          -1060.0000000000002,
          -1060.0000000000002,
          -1060.0000000000002,
          -1060.0000000000002,
          -1060.0000000000002,
          -1060.0000000000002,
          -1060.0000000000002,
          -1060.0000000000002,
          -1060.0000000000002,
          -1060.0000000000002,
          -1060.0000000000002,
          -1060.0000000000002,
          -1060.0000000000002,
          -1060.0000000000002,
          -560,
          -60.00000000000006,
          439.99999999999994,
          939.9999999999999,
          1439.9999999999998,
          1939.9999999999998,
          2440,
          2940,
          3440,
          3940,
          4439.999999999999,
          4939.999999999999,
          5439.999999999999,
          5939.999999999999,
          6439.999999999999,
          6939.999999999999,
          7439.999999999999,
          7939.999999999999,
          8440,
          8940,
          9440,
          9940,
          10440,
          10940,
          11440,
          11940,
          12440,
          12940,
          13440,
          13940,
          14440,
          14940,
          15440,
          15940,
          16440
         ],
         "yaxis": "y"
        }
       ],
       "layout": {
        "annotations": [
         {
          "showarrow": false,
          "text": "DBEP @ $61.44",
          "x": 61.44,
          "xanchor": "left",
          "xref": "x",
          "y": 1,
          "yanchor": "top",
          "yref": "y domain"
         },
         {
          "showarrow": false,
          "text": "UBEP @ $83.56",
          "x": 83.56,
          "xanchor": "left",
          "xref": "x",
          "y": 1,
          "yanchor": "top",
          "yref": "y domain"
         },
         {
          "showarrow": false,
          "text": "Max Loss @ $-1060.0 ",
          "x": 1,
          "xanchor": "right",
          "xref": "x domain",
          "y": -1060,
          "yanchor": "bottom",
          "yref": "y"
         }
        ],
        "legend": {
         "title": {
          "text": "variable"
         },
         "tracegroupgap": 0
        },
        "shapes": [
         {
          "type": "line",
          "x0": 61.44,
          "x1": 61.44,
          "xref": "x",
          "y0": 0,
          "y1": 1,
          "yref": "y domain"
         },
         {
          "type": "line",
          "x0": 83.56,
          "x1": 83.56,
          "xref": "x",
          "y0": 0,
          "y1": 1,
          "yref": "y domain"
         },
         {
          "type": "line",
          "x0": 0,
          "x1": 1,
          "xref": "x domain",
          "y0": -1060,
          "y1": -1060,
          "yref": "y"
         }
        ],
        "template": {
         "data": {
          "bar": [
           {
            "error_x": {
             "color": "#2a3f5f"
            },
            "error_y": {
             "color": "#2a3f5f"
            },
            "marker": {
             "line": {
              "color": "#E5ECF6",
              "width": 0.5
             },
             "pattern": {
              "fillmode": "overlay",
              "size": 10,
              "solidity": 0.2
             }
            },
            "type": "bar"
           }
          ],
          "barpolar": [
           {
            "marker": {
             "line": {
              "color": "#E5ECF6",
              "width": 0.5
             },
             "pattern": {
              "fillmode": "overlay",
              "size": 10,
              "solidity": 0.2
             }
            },
            "type": "barpolar"
           }
          ],
          "carpet": [
           {
            "aaxis": {
             "endlinecolor": "#2a3f5f",
             "gridcolor": "white",
             "linecolor": "white",
             "minorgridcolor": "white",
             "startlinecolor": "#2a3f5f"
            },
            "baxis": {
             "endlinecolor": "#2a3f5f",
             "gridcolor": "white",
             "linecolor": "white",
             "minorgridcolor": "white",
             "startlinecolor": "#2a3f5f"
            },
            "type": "carpet"
           }
          ],
          "choropleth": [
           {
            "colorbar": {
             "outlinewidth": 0,
             "ticks": ""
            },
            "type": "choropleth"
           }
          ],
          "contour": [
           {
            "colorbar": {
             "outlinewidth": 0,
             "ticks": ""
            },
            "colorscale": [
             [
              0,
              "#0d0887"
             ],
             [
              0.1111111111111111,
              "#46039f"
             ],
             [
              0.2222222222222222,
              "#7201a8"
             ],
             [
              0.3333333333333333,
              "#9c179e"
             ],
             [
              0.4444444444444444,
              "#bd3786"
             ],
             [
              0.5555555555555556,
              "#d8576b"
             ],
             [
              0.6666666666666666,
              "#ed7953"
             ],
             [
              0.7777777777777778,
              "#fb9f3a"
             ],
             [
              0.8888888888888888,
              "#fdca26"
             ],
             [
              1,
              "#f0f921"
             ]
            ],
            "type": "contour"
           }
          ],
          "contourcarpet": [
           {
            "colorbar": {
             "outlinewidth": 0,
             "ticks": ""
            },
            "type": "contourcarpet"
           }
          ],
          "heatmap": [
           {
            "colorbar": {
             "outlinewidth": 0,
             "ticks": ""
            },
            "colorscale": [
             [
              0,
              "#0d0887"
             ],
             [
              0.1111111111111111,
              "#46039f"
             ],
             [
              0.2222222222222222,
              "#7201a8"
             ],
             [
              0.3333333333333333,
              "#9c179e"
             ],
             [
              0.4444444444444444,
              "#bd3786"
             ],
             [
              0.5555555555555556,
              "#d8576b"
             ],
             [
              0.6666666666666666,
              "#ed7953"
             ],
             [
              0.7777777777777778,
              "#fb9f3a"
             ],
             [
              0.8888888888888888,
              "#fdca26"
             ],
             [
              1,
              "#f0f921"
             ]
            ],
            "type": "heatmap"
           }
          ],
          "heatmapgl": [
           {
            "colorbar": {
             "outlinewidth": 0,
             "ticks": ""
            },
            "colorscale": [
             [
              0,
              "#0d0887"
             ],
             [
              0.1111111111111111,
              "#46039f"
             ],
             [
              0.2222222222222222,
              "#7201a8"
             ],
             [
              0.3333333333333333,
              "#9c179e"
             ],
             [
              0.4444444444444444,
              "#bd3786"
             ],
             [
              0.5555555555555556,
              "#d8576b"
             ],
             [
              0.6666666666666666,
              "#ed7953"
             ],
             [
              0.7777777777777778,
              "#fb9f3a"
             ],
             [
              0.8888888888888888,
              "#fdca26"
             ],
             [
              1,
              "#f0f921"
             ]
            ],
            "type": "heatmapgl"
           }
          ],
          "histogram": [
           {
            "marker": {
             "pattern": {
              "fillmode": "overlay",
              "size": 10,
              "solidity": 0.2
             }
            },
            "type": "histogram"
           }
          ],
          "histogram2d": [
           {
            "colorbar": {
             "outlinewidth": 0,
             "ticks": ""
            },
            "colorscale": [
             [
              0,
              "#0d0887"
             ],
             [
              0.1111111111111111,
              "#46039f"
             ],
             [
              0.2222222222222222,
              "#7201a8"
             ],
             [
              0.3333333333333333,
              "#9c179e"
             ],
             [
              0.4444444444444444,
              "#bd3786"
             ],
             [
              0.5555555555555556,
              "#d8576b"
             ],
             [
              0.6666666666666666,
              "#ed7953"
             ],
             [
              0.7777777777777778,
              "#fb9f3a"
             ],
             [
              0.8888888888888888,
              "#fdca26"
             ],
             [
              1,
              "#f0f921"
             ]
            ],
            "type": "histogram2d"
           }
          ],
          "histogram2dcontour": [
           {
            "colorbar": {
             "outlinewidth": 0,
             "ticks": ""
            },
            "colorscale": [
             [
              0,
              "#0d0887"
             ],
             [
              0.1111111111111111,
              "#46039f"
             ],
             [
              0.2222222222222222,
              "#7201a8"
             ],
             [
              0.3333333333333333,
              "#9c179e"
             ],
             [
              0.4444444444444444,
              "#bd3786"
             ],
             [
              0.5555555555555556,
              "#d8576b"
             ],
             [
              0.6666666666666666,
              "#ed7953"
             ],
             [
              0.7777777777777778,
              "#fb9f3a"
             ],
             [
              0.8888888888888888,
              "#fdca26"
             ],
             [
              1,
              "#f0f921"
             ]
            ],
            "type": "histogram2dcontour"
           }
          ],
          "mesh3d": [
           {
            "colorbar": {
             "outlinewidth": 0,
             "ticks": ""
            },
            "type": "mesh3d"
           }
          ],
          "parcoords": [
           {
            "line": {
             "colorbar": {
              "outlinewidth": 0,
              "ticks": ""
             }
            },
            "type": "parcoords"
           }
          ],
          "pie": [
           {
            "automargin": true,
            "type": "pie"
           }
          ],
          "scatter": [
           {
            "fillpattern": {
             "fillmode": "overlay",
             "size": 10,
             "solidity": 0.2
            },
            "type": "scatter"
           }
          ],
          "scatter3d": [
           {
            "line": {
             "colorbar": {
              "outlinewidth": 0,
              "ticks": ""
             }
            },
            "marker": {
             "colorbar": {
              "outlinewidth": 0,
              "ticks": ""
             }
            },
            "type": "scatter3d"
           }
          ],
          "scattercarpet": [
           {
            "marker": {
             "colorbar": {
              "outlinewidth": 0,
              "ticks": ""
             }
            },
            "type": "scattercarpet"
           }
          ],
          "scattergeo": [
           {
            "marker": {
             "colorbar": {
              "outlinewidth": 0,
              "ticks": ""
             }
            },
            "type": "scattergeo"
           }
          ],
          "scattergl": [
           {
            "marker": {
             "colorbar": {
              "outlinewidth": 0,
              "ticks": ""
             }
            },
            "type": "scattergl"
           }
          ],
          "scattermapbox": [
           {
            "marker": {
             "colorbar": {
              "outlinewidth": 0,
              "ticks": ""
             }
            },
            "type": "scattermapbox"
           }
          ],
          "scatterpolar": [
           {
            "marker": {
             "colorbar": {
              "outlinewidth": 0,
              "ticks": ""
             }
            },
            "type": "scatterpolar"
           }
          ],
          "scatterpolargl": [
           {
            "marker": {
             "colorbar": {
              "outlinewidth": 0,
              "ticks": ""
             }
            },
            "type": "scatterpolargl"
           }
          ],
          "scatterternary": [
           {
            "marker": {
             "colorbar": {
              "outlinewidth": 0,
              "ticks": ""
             }
            },
            "type": "scatterternary"
           }
          ],
          "surface": [
           {
            "colorbar": {
             "outlinewidth": 0,
             "ticks": ""
            },
            "colorscale": [
             [
              0,
              "#0d0887"
             ],
             [
              0.1111111111111111,
              "#46039f"
             ],
             [
              0.2222222222222222,
              "#7201a8"
             ],
             [
              0.3333333333333333,
              "#9c179e"
             ],
             [
              0.4444444444444444,
              "#bd3786"
             ],
             [
              0.5555555555555556,
              "#d8576b"
             ],
             [
              0.6666666666666666,
              "#ed7953"
             ],
             [
              0.7777777777777778,
              "#fb9f3a"
             ],
             [
              0.8888888888888888,
              "#fdca26"
             ],
             [
              1,
              "#f0f921"
             ]
            ],
            "type": "surface"
           }
          ],
          "table": [
           {
            "cells": {
             "fill": {
              "color": "#EBF0F8"
             },
             "line": {
              "color": "white"
             }
            },
            "header": {
             "fill": {
              "color": "#C8D4E3"
             },
             "line": {
              "color": "white"
             }
            },
            "type": "table"
           }
          ]
         },
         "layout": {
          "annotationdefaults": {
           "arrowcolor": "#2a3f5f",
           "arrowhead": 0,
           "arrowwidth": 1
          },
          "autotypenumbers": "strict",
          "coloraxis": {
           "colorbar": {
            "outlinewidth": 0,
            "ticks": ""
           }
          },
          "colorscale": {
           "diverging": [
            [
             0,
             "#8e0152"
            ],
            [
             0.1,
             "#c51b7d"
            ],
            [
             0.2,
             "#de77ae"
            ],
            [
             0.3,
             "#f1b6da"
            ],
            [
             0.4,
             "#fde0ef"
            ],
            [
             0.5,
             "#f7f7f7"
            ],
            [
             0.6,
             "#e6f5d0"
            ],
            [
             0.7,
             "#b8e186"
            ],
            [
             0.8,
             "#7fbc41"
            ],
            [
             0.9,
             "#4d9221"
            ],
            [
             1,
             "#276419"
            ]
           ],
           "sequential": [
            [
             0,
             "#0d0887"
            ],
            [
             0.1111111111111111,
             "#46039f"
            ],
            [
             0.2222222222222222,
             "#7201a8"
            ],
            [
             0.3333333333333333,
             "#9c179e"
            ],
            [
             0.4444444444444444,
             "#bd3786"
            ],
            [
             0.5555555555555556,
             "#d8576b"
            ],
            [
             0.6666666666666666,
             "#ed7953"
            ],
            [
             0.7777777777777778,
             "#fb9f3a"
            ],
            [
             0.8888888888888888,
             "#fdca26"
            ],
            [
             1,
             "#f0f921"
            ]
           ],
           "sequentialminus": [
            [
             0,
             "#0d0887"
            ],
            [
             0.1111111111111111,
             "#46039f"
            ],
            [
             0.2222222222222222,
             "#7201a8"
            ],
            [
             0.3333333333333333,
             "#9c179e"
            ],
            [
             0.4444444444444444,
             "#bd3786"
            ],
            [
             0.5555555555555556,
             "#d8576b"
            ],
            [
             0.6666666666666666,
             "#ed7953"
            ],
            [
             0.7777777777777778,
             "#fb9f3a"
            ],
            [
             0.8888888888888888,
             "#fdca26"
            ],
            [
             1,
             "#f0f921"
            ]
           ]
          },
          "colorway": [
           "#636efa",
           "#EF553B",
           "#00cc96",
           "#ab63fa",
           "#FFA15A",
           "#19d3f3",
           "#FF6692",
           "#B6E880",
           "#FF97FF",
           "#FECB52"
          ],
          "font": {
           "color": "#2a3f5f"
          },
          "geo": {
           "bgcolor": "white",
           "lakecolor": "white",
           "landcolor": "#E5ECF6",
           "showlakes": true,
           "showland": true,
           "subunitcolor": "white"
          },
          "hoverlabel": {
           "align": "left"
          },
          "hovermode": "closest",
          "mapbox": {
           "style": "light"
          },
          "paper_bgcolor": "white",
          "plot_bgcolor": "#E5ECF6",
          "polar": {
           "angularaxis": {
            "gridcolor": "white",
            "linecolor": "white",
            "ticks": ""
           },
           "bgcolor": "#E5ECF6",
           "radialaxis": {
            "gridcolor": "white",
            "linecolor": "white",
            "ticks": ""
           }
          },
          "scene": {
           "xaxis": {
            "backgroundcolor": "#E5ECF6",
            "gridcolor": "white",
            "gridwidth": 2,
            "linecolor": "white",
            "showbackground": true,
            "ticks": "",
            "zerolinecolor": "white"
           },
           "yaxis": {
            "backgroundcolor": "#E5ECF6",
            "gridcolor": "white",
            "gridwidth": 2,
            "linecolor": "white",
            "showbackground": true,
            "ticks": "",
            "zerolinecolor": "white"
           },
           "zaxis": {
            "backgroundcolor": "#E5ECF6",
            "gridcolor": "white",
            "gridwidth": 2,
            "linecolor": "white",
            "showbackground": true,
            "ticks": "",
            "zerolinecolor": "white"
           }
          },
          "shapedefaults": {
           "line": {
            "color": "#2a3f5f"
           }
          },
          "ternary": {
           "aaxis": {
            "gridcolor": "white",
            "linecolor": "white",
            "ticks": ""
           },
           "baxis": {
            "gridcolor": "white",
            "linecolor": "white",
            "ticks": ""
           },
           "bgcolor": "#E5ECF6",
           "caxis": {
            "gridcolor": "white",
            "linecolor": "white",
            "ticks": ""
           }
          },
          "title": {
           "x": 0.05
          },
          "xaxis": {
           "automargin": true,
           "gridcolor": "white",
           "linecolor": "white",
           "ticks": "",
           "title": {
            "standoff": 15
           },
           "zerolinecolor": "white",
           "zerolinewidth": 2
          },
          "yaxis": {
           "automargin": true,
           "gridcolor": "white",
           "linecolor": "white",
           "ticks": "",
           "title": {
            "standoff": 15
           },
           "zerolinecolor": "white",
           "zerolinewidth": 2
          }
         }
        },
        "title": {
         "text": "Long Straddle 10x"
        },
        "xaxis": {
         "anchor": "y",
         "domain": [
          0,
          1
         ],
         "title": {
          "text": "Spot"
         }
        },
        "yaxis": {
         "anchor": "x",
         "domain": [
          0,
          1
         ],
         "title": {
          "text": "value"
         }
        }
       }
      }
     },
     "metadata": {},
     "output_type": "display_data"
    }
   ],
   "source": [
    "S_ = np.linspace(50,100,num = 101)\n",
    "VPT = pd.DataFrame(np.maximum(S_-82.5,0) + np.maximum(62.50- S_,0) - (0.49 + .57), index = S_,columns=['Profit'])*10*100\n",
    "VPT.index.name = 'Spot'\n",
    "fig3 = px.line(VPT, title = \"Long Straddle 10x\")\n",
    "fig3.add_vline(x = 62.5-1.06,annotation=dict(text = f'DBEP @ ${62.5-1.06}'))\n",
    "fig3.add_vline(x = 82.5+ 1.06,annotation=dict(text = f\"UBEP @ ${82.5+1.06}\"))\n",
    "fig3.add_hline(y = -1.06*1000,annotation=dict(text = f\"Max Loss @ ${-1.06*1000} \"))\n",
    "fig3"
   ]
  },
  {
   "cell_type": "markdown",
   "metadata": {},
   "source": [
    "- Infinite profits on the upside, yet capped profits on the downside. "
   ]
  },
  {
   "cell_type": "markdown",
   "metadata": {},
   "source": [
    "# Short Straddle \n",
    "\n",
    "- Short long volatility\n",
    "Continuing with the example above we establish a credit and hope that major price movements do not occur in the underlying."
   ]
  },
  {
   "cell_type": "code",
   "execution_count": 99,
   "metadata": {},
   "outputs": [
    {
     "data": {
      "application/vnd.plotly.v1+json": {
       "config": {
        "plotlyServerURL": "https://plot.ly"
       },
       "data": [
        {
         "hovertemplate": "variable=Profit<br>Spot=%{x}<br>value=%{y}<extra></extra>",
         "legendgroup": "Profit",
         "line": {
          "color": "#636efa",
          "dash": "solid"
         },
         "marker": {
          "symbol": "circle"
         },
         "mode": "lines",
         "name": "Profit",
         "orientation": "v",
         "showlegend": true,
         "type": "scatter",
         "x": [
          50,
          50.5,
          51,
          51.5,
          52,
          52.5,
          53,
          53.5,
          54,
          54.5,
          55,
          55.5,
          56,
          56.5,
          57,
          57.5,
          58,
          58.5,
          59,
          59.5,
          60,
          60.5,
          61,
          61.5,
          62,
          62.5,
          63,
          63.5,
          64,
          64.5,
          65,
          65.5,
          66,
          66.5,
          67,
          67.5,
          68,
          68.5,
          69,
          69.5,
          70,
          70.5,
          71,
          71.5,
          72,
          72.5,
          73,
          73.5,
          74,
          74.5,
          75,
          75.5,
          76,
          76.5,
          77,
          77.5,
          78,
          78.5,
          79,
          79.5,
          80,
          80.5,
          81,
          81.5,
          82,
          82.5,
          83,
          83.5,
          84,
          84.5,
          85,
          85.5,
          86,
          86.5,
          87,
          87.5,
          88,
          88.5,
          89,
          89.5,
          90,
          90.5,
          91,
          91.5,
          92,
          92.5,
          93,
          93.5,
          94,
          94.5,
          95,
          95.5,
          96,
          96.5,
          97,
          97.5,
          98,
          98.5,
          99,
          99.5,
          100
         ],
         "xaxis": "x",
         "y": [
          -11440,
          -10940,
          -10440,
          -9940,
          -9440,
          -8940,
          -8440,
          -7939.999999999999,
          -7439.999999999999,
          -6939.999999999999,
          -6439.999999999999,
          -5939.999999999999,
          -5439.999999999999,
          -4939.999999999999,
          -4439.999999999999,
          -3940,
          -3440,
          -2940,
          -2440,
          -1939.9999999999998,
          -1439.9999999999998,
          -939.9999999999999,
          -439.99999999999994,
          60.00000000000006,
          560,
          1060.0000000000002,
          1060.0000000000002,
          1060.0000000000002,
          1060.0000000000002,
          1060.0000000000002,
          1060.0000000000002,
          1060.0000000000002,
          1060.0000000000002,
          1060.0000000000002,
          1060.0000000000002,
          1060.0000000000002,
          1060.0000000000002,
          1060.0000000000002,
          1060.0000000000002,
          1060.0000000000002,
          1060.0000000000002,
          1060.0000000000002,
          1060.0000000000002,
          1060.0000000000002,
          1060.0000000000002,
          1060.0000000000002,
          1060.0000000000002,
          1060.0000000000002,
          1060.0000000000002,
          1060.0000000000002,
          1060.0000000000002,
          1060.0000000000002,
          1060.0000000000002,
          1060.0000000000002,
          1060.0000000000002,
          1060.0000000000002,
          1060.0000000000002,
          1060.0000000000002,
          1060.0000000000002,
          1060.0000000000002,
          1060.0000000000002,
          1060.0000000000002,
          1060.0000000000002,
          1060.0000000000002,
          1060.0000000000002,
          1060.0000000000002,
          560,
          60.00000000000006,
          -439.99999999999994,
          -939.9999999999999,
          -1439.9999999999998,
          -1939.9999999999998,
          -2440,
          -2940,
          -3440,
          -3940,
          -4439.999999999999,
          -4939.999999999999,
          -5439.999999999999,
          -5939.999999999999,
          -6439.999999999999,
          -6939.999999999999,
          -7439.999999999999,
          -7939.999999999999,
          -8440,
          -8940,
          -9440,
          -9940,
          -10440,
          -10940,
          -11440,
          -11940,
          -12440,
          -12940,
          -13440,
          -13940,
          -14440,
          -14940,
          -15440,
          -15940,
          -16440
         ],
         "yaxis": "y"
        }
       ],
       "layout": {
        "annotations": [
         {
          "showarrow": false,
          "text": "DBEP @ $61.44",
          "x": 61.44,
          "xanchor": "left",
          "xref": "x",
          "y": 1,
          "yanchor": "top",
          "yref": "y domain"
         },
         {
          "showarrow": false,
          "text": "UBEP @ $83.56",
          "x": 83.56,
          "xanchor": "left",
          "xref": "x",
          "y": 1,
          "yanchor": "top",
          "yref": "y domain"
         },
         {
          "showarrow": false,
          "text": "Max Gain @ $1060.0 ",
          "x": 1,
          "xanchor": "right",
          "xref": "x domain",
          "y": 1060,
          "yanchor": "bottom",
          "yref": "y"
         }
        ],
        "legend": {
         "title": {
          "text": "variable"
         },
         "tracegroupgap": 0
        },
        "shapes": [
         {
          "type": "line",
          "x0": 61.44,
          "x1": 61.44,
          "xref": "x",
          "y0": 0,
          "y1": 1,
          "yref": "y domain"
         },
         {
          "type": "line",
          "x0": 83.56,
          "x1": 83.56,
          "xref": "x",
          "y0": 0,
          "y1": 1,
          "yref": "y domain"
         },
         {
          "type": "line",
          "x0": 0,
          "x1": 1,
          "xref": "x domain",
          "y0": 1060,
          "y1": 1060,
          "yref": "y"
         }
        ],
        "template": {
         "data": {
          "bar": [
           {
            "error_x": {
             "color": "#2a3f5f"
            },
            "error_y": {
             "color": "#2a3f5f"
            },
            "marker": {
             "line": {
              "color": "#E5ECF6",
              "width": 0.5
             },
             "pattern": {
              "fillmode": "overlay",
              "size": 10,
              "solidity": 0.2
             }
            },
            "type": "bar"
           }
          ],
          "barpolar": [
           {
            "marker": {
             "line": {
              "color": "#E5ECF6",
              "width": 0.5
             },
             "pattern": {
              "fillmode": "overlay",
              "size": 10,
              "solidity": 0.2
             }
            },
            "type": "barpolar"
           }
          ],
          "carpet": [
           {
            "aaxis": {
             "endlinecolor": "#2a3f5f",
             "gridcolor": "white",
             "linecolor": "white",
             "minorgridcolor": "white",
             "startlinecolor": "#2a3f5f"
            },
            "baxis": {
             "endlinecolor": "#2a3f5f",
             "gridcolor": "white",
             "linecolor": "white",
             "minorgridcolor": "white",
             "startlinecolor": "#2a3f5f"
            },
            "type": "carpet"
           }
          ],
          "choropleth": [
           {
            "colorbar": {
             "outlinewidth": 0,
             "ticks": ""
            },
            "type": "choropleth"
           }
          ],
          "contour": [
           {
            "colorbar": {
             "outlinewidth": 0,
             "ticks": ""
            },
            "colorscale": [
             [
              0,
              "#0d0887"
             ],
             [
              0.1111111111111111,
              "#46039f"
             ],
             [
              0.2222222222222222,
              "#7201a8"
             ],
             [
              0.3333333333333333,
              "#9c179e"
             ],
             [
              0.4444444444444444,
              "#bd3786"
             ],
             [
              0.5555555555555556,
              "#d8576b"
             ],
             [
              0.6666666666666666,
              "#ed7953"
             ],
             [
              0.7777777777777778,
              "#fb9f3a"
             ],
             [
              0.8888888888888888,
              "#fdca26"
             ],
             [
              1,
              "#f0f921"
             ]
            ],
            "type": "contour"
           }
          ],
          "contourcarpet": [
           {
            "colorbar": {
             "outlinewidth": 0,
             "ticks": ""
            },
            "type": "contourcarpet"
           }
          ],
          "heatmap": [
           {
            "colorbar": {
             "outlinewidth": 0,
             "ticks": ""
            },
            "colorscale": [
             [
              0,
              "#0d0887"
             ],
             [
              0.1111111111111111,
              "#46039f"
             ],
             [
              0.2222222222222222,
              "#7201a8"
             ],
             [
              0.3333333333333333,
              "#9c179e"
             ],
             [
              0.4444444444444444,
              "#bd3786"
             ],
             [
              0.5555555555555556,
              "#d8576b"
             ],
             [
              0.6666666666666666,
              "#ed7953"
             ],
             [
              0.7777777777777778,
              "#fb9f3a"
             ],
             [
              0.8888888888888888,
              "#fdca26"
             ],
             [
              1,
              "#f0f921"
             ]
            ],
            "type": "heatmap"
           }
          ],
          "heatmapgl": [
           {
            "colorbar": {
             "outlinewidth": 0,
             "ticks": ""
            },
            "colorscale": [
             [
              0,
              "#0d0887"
             ],
             [
              0.1111111111111111,
              "#46039f"
             ],
             [
              0.2222222222222222,
              "#7201a8"
             ],
             [
              0.3333333333333333,
              "#9c179e"
             ],
             [
              0.4444444444444444,
              "#bd3786"
             ],
             [
              0.5555555555555556,
              "#d8576b"
             ],
             [
              0.6666666666666666,
              "#ed7953"
             ],
             [
              0.7777777777777778,
              "#fb9f3a"
             ],
             [
              0.8888888888888888,
              "#fdca26"
             ],
             [
              1,
              "#f0f921"
             ]
            ],
            "type": "heatmapgl"
           }
          ],
          "histogram": [
           {
            "marker": {
             "pattern": {
              "fillmode": "overlay",
              "size": 10,
              "solidity": 0.2
             }
            },
            "type": "histogram"
           }
          ],
          "histogram2d": [
           {
            "colorbar": {
             "outlinewidth": 0,
             "ticks": ""
            },
            "colorscale": [
             [
              0,
              "#0d0887"
             ],
             [
              0.1111111111111111,
              "#46039f"
             ],
             [
              0.2222222222222222,
              "#7201a8"
             ],
             [
              0.3333333333333333,
              "#9c179e"
             ],
             [
              0.4444444444444444,
              "#bd3786"
             ],
             [
              0.5555555555555556,
              "#d8576b"
             ],
             [
              0.6666666666666666,
              "#ed7953"
             ],
             [
              0.7777777777777778,
              "#fb9f3a"
             ],
             [
              0.8888888888888888,
              "#fdca26"
             ],
             [
              1,
              "#f0f921"
             ]
            ],
            "type": "histogram2d"
           }
          ],
          "histogram2dcontour": [
           {
            "colorbar": {
             "outlinewidth": 0,
             "ticks": ""
            },
            "colorscale": [
             [
              0,
              "#0d0887"
             ],
             [
              0.1111111111111111,
              "#46039f"
             ],
             [
              0.2222222222222222,
              "#7201a8"
             ],
             [
              0.3333333333333333,
              "#9c179e"
             ],
             [
              0.4444444444444444,
              "#bd3786"
             ],
             [
              0.5555555555555556,
              "#d8576b"
             ],
             [
              0.6666666666666666,
              "#ed7953"
             ],
             [
              0.7777777777777778,
              "#fb9f3a"
             ],
             [
              0.8888888888888888,
              "#fdca26"
             ],
             [
              1,
              "#f0f921"
             ]
            ],
            "type": "histogram2dcontour"
           }
          ],
          "mesh3d": [
           {
            "colorbar": {
             "outlinewidth": 0,
             "ticks": ""
            },
            "type": "mesh3d"
           }
          ],
          "parcoords": [
           {
            "line": {
             "colorbar": {
              "outlinewidth": 0,
              "ticks": ""
             }
            },
            "type": "parcoords"
           }
          ],
          "pie": [
           {
            "automargin": true,
            "type": "pie"
           }
          ],
          "scatter": [
           {
            "fillpattern": {
             "fillmode": "overlay",
             "size": 10,
             "solidity": 0.2
            },
            "type": "scatter"
           }
          ],
          "scatter3d": [
           {
            "line": {
             "colorbar": {
              "outlinewidth": 0,
              "ticks": ""
             }
            },
            "marker": {
             "colorbar": {
              "outlinewidth": 0,
              "ticks": ""
             }
            },
            "type": "scatter3d"
           }
          ],
          "scattercarpet": [
           {
            "marker": {
             "colorbar": {
              "outlinewidth": 0,
              "ticks": ""
             }
            },
            "type": "scattercarpet"
           }
          ],
          "scattergeo": [
           {
            "marker": {
             "colorbar": {
              "outlinewidth": 0,
              "ticks": ""
             }
            },
            "type": "scattergeo"
           }
          ],
          "scattergl": [
           {
            "marker": {
             "colorbar": {
              "outlinewidth": 0,
              "ticks": ""
             }
            },
            "type": "scattergl"
           }
          ],
          "scattermapbox": [
           {
            "marker": {
             "colorbar": {
              "outlinewidth": 0,
              "ticks": ""
             }
            },
            "type": "scattermapbox"
           }
          ],
          "scatterpolar": [
           {
            "marker": {
             "colorbar": {
              "outlinewidth": 0,
              "ticks": ""
             }
            },
            "type": "scatterpolar"
           }
          ],
          "scatterpolargl": [
           {
            "marker": {
             "colorbar": {
              "outlinewidth": 0,
              "ticks": ""
             }
            },
            "type": "scatterpolargl"
           }
          ],
          "scatterternary": [
           {
            "marker": {
             "colorbar": {
              "outlinewidth": 0,
              "ticks": ""
             }
            },
            "type": "scatterternary"
           }
          ],
          "surface": [
           {
            "colorbar": {
             "outlinewidth": 0,
             "ticks": ""
            },
            "colorscale": [
             [
              0,
              "#0d0887"
             ],
             [
              0.1111111111111111,
              "#46039f"
             ],
             [
              0.2222222222222222,
              "#7201a8"
             ],
             [
              0.3333333333333333,
              "#9c179e"
             ],
             [
              0.4444444444444444,
              "#bd3786"
             ],
             [
              0.5555555555555556,
              "#d8576b"
             ],
             [
              0.6666666666666666,
              "#ed7953"
             ],
             [
              0.7777777777777778,
              "#fb9f3a"
             ],
             [
              0.8888888888888888,
              "#fdca26"
             ],
             [
              1,
              "#f0f921"
             ]
            ],
            "type": "surface"
           }
          ],
          "table": [
           {
            "cells": {
             "fill": {
              "color": "#EBF0F8"
             },
             "line": {
              "color": "white"
             }
            },
            "header": {
             "fill": {
              "color": "#C8D4E3"
             },
             "line": {
              "color": "white"
             }
            },
            "type": "table"
           }
          ]
         },
         "layout": {
          "annotationdefaults": {
           "arrowcolor": "#2a3f5f",
           "arrowhead": 0,
           "arrowwidth": 1
          },
          "autotypenumbers": "strict",
          "coloraxis": {
           "colorbar": {
            "outlinewidth": 0,
            "ticks": ""
           }
          },
          "colorscale": {
           "diverging": [
            [
             0,
             "#8e0152"
            ],
            [
             0.1,
             "#c51b7d"
            ],
            [
             0.2,
             "#de77ae"
            ],
            [
             0.3,
             "#f1b6da"
            ],
            [
             0.4,
             "#fde0ef"
            ],
            [
             0.5,
             "#f7f7f7"
            ],
            [
             0.6,
             "#e6f5d0"
            ],
            [
             0.7,
             "#b8e186"
            ],
            [
             0.8,
             "#7fbc41"
            ],
            [
             0.9,
             "#4d9221"
            ],
            [
             1,
             "#276419"
            ]
           ],
           "sequential": [
            [
             0,
             "#0d0887"
            ],
            [
             0.1111111111111111,
             "#46039f"
            ],
            [
             0.2222222222222222,
             "#7201a8"
            ],
            [
             0.3333333333333333,
             "#9c179e"
            ],
            [
             0.4444444444444444,
             "#bd3786"
            ],
            [
             0.5555555555555556,
             "#d8576b"
            ],
            [
             0.6666666666666666,
             "#ed7953"
            ],
            [
             0.7777777777777778,
             "#fb9f3a"
            ],
            [
             0.8888888888888888,
             "#fdca26"
            ],
            [
             1,
             "#f0f921"
            ]
           ],
           "sequentialminus": [
            [
             0,
             "#0d0887"
            ],
            [
             0.1111111111111111,
             "#46039f"
            ],
            [
             0.2222222222222222,
             "#7201a8"
            ],
            [
             0.3333333333333333,
             "#9c179e"
            ],
            [
             0.4444444444444444,
             "#bd3786"
            ],
            [
             0.5555555555555556,
             "#d8576b"
            ],
            [
             0.6666666666666666,
             "#ed7953"
            ],
            [
             0.7777777777777778,
             "#fb9f3a"
            ],
            [
             0.8888888888888888,
             "#fdca26"
            ],
            [
             1,
             "#f0f921"
            ]
           ]
          },
          "colorway": [
           "#636efa",
           "#EF553B",
           "#00cc96",
           "#ab63fa",
           "#FFA15A",
           "#19d3f3",
           "#FF6692",
           "#B6E880",
           "#FF97FF",
           "#FECB52"
          ],
          "font": {
           "color": "#2a3f5f"
          },
          "geo": {
           "bgcolor": "white",
           "lakecolor": "white",
           "landcolor": "#E5ECF6",
           "showlakes": true,
           "showland": true,
           "subunitcolor": "white"
          },
          "hoverlabel": {
           "align": "left"
          },
          "hovermode": "closest",
          "mapbox": {
           "style": "light"
          },
          "paper_bgcolor": "white",
          "plot_bgcolor": "#E5ECF6",
          "polar": {
           "angularaxis": {
            "gridcolor": "white",
            "linecolor": "white",
            "ticks": ""
           },
           "bgcolor": "#E5ECF6",
           "radialaxis": {
            "gridcolor": "white",
            "linecolor": "white",
            "ticks": ""
           }
          },
          "scene": {
           "xaxis": {
            "backgroundcolor": "#E5ECF6",
            "gridcolor": "white",
            "gridwidth": 2,
            "linecolor": "white",
            "showbackground": true,
            "ticks": "",
            "zerolinecolor": "white"
           },
           "yaxis": {
            "backgroundcolor": "#E5ECF6",
            "gridcolor": "white",
            "gridwidth": 2,
            "linecolor": "white",
            "showbackground": true,
            "ticks": "",
            "zerolinecolor": "white"
           },
           "zaxis": {
            "backgroundcolor": "#E5ECF6",
            "gridcolor": "white",
            "gridwidth": 2,
            "linecolor": "white",
            "showbackground": true,
            "ticks": "",
            "zerolinecolor": "white"
           }
          },
          "shapedefaults": {
           "line": {
            "color": "#2a3f5f"
           }
          },
          "ternary": {
           "aaxis": {
            "gridcolor": "white",
            "linecolor": "white",
            "ticks": ""
           },
           "baxis": {
            "gridcolor": "white",
            "linecolor": "white",
            "ticks": ""
           },
           "bgcolor": "#E5ECF6",
           "caxis": {
            "gridcolor": "white",
            "linecolor": "white",
            "ticks": ""
           }
          },
          "title": {
           "x": 0.05
          },
          "xaxis": {
           "automargin": true,
           "gridcolor": "white",
           "linecolor": "white",
           "ticks": "",
           "title": {
            "standoff": 15
           },
           "zerolinecolor": "white",
           "zerolinewidth": 2
          },
          "yaxis": {
           "automargin": true,
           "gridcolor": "white",
           "linecolor": "white",
           "ticks": "",
           "title": {
            "standoff": 15
           },
           "zerolinecolor": "white",
           "zerolinewidth": 2
          }
         }
        },
        "title": {
         "text": "Short Straddle 10x"
        },
        "xaxis": {
         "anchor": "y",
         "domain": [
          0,
          1
         ],
         "title": {
          "text": "Spot"
         }
        },
        "yaxis": {
         "anchor": "x",
         "domain": [
          0,
          1
         ],
         "title": {
          "text": "value"
         }
        }
       }
      }
     },
     "metadata": {},
     "output_type": "display_data"
    }
   ],
   "source": [
    "\n",
    "VPT_short = pd.DataFrame(-np.maximum(S_-82.5,0) + -np.maximum(62.50- S_,0) + (0.49 + .57), index = S_,columns=['Profit'])*10*100\n",
    "VPT_short.index.name = 'Spot'\n",
    "\n",
    "fig4 = px.line(VPT_short, title = \"Short Straddle 10x\")\n",
    "fig4.add_vline(x = 62.5-1.06,annotation=dict(text = f'DBEP @ ${62.5-1.06}'))\n",
    "fig4.add_vline(x = 82.5+ 1.06,annotation=dict(text = f\"UBEP @ ${82.5+1.06}\"))\n",
    "fig4.add_hline(y = 1.06*1000,annotation=dict(text = f\"Max Gain @ ${1.06*1000} \"))\n",
    "fig4"
   ]
  },
  {
   "cell_type": "markdown",
   "metadata": {},
   "source": [
    "# Iron Butterfly\n",
    "\n",
    "- A short straddle with a long strangle \n",
    "\n",
    "- The short straddle has unlimited potential upside losses and massive potential downside losses. When you establish a long strangle against your short straddle you are defining your maximum possible losses to both the upside and the downside. "
   ]
  },
  {
   "cell_type": "markdown",
   "metadata": {},
   "source": [
    "- Let's walk through an example and analyze the initial *greeks* of the position."
   ]
  },
  {
   "cell_type": "code",
   "execution_count": 100,
   "metadata": {},
   "outputs": [
    {
     "data": {
      "image/png": "[encoded data removed]",
      "text/plain": [
       "<IPython.core.display.Image object>"
      ]
     },
     "execution_count": 100,
     "metadata": {},
     "output_type": "execute_result"
    }
   ],
   "source": [
    "from IPython.display import Image\n",
    "\n",
    "# Provide the path to your image file\n",
    "image_path = 'spy_option_chain.png'\n",
    "\n",
    "# Display the image\n",
    "Image(filename=image_path)\n"
   ]
  },
  {
   "cell_type": "code",
   "execution_count": 101,
   "metadata": {},
   "outputs": [
    {
     "data": {
      "text/html": [
       "<div>\n",
       "<style scoped>\n",
       "    .dataframe tbody tr th:only-of-type {\n",
       "        vertical-align: middle;\n",
       "    }\n",
       "\n",
       "    .dataframe tbody tr th {\n",
       "        vertical-align: top;\n",
       "    }\n",
       "\n",
       "    .dataframe thead th {\n",
       "        text-align: right;\n",
       "    }\n",
       "</style>\n",
       "<table border=\"1\" class=\"dataframe\">\n",
       "  <thead>\n",
       "    <tr style=\"text-align: right;\">\n",
       "      <th></th>\n",
       "      <th>Price</th>\n",
       "      <th>Delta</th>\n",
       "      <th>Gamma</th>\n",
       "      <th>Vega</th>\n",
       "      <th>Theta</th>\n",
       "    </tr>\n",
       "  </thead>\n",
       "  <tbody>\n",
       "    <tr>\n",
       "      <th>C475</th>\n",
       "      <td>-10.08</td>\n",
       "      <td>-0.573</td>\n",
       "      <td>-0.022</td>\n",
       "      <td>-67.6</td>\n",
       "      <td>0.122</td>\n",
       "    </tr>\n",
       "    <tr>\n",
       "      <th>P475</th>\n",
       "      <td>-5.56</td>\n",
       "      <td>0.454</td>\n",
       "      <td>-0.022</td>\n",
       "      <td>-67.2</td>\n",
       "      <td>0.058</td>\n",
       "    </tr>\n",
       "    <tr>\n",
       "      <th>C485</th>\n",
       "      <td>4.79</td>\n",
       "      <td>0.367</td>\n",
       "      <td>0.021</td>\n",
       "      <td>66.3</td>\n",
       "      <td>-0.097</td>\n",
       "    </tr>\n",
       "    <tr>\n",
       "      <th>P65</th>\n",
       "      <td>3.89</td>\n",
       "      <td>-0.280</td>\n",
       "      <td>0.016</td>\n",
       "      <td>56.9</td>\n",
       "      <td>0.062</td>\n",
       "    </tr>\n",
       "    <tr>\n",
       "      <th>Net_Position</th>\n",
       "      <td>-6.96</td>\n",
       "      <td>-0.032</td>\n",
       "      <td>-0.007</td>\n",
       "      <td>-11.6</td>\n",
       "      <td>0.145</td>\n",
       "    </tr>\n",
       "  </tbody>\n",
       "</table>\n",
       "</div>"
      ],
      "text/plain": [
       "              Price  Delta  Gamma  Vega  Theta\n",
       "C475         -10.08 -0.573 -0.022 -67.6  0.122\n",
       "P475          -5.56  0.454 -0.022 -67.2  0.058\n",
       "C485           4.79  0.367  0.021  66.3 -0.097\n",
       "P65            3.89 -0.280  0.016  56.9  0.062\n",
       "Net_Position  -6.96 -0.032 -0.007 -11.6  0.145"
      ]
     },
     "execution_count": 101,
     "metadata": {},
     "output_type": "execute_result"
    }
   ],
   "source": [
    "# Let's define the  short straddle at 475 Using Real Pricing Data Above\n",
    "Spy_spot = 475.07\n",
    "rownames = ['Price','Delta','Gamma','Vega','Theta']\n",
    "c475 = np.array([10.08,0.573,0.022,67.6,-0.122])*-1\n",
    "p475 = np.array([5.56, -0.454,0.022,67.2,-0.058])*-1\n",
    "short_straddle = pd.DataFrame([c475,p475],columns=rownames,index = ['C475','P475'])\n",
    "#short_straddle.loc['Net_Position',:] = short_straddle.sum(axis = 0)\n",
    "# Let's define long strangle c at 485 and p at 465\n",
    "c485 = np.array([4.79,0.367,0.021,66.3,-0.097])\n",
    "p465 = np.array([3.89,-0.280,0.016,56.9,0.062])\n",
    "long_strangle = pd.DataFrame([c485, p465],columns=rownames,index=['C485','P65'])\n",
    "Sstr_Lstrad = pd.concat([short_straddle,long_strangle])\n",
    "Sstr_Lstrad.loc['Net_Position',:] = Sstr_Lstrad.sum(axis = 0)\n",
    "Sstr_Lstrad"
   ]
  },
  {
   "cell_type": "markdown",
   "metadata": {},
   "source": [
    "- I establish a credit of $\\$6.96$\n",
    "- Negative delta, gamma, and vega with posotive theta exposure"
   ]
  },
  {
   "cell_type": "markdown",
   "metadata": {},
   "source": [
    "- Let's graph the expiration payoffs"
   ]
  },
  {
   "cell_type": "code",
   "execution_count": 102,
   "metadata": {},
   "outputs": [
    {
     "data": {
      "application/vnd.plotly.v1+json": {
       "config": {
        "plotlyServerURL": "https://plot.ly"
       },
       "data": [
        {
         "hovertemplate": "variable=Short_Straddle<br>Spot=%{x}<br>value=%{y}<extra></extra>",
         "legendgroup": "Short_Straddle",
         "line": {
          "color": "#636efa",
          "dash": "solid"
         },
         "marker": {
          "symbol": "circle"
         },
         "mode": "lines",
         "name": "Short_Straddle",
         "orientation": "v",
         "showlegend": true,
         "type": "scatter",
         "x": [
          430,
          430.5,
          431,
          431.5,
          432,
          432.5,
          433,
          433.5,
          434,
          434.5,
          435,
          435.5,
          436,
          436.5,
          437,
          437.5,
          438,
          438.5,
          439,
          439.5,
          440,
          440.5,
          441,
          441.5,
          442,
          442.5,
          443,
          443.5,
          444,
          444.5,
          445,
          445.5,
          446,
          446.5,
          447,
          447.5,
          448,
          448.5,
          449,
          449.5,
          450,
          450.5,
          451,
          451.5,
          452,
          452.5,
          453,
          453.5,
          454,
          454.5,
          455,
          455.5,
          456,
          456.5,
          457,
          457.5,
          458,
          458.5,
          459,
          459.5,
          460,
          460.5,
          461,
          461.5,
          462,
          462.5,
          463,
          463.5,
          464,
          464.5,
          465,
          465.5,
          466,
          466.5,
          467,
          467.5,
          468,
          468.5,
          469,
          469.5,
          470,
          470.5,
          471,
          471.5,
          472,
          472.5,
          473,
          473.5,
          474,
          474.5,
          475,
          475.5,
          476,
          476.5,
          477,
          477.5,
          478,
          478.5,
          479,
          479.5,
          480,
          480.5,
          481,
          481.5,
          482,
          482.5,
          483,
          483.5,
          484,
          484.5,
          485,
          485.5,
          486,
          486.5,
          487,
          487.5,
          488,
          488.5,
          489,
          489.5,
          490,
          490.5,
          491,
          491.5,
          492,
          492.5,
          493,
          493.5,
          494,
          494.5,
          495,
          495.5,
          496,
          496.5,
          497,
          497.5,
          498,
          498.5,
          499,
          499.5,
          500
         ],
         "xaxis": "x",
         "y": [
          -29.36,
          -28.86,
          -28.36,
          -27.86,
          -27.36,
          -26.86,
          -26.36,
          -25.86,
          -25.36,
          -24.86,
          -24.36,
          -23.86,
          -23.36,
          -22.86,
          -22.36,
          -21.86,
          -21.36,
          -20.86,
          -20.36,
          -19.86,
          -19.36,
          -18.86,
          -18.36,
          -17.86,
          -17.36,
          -16.86,
          -16.36,
          -15.86,
          -15.36,
          -14.86,
          -14.36,
          -13.86,
          -13.36,
          -12.86,
          -12.36,
          -11.86,
          -11.36,
          -10.86,
          -10.36,
          -9.86,
          -9.36,
          -8.86,
          -8.36,
          -7.859999999999999,
          -7.359999999999999,
          -6.859999999999999,
          -6.359999999999999,
          -5.859999999999999,
          -5.359999999999999,
          -4.859999999999999,
          -4.359999999999999,
          -3.8599999999999994,
          -3.3599999999999994,
          -2.8599999999999994,
          -2.3599999999999994,
          -1.8599999999999994,
          -1.3599999999999994,
          -0.8599999999999994,
          -0.35999999999999943,
          0.14000000000000057,
          0.6400000000000006,
          1.1400000000000006,
          1.6400000000000006,
          2.1400000000000006,
          2.6400000000000006,
          3.1400000000000006,
          3.6400000000000006,
          4.140000000000001,
          4.640000000000001,
          5.140000000000001,
          5.640000000000001,
          6.140000000000001,
          6.640000000000001,
          7.140000000000001,
          7.640000000000001,
          8.14,
          8.64,
          9.14,
          9.64,
          10.14,
          10.64,
          11.14,
          11.64,
          12.14,
          12.64,
          13.14,
          13.64,
          14.14,
          14.64,
          15.14,
          15.64,
          15.14,
          14.64,
          14.14,
          13.64,
          13.14,
          12.64,
          12.14,
          11.64,
          11.14,
          10.64,
          10.14,
          9.64,
          9.14,
          8.64,
          8.14,
          7.640000000000001,
          7.140000000000001,
          6.640000000000001,
          6.140000000000001,
          5.640000000000001,
          5.140000000000001,
          4.640000000000001,
          4.140000000000001,
          3.6400000000000006,
          3.1400000000000006,
          2.6400000000000006,
          2.1400000000000006,
          1.6400000000000006,
          1.1400000000000006,
          0.6400000000000006,
          0.14000000000000057,
          -0.35999999999999943,
          -0.8599999999999994,
          -1.3599999999999994,
          -1.8599999999999994,
          -2.3599999999999994,
          -2.8599999999999994,
          -3.3599999999999994,
          -3.8599999999999994,
          -4.359999999999999,
          -4.859999999999999,
          -5.359999999999999,
          -5.859999999999999,
          -6.359999999999999,
          -6.859999999999999,
          -7.359999999999999,
          -7.859999999999999,
          -8.36,
          -8.86,
          -9.36
         ],
         "yaxis": "y"
        },
        {
         "hovertemplate": "variable=Long_Strangle<br>Spot=%{x}<br>value=%{y}<extra></extra>",
         "legendgroup": "Long_Strangle",
         "line": {
          "color": "#EF553B",
          "dash": "solid"
         },
         "marker": {
          "symbol": "circle"
         },
         "mode": "lines",
         "name": "Long_Strangle",
         "orientation": "v",
         "showlegend": true,
         "type": "scatter",
         "x": [
          430,
          430.5,
          431,
          431.5,
          432,
          432.5,
          433,
          433.5,
          434,
          434.5,
          435,
          435.5,
          436,
          436.5,
          437,
          437.5,
          438,
          438.5,
          439,
          439.5,
          440,
          440.5,
          441,
          441.5,
          442,
          442.5,
          443,
          443.5,
          444,
          444.5,
          445,
          445.5,
          446,
          446.5,
          447,
          447.5,
          448,
          448.5,
          449,
          449.5,
          450,
          450.5,
          451,
          451.5,
          452,
          452.5,
          453,
          453.5,
          454,
          454.5,
          455,
          455.5,
          456,
          456.5,
          457,
          457.5,
          458,
          458.5,
          459,
          459.5,
          460,
          460.5,
          461,
          461.5,
          462,
          462.5,
          463,
          463.5,
          464,
          464.5,
          465,
          465.5,
          466,
          466.5,
          467,
          467.5,
          468,
          468.5,
          469,
          469.5,
          470,
          470.5,
          471,
          471.5,
          472,
          472.5,
          473,
          473.5,
          474,
          474.5,
          475,
          475.5,
          476,
          476.5,
          477,
          477.5,
          478,
          478.5,
          479,
          479.5,
          480,
          480.5,
          481,
          481.5,
          482,
          482.5,
          483,
          483.5,
          484,
          484.5,
          485,
          485.5,
          486,
          486.5,
          487,
          487.5,
          488,
          488.5,
          489,
          489.5,
          490,
          490.5,
          491,
          491.5,
          492,
          492.5,
          493,
          493.5,
          494,
          494.5,
          495,
          495.5,
          496,
          496.5,
          497,
          497.5,
          498,
          498.5,
          499,
          499.5,
          500
         ],
         "xaxis": "x",
         "y": [
          26.32,
          25.82,
          25.32,
          24.82,
          24.32,
          23.82,
          23.32,
          22.82,
          22.32,
          21.82,
          21.32,
          20.82,
          20.32,
          19.82,
          19.32,
          18.82,
          18.32,
          17.82,
          17.32,
          16.82,
          16.32,
          15.82,
          15.32,
          14.82,
          14.32,
          13.82,
          13.32,
          12.82,
          12.32,
          11.82,
          11.32,
          10.82,
          10.32,
          9.82,
          9.32,
          8.82,
          8.32,
          7.82,
          7.32,
          6.82,
          6.32,
          5.82,
          5.32,
          4.82,
          4.32,
          3.8200000000000003,
          3.3200000000000003,
          2.8200000000000003,
          2.3200000000000003,
          1.8200000000000003,
          1.3200000000000003,
          0.8200000000000003,
          0.3200000000000003,
          -0.17999999999999972,
          -0.6799999999999997,
          -1.1799999999999997,
          -1.6799999999999997,
          -2.1799999999999997,
          -2.6799999999999997,
          -3.1799999999999997,
          -3.6799999999999997,
          -4.18,
          -4.68,
          -5.18,
          -5.68,
          -6.18,
          -6.68,
          -7.18,
          -7.68,
          -8.18,
          -8.68,
          -8.68,
          -8.68,
          -8.68,
          -8.68,
          -8.68,
          -8.68,
          -8.68,
          -8.68,
          -8.68,
          -8.68,
          -8.68,
          -8.68,
          -8.68,
          -8.68,
          -8.68,
          -8.68,
          -8.68,
          -8.68,
          -8.68,
          -8.68,
          -8.68,
          -8.68,
          -8.68,
          -8.68,
          -8.68,
          -8.68,
          -8.68,
          -8.68,
          -8.68,
          -8.68,
          -8.68,
          -8.68,
          -8.68,
          -8.68,
          -8.68,
          -8.68,
          -8.68,
          -8.68,
          -8.68,
          -8.68,
          -8.18,
          -7.68,
          -7.18,
          -6.68,
          -6.18,
          -5.68,
          -5.18,
          -4.68,
          -4.18,
          -3.6799999999999997,
          -3.1799999999999997,
          -2.6799999999999997,
          -2.1799999999999997,
          -1.6799999999999997,
          -1.1799999999999997,
          -0.6799999999999997,
          -0.17999999999999972,
          0.3200000000000003,
          0.8200000000000003,
          1.3200000000000003,
          1.8200000000000003,
          2.3200000000000003,
          2.8200000000000003,
          3.3200000000000003,
          3.8200000000000003,
          4.32,
          4.82,
          5.32,
          5.82,
          6.32
         ],
         "yaxis": "y"
        },
        {
         "hovertemplate": "variable=Iron_Condor<br>Spot=%{x}<br>value=%{y}<extra></extra>",
         "legendgroup": "Iron_Condor",
         "line": {
          "color": "#00cc96",
          "dash": "solid"
         },
         "marker": {
          "symbol": "circle"
         },
         "mode": "lines",
         "name": "Iron_Condor",
         "orientation": "v",
         "showlegend": true,
         "type": "scatter",
         "x": [
          430,
          430.5,
          431,
          431.5,
          432,
          432.5,
          433,
          433.5,
          434,
          434.5,
          435,
          435.5,
          436,
          436.5,
          437,
          437.5,
          438,
          438.5,
          439,
          439.5,
          440,
          440.5,
          441,
          441.5,
          442,
          442.5,
          443,
          443.5,
          444,
          444.5,
          445,
          445.5,
          446,
          446.5,
          447,
          447.5,
          448,
          448.5,
          449,
          449.5,
          450,
          450.5,
          451,
          451.5,
          452,
          452.5,
          453,
          453.5,
          454,
          454.5,
          455,
          455.5,
          456,
          456.5,
          457,
          457.5,
          458,
          458.5,
          459,
          459.5,
          460,
          460.5,
          461,
          461.5,
          462,
          462.5,
          463,
          463.5,
          464,
          464.5,
          465,
          465.5,
          466,
          466.5,
          467,
          467.5,
          468,
          468.5,
          469,
          469.5,
          470,
          470.5,
          471,
          471.5,
          472,
          472.5,
          473,
          473.5,
          474,
          474.5,
          475,
          475.5,
          476,
          476.5,
          477,
          477.5,
          478,
          478.5,
          479,
          479.5,
          480,
          480.5,
          481,
          481.5,
          482,
          482.5,
          483,
          483.5,
          484,
          484.5,
          485,
          485.5,
          486,
          486.5,
          487,
          487.5,
          488,
          488.5,
          489,
          489.5,
          490,
          490.5,
          491,
          491.5,
          492,
          492.5,
          493,
          493.5,
          494,
          494.5,
          495,
          495.5,
          496,
          496.5,
          497,
          497.5,
          498,
          498.5,
          499,
          499.5,
          500
         ],
         "xaxis": "x",
         "y": [
          -3.039999999999999,
          -3.039999999999999,
          -3.039999999999999,
          -3.039999999999999,
          -3.039999999999999,
          -3.039999999999999,
          -3.039999999999999,
          -3.039999999999999,
          -3.039999999999999,
          -3.039999999999999,
          -3.039999999999999,
          -3.039999999999999,
          -3.039999999999999,
          -3.039999999999999,
          -3.039999999999999,
          -3.039999999999999,
          -3.039999999999999,
          -3.039999999999999,
          -3.039999999999999,
          -3.039999999999999,
          -3.039999999999999,
          -3.039999999999999,
          -3.039999999999999,
          -3.039999999999999,
          -3.039999999999999,
          -3.039999999999999,
          -3.039999999999999,
          -3.039999999999999,
          -3.039999999999999,
          -3.039999999999999,
          -3.039999999999999,
          -3.039999999999999,
          -3.039999999999999,
          -3.039999999999999,
          -3.039999999999999,
          -3.039999999999999,
          -3.039999999999999,
          -3.039999999999999,
          -3.039999999999999,
          -3.039999999999999,
          -3.039999999999999,
          -3.039999999999999,
          -3.039999999999999,
          -3.039999999999999,
          -3.039999999999999,
          -3.039999999999999,
          -3.039999999999999,
          -3.039999999999999,
          -3.039999999999999,
          -3.039999999999999,
          -3.039999999999999,
          -3.039999999999999,
          -3.039999999999999,
          -3.039999999999999,
          -3.039999999999999,
          -3.039999999999999,
          -3.039999999999999,
          -3.039999999999999,
          -3.039999999999999,
          -3.039999999999999,
          -3.039999999999999,
          -3.039999999999999,
          -3.039999999999999,
          -3.039999999999999,
          -3.039999999999999,
          -3.039999999999999,
          -3.039999999999999,
          -3.039999999999999,
          -3.039999999999999,
          -3.039999999999999,
          -3.039999999999999,
          -2.539999999999999,
          -2.039999999999999,
          -1.5399999999999991,
          -1.0399999999999991,
          -0.5399999999999991,
          -0.03999999999999915,
          0.46000000000000085,
          0.9600000000000009,
          1.4600000000000009,
          1.9600000000000009,
          2.460000000000001,
          2.960000000000001,
          3.460000000000001,
          3.960000000000001,
          4.460000000000001,
          4.960000000000001,
          5.460000000000001,
          5.960000000000001,
          6.460000000000001,
          6.960000000000001,
          6.460000000000001,
          5.960000000000001,
          5.460000000000001,
          4.960000000000001,
          4.460000000000001,
          3.960000000000001,
          3.460000000000001,
          2.960000000000001,
          2.460000000000001,
          1.9600000000000009,
          1.4600000000000009,
          0.9600000000000009,
          0.46000000000000085,
          -0.03999999999999915,
          -0.5399999999999991,
          -1.0399999999999991,
          -1.5399999999999991,
          -2.039999999999999,
          -2.539999999999999,
          -3.039999999999999,
          -3.039999999999999,
          -3.039999999999999,
          -3.039999999999999,
          -3.039999999999999,
          -3.039999999999999,
          -3.039999999999999,
          -3.039999999999999,
          -3.039999999999999,
          -3.039999999999999,
          -3.039999999999999,
          -3.039999999999999,
          -3.039999999999999,
          -3.039999999999999,
          -3.039999999999999,
          -3.039999999999999,
          -3.039999999999999,
          -3.039999999999999,
          -3.039999999999999,
          -3.039999999999999,
          -3.039999999999999,
          -3.039999999999999,
          -3.039999999999999,
          -3.039999999999999,
          -3.039999999999999,
          -3.039999999999999,
          -3.039999999999999,
          -3.039999999999999,
          -3.039999999999999,
          -3.039999999999999,
          -3.039999999999999
         ],
         "yaxis": "y"
        }
       ],
       "layout": {
        "legend": {
         "title": {
          "text": "variable"
         },
         "tracegroupgap": 0
        },
        "template": {
         "data": {
          "bar": [
           {
            "error_x": {
             "color": "#2a3f5f"
            },
            "error_y": {
             "color": "#2a3f5f"
            },
            "marker": {
             "line": {
              "color": "#E5ECF6",
              "width": 0.5
             },
             "pattern": {
              "fillmode": "overlay",
              "size": 10,
              "solidity": 0.2
             }
            },
            "type": "bar"
           }
          ],
          "barpolar": [
           {
            "marker": {
             "line": {
              "color": "#E5ECF6",
              "width": 0.5
             },
             "pattern": {
              "fillmode": "overlay",
              "size": 10,
              "solidity": 0.2
             }
            },
            "type": "barpolar"
           }
          ],
          "carpet": [
           {
            "aaxis": {
             "endlinecolor": "#2a3f5f",
             "gridcolor": "white",
             "linecolor": "white",
             "minorgridcolor": "white",
             "startlinecolor": "#2a3f5f"
            },
            "baxis": {
             "endlinecolor": "#2a3f5f",
             "gridcolor": "white",
             "linecolor": "white",
             "minorgridcolor": "white",
             "startlinecolor": "#2a3f5f"
            },
            "type": "carpet"
           }
          ],
          "choropleth": [
           {
            "colorbar": {
             "outlinewidth": 0,
             "ticks": ""
            },
            "type": "choropleth"
           }
          ],
          "contour": [
           {
            "colorbar": {
             "outlinewidth": 0,
             "ticks": ""
            },
            "colorscale": [
             [
              0,
              "#0d0887"
             ],
             [
              0.1111111111111111,
              "#46039f"
             ],
             [
              0.2222222222222222,
              "#7201a8"
             ],
             [
              0.3333333333333333,
              "#9c179e"
             ],
             [
              0.4444444444444444,
              "#bd3786"
             ],
             [
              0.5555555555555556,
              "#d8576b"
             ],
             [
              0.6666666666666666,
              "#ed7953"
             ],
             [
              0.7777777777777778,
              "#fb9f3a"
             ],
             [
              0.8888888888888888,
              "#fdca26"
             ],
             [
              1,
              "#f0f921"
             ]
            ],
            "type": "contour"
           }
          ],
          "contourcarpet": [
           {
            "colorbar": {
             "outlinewidth": 0,
             "ticks": ""
            },
            "type": "contourcarpet"
           }
          ],
          "heatmap": [
           {
            "colorbar": {
             "outlinewidth": 0,
             "ticks": ""
            },
            "colorscale": [
             [
              0,
              "#0d0887"
             ],
             [
              0.1111111111111111,
              "#46039f"
             ],
             [
              0.2222222222222222,
              "#7201a8"
             ],
             [
              0.3333333333333333,
              "#9c179e"
             ],
             [
              0.4444444444444444,
              "#bd3786"
             ],
             [
              0.5555555555555556,
              "#d8576b"
             ],
             [
              0.6666666666666666,
              "#ed7953"
             ],
             [
              0.7777777777777778,
              "#fb9f3a"
             ],
             [
              0.8888888888888888,
              "#fdca26"
             ],
             [
              1,
              "#f0f921"
             ]
            ],
            "type": "heatmap"
           }
          ],
          "heatmapgl": [
           {
            "colorbar": {
             "outlinewidth": 0,
             "ticks": ""
            },
            "colorscale": [
             [
              0,
              "#0d0887"
             ],
             [
              0.1111111111111111,
              "#46039f"
             ],
             [
              0.2222222222222222,
              "#7201a8"
             ],
             [
              0.3333333333333333,
              "#9c179e"
             ],
             [
              0.4444444444444444,
              "#bd3786"
             ],
             [
              0.5555555555555556,
              "#d8576b"
             ],
             [
              0.6666666666666666,
              "#ed7953"
             ],
             [
              0.7777777777777778,
              "#fb9f3a"
             ],
             [
              0.8888888888888888,
              "#fdca26"
             ],
             [
              1,
              "#f0f921"
             ]
            ],
            "type": "heatmapgl"
           }
          ],
          "histogram": [
           {
            "marker": {
             "pattern": {
              "fillmode": "overlay",
              "size": 10,
              "solidity": 0.2
             }
            },
            "type": "histogram"
           }
          ],
          "histogram2d": [
           {
            "colorbar": {
             "outlinewidth": 0,
             "ticks": ""
            },
            "colorscale": [
             [
              0,
              "#0d0887"
             ],
             [
              0.1111111111111111,
              "#46039f"
             ],
             [
              0.2222222222222222,
              "#7201a8"
             ],
             [
              0.3333333333333333,
              "#9c179e"
             ],
             [
              0.4444444444444444,
              "#bd3786"
             ],
             [
              0.5555555555555556,
              "#d8576b"
             ],
             [
              0.6666666666666666,
              "#ed7953"
             ],
             [
              0.7777777777777778,
              "#fb9f3a"
             ],
             [
              0.8888888888888888,
              "#fdca26"
             ],
             [
              1,
              "#f0f921"
             ]
            ],
            "type": "histogram2d"
           }
          ],
          "histogram2dcontour": [
           {
            "colorbar": {
             "outlinewidth": 0,
             "ticks": ""
            },
            "colorscale": [
             [
              0,
              "#0d0887"
             ],
             [
              0.1111111111111111,
              "#46039f"
             ],
             [
              0.2222222222222222,
              "#7201a8"
             ],
             [
              0.3333333333333333,
              "#9c179e"
             ],
             [
              0.4444444444444444,
              "#bd3786"
             ],
             [
              0.5555555555555556,
              "#d8576b"
             ],
             [
              0.6666666666666666,
              "#ed7953"
             ],
             [
              0.7777777777777778,
              "#fb9f3a"
             ],
             [
              0.8888888888888888,
              "#fdca26"
             ],
             [
              1,
              "#f0f921"
             ]
            ],
            "type": "histogram2dcontour"
           }
          ],
          "mesh3d": [
           {
            "colorbar": {
             "outlinewidth": 0,
             "ticks": ""
            },
            "type": "mesh3d"
           }
          ],
          "parcoords": [
           {
            "line": {
             "colorbar": {
              "outlinewidth": 0,
              "ticks": ""
             }
            },
            "type": "parcoords"
           }
          ],
          "pie": [
           {
            "automargin": true,
            "type": "pie"
           }
          ],
          "scatter": [
           {
            "fillpattern": {
             "fillmode": "overlay",
             "size": 10,
             "solidity": 0.2
            },
            "type": "scatter"
           }
          ],
          "scatter3d": [
           {
            "line": {
             "colorbar": {
              "outlinewidth": 0,
              "ticks": ""
             }
            },
            "marker": {
             "colorbar": {
              "outlinewidth": 0,
              "ticks": ""
             }
            },
            "type": "scatter3d"
           }
          ],
          "scattercarpet": [
           {
            "marker": {
             "colorbar": {
              "outlinewidth": 0,
              "ticks": ""
             }
            },
            "type": "scattercarpet"
           }
          ],
          "scattergeo": [
           {
            "marker": {
             "colorbar": {
              "outlinewidth": 0,
              "ticks": ""
             }
            },
            "type": "scattergeo"
           }
          ],
          "scattergl": [
           {
            "marker": {
             "colorbar": {
              "outlinewidth": 0,
              "ticks": ""
             }
            },
            "type": "scattergl"
           }
          ],
          "scattermapbox": [
           {
            "marker": {
             "colorbar": {
              "outlinewidth": 0,
              "ticks": ""
             }
            },
            "type": "scattermapbox"
           }
          ],
          "scatterpolar": [
           {
            "marker": {
             "colorbar": {
              "outlinewidth": 0,
              "ticks": ""
             }
            },
            "type": "scatterpolar"
           }
          ],
          "scatterpolargl": [
           {
            "marker": {
             "colorbar": {
              "outlinewidth": 0,
              "ticks": ""
             }
            },
            "type": "scatterpolargl"
           }
          ],
          "scatterternary": [
           {
            "marker": {
             "colorbar": {
              "outlinewidth": 0,
              "ticks": ""
             }
            },
            "type": "scatterternary"
           }
          ],
          "surface": [
           {
            "colorbar": {
             "outlinewidth": 0,
             "ticks": ""
            },
            "colorscale": [
             [
              0,
              "#0d0887"
             ],
             [
              0.1111111111111111,
              "#46039f"
             ],
             [
              0.2222222222222222,
              "#7201a8"
             ],
             [
              0.3333333333333333,
              "#9c179e"
             ],
             [
              0.4444444444444444,
              "#bd3786"
             ],
             [
              0.5555555555555556,
              "#d8576b"
             ],
             [
              0.6666666666666666,
              "#ed7953"
             ],
             [
              0.7777777777777778,
              "#fb9f3a"
             ],
             [
              0.8888888888888888,
              "#fdca26"
             ],
             [
              1,
              "#f0f921"
             ]
            ],
            "type": "surface"
           }
          ],
          "table": [
           {
            "cells": {
             "fill": {
              "color": "#EBF0F8"
             },
             "line": {
              "color": "white"
             }
            },
            "header": {
             "fill": {
              "color": "#C8D4E3"
             },
             "line": {
              "color": "white"
             }
            },
            "type": "table"
           }
          ]
         },
         "layout": {
          "annotationdefaults": {
           "arrowcolor": "#2a3f5f",
           "arrowhead": 0,
           "arrowwidth": 1
          },
          "autotypenumbers": "strict",
          "coloraxis": {
           "colorbar": {
            "outlinewidth": 0,
            "ticks": ""
           }
          },
          "colorscale": {
           "diverging": [
            [
             0,
             "#8e0152"
            ],
            [
             0.1,
             "#c51b7d"
            ],
            [
             0.2,
             "#de77ae"
            ],
            [
             0.3,
             "#f1b6da"
            ],
            [
             0.4,
             "#fde0ef"
            ],
            [
             0.5,
             "#f7f7f7"
            ],
            [
             0.6,
             "#e6f5d0"
            ],
            [
             0.7,
             "#b8e186"
            ],
            [
             0.8,
             "#7fbc41"
            ],
            [
             0.9,
             "#4d9221"
            ],
            [
             1,
             "#276419"
            ]
           ],
           "sequential": [
            [
             0,
             "#0d0887"
            ],
            [
             0.1111111111111111,
             "#46039f"
            ],
            [
             0.2222222222222222,
             "#7201a8"
            ],
            [
             0.3333333333333333,
             "#9c179e"
            ],
            [
             0.4444444444444444,
             "#bd3786"
            ],
            [
             0.5555555555555556,
             "#d8576b"
            ],
            [
             0.6666666666666666,
             "#ed7953"
            ],
            [
             0.7777777777777778,
             "#fb9f3a"
            ],
            [
             0.8888888888888888,
             "#fdca26"
            ],
            [
             1,
             "#f0f921"
            ]
           ],
           "sequentialminus": [
            [
             0,
             "#0d0887"
            ],
            [
             0.1111111111111111,
             "#46039f"
            ],
            [
             0.2222222222222222,
             "#7201a8"
            ],
            [
             0.3333333333333333,
             "#9c179e"
            ],
            [
             0.4444444444444444,
             "#bd3786"
            ],
            [
             0.5555555555555556,
             "#d8576b"
            ],
            [
             0.6666666666666666,
             "#ed7953"
            ],
            [
             0.7777777777777778,
             "#fb9f3a"
            ],
            [
             0.8888888888888888,
             "#fdca26"
            ],
            [
             1,
             "#f0f921"
            ]
           ]
          },
          "colorway": [
           "#636efa",
           "#EF553B",
           "#00cc96",
           "#ab63fa",
           "#FFA15A",
           "#19d3f3",
           "#FF6692",
           "#B6E880",
           "#FF97FF",
           "#FECB52"
          ],
          "font": {
           "color": "#2a3f5f"
          },
          "geo": {
           "bgcolor": "white",
           "lakecolor": "white",
           "landcolor": "#E5ECF6",
           "showlakes": true,
           "showland": true,
           "subunitcolor": "white"
          },
          "hoverlabel": {
           "align": "left"
          },
          "hovermode": "closest",
          "mapbox": {
           "style": "light"
          },
          "paper_bgcolor": "white",
          "plot_bgcolor": "#E5ECF6",
          "polar": {
           "angularaxis": {
            "gridcolor": "white",
            "linecolor": "white",
            "ticks": ""
           },
           "bgcolor": "#E5ECF6",
           "radialaxis": {
            "gridcolor": "white",
            "linecolor": "white",
            "ticks": ""
           }
          },
          "scene": {
           "xaxis": {
            "backgroundcolor": "#E5ECF6",
            "gridcolor": "white",
            "gridwidth": 2,
            "linecolor": "white",
            "showbackground": true,
            "ticks": "",
            "zerolinecolor": "white"
           },
           "yaxis": {
            "backgroundcolor": "#E5ECF6",
            "gridcolor": "white",
            "gridwidth": 2,
            "linecolor": "white",
            "showbackground": true,
            "ticks": "",
            "zerolinecolor": "white"
           },
           "zaxis": {
            "backgroundcolor": "#E5ECF6",
            "gridcolor": "white",
            "gridwidth": 2,
            "linecolor": "white",
            "showbackground": true,
            "ticks": "",
            "zerolinecolor": "white"
           }
          },
          "shapedefaults": {
           "line": {
            "color": "#2a3f5f"
           }
          },
          "ternary": {
           "aaxis": {
            "gridcolor": "white",
            "linecolor": "white",
            "ticks": ""
           },
           "baxis": {
            "gridcolor": "white",
            "linecolor": "white",
            "ticks": ""
           },
           "bgcolor": "#E5ECF6",
           "caxis": {
            "gridcolor": "white",
            "linecolor": "white",
            "ticks": ""
           }
          },
          "title": {
           "x": 0.05
          },
          "xaxis": {
           "automargin": true,
           "gridcolor": "white",
           "linecolor": "white",
           "ticks": "",
           "title": {
            "standoff": 15
           },
           "zerolinecolor": "white",
           "zerolinewidth": 2
          },
          "yaxis": {
           "automargin": true,
           "gridcolor": "white",
           "linecolor": "white",
           "ticks": "",
           "title": {
            "standoff": 15
           },
           "zerolinecolor": "white",
           "zerolinewidth": 2
          }
         }
        },
        "title": {
         "text": "Iron Butterfly = Short Straddle + Long Strangle"
        },
        "xaxis": {
         "anchor": "y",
         "domain": [
          0,
          1
         ],
         "title": {
          "text": "Spot"
         }
        },
        "yaxis": {
         "anchor": "x",
         "domain": [
          0,
          1
         ],
         "title": {
          "text": "Profits ($)"
         }
        }
       }
      }
     },
     "metadata": {},
     "output_type": "display_data"
    }
   ],
   "source": [
    "spots_spy = np.linspace(430,500,num = 141)\n",
    "SHORT_STRADDLE = -np.maximum(spots_spy-475,0) - np.maximum(475-spots_spy,0) + (10.08+5.56)\n",
    "LONG_STRANGLE = np.maximum(spots_spy-485,0) + np.maximum(465-spots_spy,0) - (4.79+3.89)\n",
    "IRON_BUTTERFLY = pd.DataFrame({'Short_Straddle':SHORT_STRADDLE,\"Long_Strangle\":LONG_STRANGLE,'Iron_Condor': SHORT_STRADDLE+LONG_STRANGLE},index=spots_spy)\n",
    "IRON_BUTTERFLY.index.name = 'Spot'\n",
    "fig5 = px.line(IRON_BUTTERFLY,title = 'Iron Butterfly = Short Straddle + Long Strangle')\n",
    "fig5.update_layout(yaxis_title = f\"Profits ($)\")"
   ]
  },
  {
   "cell_type": "markdown",
   "metadata": {},
   "source": [
    "If you are short a straddle sometimes it is wise to use a strangle to hedge your volatility risk"
   ]
  }
 ],
 "metadata": {
  "kernelspec": {
   "display_name": "Python 3",
   "language": "python",
   "name": "python3"
  },
  "language_info": {
   "codemirror_mode": {
    "name": "ipython",
    "version": 3
   },
   "file_extension": ".py",
   "mimetype": "text/x-python",
   "name": "python",
   "nbconvert_exporter": "python",
   "pygments_lexer": "ipython3",
   "version": "3.11.7"
  }
 },
 "nbformat": 4,
 "nbformat_minor": 2
}
