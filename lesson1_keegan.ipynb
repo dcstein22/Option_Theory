{
 "cells": [
  {
   "cell_type": "code",
   "execution_count": 14,
   "metadata": {},
   "outputs": [],
   "source": [
    "import matplotlib as mpl\n",
    "import statsmodels.api as sm\n",
    "import matplotlib.pyplot as plt\n",
    "import sklearn.linear_model as linear_model\n",
    "import pandas as pd\n",
    "import numpy as np\n",
    "import scipy as sp\n",
    "from scipy import stats\n",
    "from datetime import datetime\n",
    "import plotly.express as px\n"
   ]
  },
  {
   "cell_type": "code",
   "execution_count": 6,
   "metadata": {},
   "outputs": [],
   "source": [
    "from fredapi import Fred\n",
    "api_fred = 'caf2a437b55be8f56406870c1bed3521'\n",
    "fred = Fred(api_key= api_fred)\n",
    "import quandl\n",
    "quandl.api_config = 'J_fXGeVW_zC6RaDeJSQv'\n"
   ]
  },
  {
   "cell_type": "code",
   "execution_count": 27,
   "metadata": {},
   "outputs": [],
   "source": [
    "class Contract:\n",
    "\n",
    "    def __init__(self,S0,K,R,Sigma,T):\n",
    "        \"\"\"\n",
    "        Class defines GBM contract\n",
    "        S0: Spot price at time 0\n",
    "        K: Strike price\n",
    "        R: risk-free interest rate\n",
    "        Sigma: annualized volatility of the option\n",
    "        T: Time to maturity\n",
    "\n",
    "        \"\"\"\n",
    "        self.S0 = S0\n",
    "        self.K = K\n",
    "        self.R = R\n",
    "        self.Sigma = Sigma\n",
    "        self.T = T\n",
    "    def update_T(self,new_T:float):\n",
    "\n",
    "        self.T = new_T\n",
    "    def update_spot(self, Spot:float):\n",
    "        self.S0 = Spot\n",
    "    def update_rf(self, rf:float):\n",
    "        self.R = rf\n",
    "    def update_iv(self, IV:float):\n",
    "        self.Sigma = IV\n",
    "class CALL(Contract):\n",
    "\n",
    "    def __init__(self,S0,K,R,Sigma,T):\n",
    "\n",
    "        Contract.__init__(self,S0,K,R,Sigma,T)\n",
    "        \n",
    "    def update_T(self,new_T:float):\n",
    "\n",
    "        self.T = new_T\n",
    "    def update_spot(self, Spot:float):\n",
    "        self.S0 = Spot\n",
    "    def update_rf(self, rf:float):\n",
    "        self.R = rf\n",
    "    def update_iv(self, IV:float):\n",
    "        self.Sigma = IV\n",
    "\n",
    "class PUT(Contract):\n",
    "\n",
    "    def __init__(self,S0,K,R,Sigma,T):\n",
    "\n",
    "        Contract.__init__(self,S0,K,R,Sigma,T)\n",
    "    def update_T(self,new_T:float):\n",
    "\n",
    "        self.T = new_T\n",
    "    def update_spot(self, Spot:float):\n",
    "        self.S0 = Spot\n",
    "    def update_rf(self, rf:float):\n",
    "        self.R = rf\n",
    "    def update_iv(self, IV:float):\n",
    "        self.Sigma = IV\n",
    "\n",
    "class Option_Pricer:\n",
    "\n",
    "    def __init__(self,contract):\n",
    "\n",
    "        \"\"\"\n",
    "        contract: use the CALL or PUT derived classes to defined the contract\n",
    "\n",
    "        \"\"\"\n",
    "\n",
    "        self.contract = contract\n",
    "        self.S0, self.K, self.R, self.Sigma, self.T = contract.S0,contract.K,contract.R,contract.Sigma, contract.T\n",
    "        self.Type = self.contract.__class__.__name__\n",
    "\n",
    "    def d1(self):\n",
    "        D1 = (np.log(self.S0/self.K)+(self.R+ .5*self.Sigma**2)*self.T)/(self.Sigma*np.sqrt(self.T))\n",
    "        return D1\n",
    "    def d2(self):\n",
    "        d_1 = self.d1()\n",
    "        D2 = d_1 - self.Sigma*np.sqrt(self.T) \n",
    "        return D2\n",
    "    def pv(self):\n",
    "        return self.K*np.exp(-self.R*self.T)\n",
    "\n",
    "    def __str__(self):\n",
    "\n",
    "        return (f\"{self.Type} option contract with strike {self.K} and volatility {self.Sigma}.\")\n",
    "        \n",
    "    def price_derivative(self):\n",
    "        D1 = self.d1()\n",
    "        D2 = self.d2()\n",
    "        PV = self.pv()\n",
    "\n",
    "        if self.Type == 'CALL':\n",
    "\n",
    "            return self.S0*stats.norm.cdf(D1)- PV*stats.norm.cdf(D2)\n",
    "        else:\n",
    "\n",
    "            return PV*stats.norm.cdf(-D2)-self.S0*stats.norm.cdf(-D1)\n",
    "\n",
    "    def plot_contract(self):\n",
    "        prices = self.price_derivative()\n",
    "\n",
    "        if len(prices) <= 1:\n",
    "            raise Exception('Cannot Graph 1 Price.')\n",
    "        DF = pd.DataFrame(prices, index = self.S0, columns = [f\"{self.Type}(K = {self.K})\"])\n",
    "        DF.index.name = 'Spot Price'\n",
    "\n",
    "        fig = px.line(DF).update_layout(yaxis_title = 'Derivative Price')\n",
    "        fig.add_shape(type ='line',x0 = self.K,x1 = self.K,y0= np.where(self.Type == 'CALL',0,),y1=np.where(self.Type == \"CALL\",max(prices),0), line = dict(color = \"red\"),name = 'Strike')\n",
    "\n",
    "        return fig\n",
    "\n",
    "    def plot_delta(self):\n",
    "        title = f\"{self.Type}(K = {self.K}, T = {self.T},vol = {self.Sigma},r = {self.R})\"\n",
    "        Deltas = self.delta()\n",
    "        DF = pd.DataFrame(Deltas,index = self.S0, columns = [f\"{self.Type}(K = {self.K})\"])\n",
    "        DF.index.name = 'Spot Price'\n",
    "\n",
    "        fig = px.line(DF,title = title).update_layout(yaxis_title = \"Delta\")\n",
    "        fig.add_shape(type ='line',x0 = self.K,x1 = self.K,y0= np.where(self.Type == 'CALL',0,-100),y1=np.where(self.Type == \"CALL\",100,0), line = dict(color = \"red\"),name = 'Strike')\n",
    "\n",
    "        return fig\n",
    "    def plot_gamma(self):\n",
    "\n",
    "        title = f\"{self.Type}(K = {self.K}, T = {self.T},vol = {self.Sigma},r = {self.R})\"\n",
    "        gammas = self.gamma()\n",
    "        DF = pd.DataFrame(gammas,index = self.S0, columns = [f\"{self.Type}(K = {self.K})\"])\n",
    "        DF.index.name = 'Spot Price'\n",
    "        gamma_max = max(gammas)\n",
    "        fig = px.line(DF,title = title).update_layout(yaxis_title = \"Gamma\")\n",
    "        fig.add_shape(type ='line',x0 = self.K,x1 = self.K,y0=0,y1=gamma_max+1, line = dict(color = \"red\"),name = 'Strike')\n",
    "\n",
    "\n",
    "        return fig\n",
    "    def plot_vega(self):\n",
    "        title = f\"{self.Type}(K = {self.K}, T = {self.T},vol = {self.Sigma},r = {self.R})\"\n",
    "        vegas = self.vega()\n",
    "        DF = pd.DataFrame(vegas,index = self.S0, columns = [f\"{self.Type}(K = {self.K})\"])\n",
    "        DF.index.name = 'Spot Price'\n",
    "        vega_max = max(vegas)\n",
    "        fig = px.line(DF,title = title).update_layout(yaxis_title = \"Vega\")\n",
    "        fig = fig.add_shape(type ='line',x0 = self.K,x1 = self.K,y0=0,y1=vega_max+1, line = dict(color = \"red\"),name = 'Strike')\n",
    "\n",
    "        return fig\n",
    "    def delta(self):\n",
    "        if self.Type == 'CALL':\n",
    "            return stats.norm.cdf(self.d1())\n",
    "        else:\n",
    "            return -stats.norm.cdf(-self.d1())\n",
    "    def gamma(self):\n",
    "\n",
    "        return stats.norm.pdf(self.d1())/(self.S0*self.Sigma*np.sqrt(self.T))\n",
    "\n",
    "    def vega(self):\n",
    "\n",
    "        return self.S0*np.sqrt(self.T)*stats.norm.pdf(self.d1())\n",
    "    def theta(self):\n",
    "        if self.Type == 'CALL':\n",
    "            return ((-self.S0*stats.norm.pdf(self.d1()) * self.Sigma)/(2*np.sqrt(self.T)) - self.R * self.K*np.exp(-self.R*self.T) * stats.norm.cdf(self.d2()))/365\n",
    "        else:\n",
    "            return ((-self.S0*stats.norm.pdf(self.d1()) * self.Sigma)/(2*np.sqrt(self.T)) +self.R * self.K*np.exp(-self.R*self.T) * stats.norm.cdf(-self.d2()))/365\n",
    "\n",
    "            # Divide Theta by 252 trading days\n",
    "    def return_values(self):\n",
    "\n",
    "        price = self.price_derivative()\n",
    "        delta =self.delta()\n",
    "        gamma = self.gamma()\n",
    "        vega = self.vega()\n",
    "        theta = self.theta()\n",
    "        vals = np.array([price,delta,gamma,vega,theta])\n",
    "        df = pd.DataFrame([vals],columns = ['Price','Delta','Gamma','Vega','Theta'],index = [f'{self.Type}(K = {self.K})'])\n",
    "        return df\n",
    "\n"
   ]
  },
  {
   "cell_type": "code",
   "execution_count": 12,
   "metadata": {},
   "outputs": [
    {
     "data": {
      "text/html": [
       "<div>\n",
       "<style scoped>\n",
       "    .dataframe tbody tr th:only-of-type {\n",
       "        vertical-align: middle;\n",
       "    }\n",
       "\n",
       "    .dataframe tbody tr th {\n",
       "        vertical-align: top;\n",
       "    }\n",
       "\n",
       "    .dataframe thead th {\n",
       "        text-align: right;\n",
       "    }\n",
       "</style>\n",
       "<table border=\"1\" class=\"dataframe\">\n",
       "  <thead>\n",
       "    <tr style=\"text-align: right;\">\n",
       "      <th></th>\n",
       "      <th>ONE_M</th>\n",
       "    </tr>\n",
       "  </thead>\n",
       "  <tbody>\n",
       "    <tr>\n",
       "      <th>2023-12-19</th>\n",
       "      <td>0.0551</td>\n",
       "    </tr>\n",
       "    <tr>\n",
       "      <th>2023-12-20</th>\n",
       "      <td>0.0550</td>\n",
       "    </tr>\n",
       "  </tbody>\n",
       "</table>\n",
       "</div>"
      ],
      "text/plain": [
       "             ONE_M\n",
       "2023-12-19  0.0551\n",
       "2023-12-20  0.0550"
      ]
     },
     "execution_count": 12,
     "metadata": {},
     "output_type": "execute_result"
    }
   ],
   "source": [
    "start = '2015-01-01'\n",
    "end = datetime.now()\n",
    "onemonth = (pd.DataFrame(fred.get_series(\"DGS1MO\",observation_start=start,observation_end=end),columns=['ONE_M'])*1e-2).dropna()\n",
    "onemonth.tail(2)"
   ]
  },
  {
   "cell_type": "code",
   "execution_count": 30,
   "metadata": {},
   "outputs": [
    {
     "data": {
      "application/vnd.plotly.v1+json": {
       "config": {
        "plotlyServerURL": "https://plot.ly"
       },
       "data": [
        {
         "hovertemplate": "variable=PUT(K = 195)<br>Spot Price=%{x}<br>value=%{y}<extra></extra>",
         "legendgroup": "PUT(K = 195)",
         "line": {
          "color": "#636efa",
          "dash": "solid"
         },
         "marker": {
          "symbol": "circle"
         },
         "mode": "lines",
         "name": "PUT(K = 195)",
         "orientation": "v",
         "showlegend": true,
         "type": "scatter",
         "x": [
          190,
          190.15151515151516,
          190.3030303030303,
          190.45454545454547,
          190.6060606060606,
          190.75757575757575,
          190.9090909090909,
          191.06060606060606,
          191.21212121212122,
          191.36363636363637,
          191.5151515151515,
          191.66666666666666,
          191.8181818181818,
          191.96969696969697,
          192.12121212121212,
          192.27272727272728,
          192.42424242424244,
          192.57575757575756,
          192.72727272727272,
          192.87878787878788,
          193.03030303030303,
          193.1818181818182,
          193.33333333333334,
          193.4848484848485,
          193.63636363636363,
          193.78787878787878,
          193.93939393939394,
          194.0909090909091,
          194.24242424242425,
          194.3939393939394,
          194.54545454545453,
          194.6969696969697,
          194.84848484848484,
          195,
          195.15151515151516,
          195.3030303030303,
          195.45454545454547,
          195.6060606060606,
          195.75757575757575,
          195.9090909090909,
          196.06060606060606,
          196.21212121212122,
          196.36363636363637,
          196.5151515151515,
          196.66666666666666,
          196.8181818181818,
          196.96969696969697,
          197.12121212121212,
          197.27272727272728,
          197.42424242424244,
          197.57575757575756,
          197.72727272727272,
          197.87878787878788,
          198.03030303030303,
          198.1818181818182,
          198.33333333333334,
          198.4848484848485,
          198.63636363636363,
          198.78787878787878,
          198.93939393939394,
          199.0909090909091,
          199.24242424242425,
          199.3939393939394,
          199.54545454545453,
          199.6969696969697,
          199.84848484848484,
          200,
          200.15151515151516,
          200.3030303030303,
          200.45454545454547,
          200.6060606060606,
          200.75757575757575,
          200.9090909090909,
          201.06060606060606,
          201.21212121212122,
          201.36363636363637,
          201.5151515151515,
          201.66666666666666,
          201.8181818181818,
          201.96969696969697,
          202.12121212121212,
          202.27272727272728,
          202.42424242424244,
          202.57575757575756,
          202.72727272727272,
          202.87878787878788,
          203.03030303030303,
          203.1818181818182,
          203.33333333333334,
          203.4848484848485,
          203.63636363636363,
          203.78787878787878,
          203.93939393939394,
          204.0909090909091,
          204.24242424242425,
          204.3939393939394,
          204.54545454545456,
          204.6969696969697,
          204.84848484848484,
          205
         ],
         "xaxis": "x",
         "y": [
          4.989275436749864,
          4.837760446766453,
          4.686245627217403,
          4.534731143318567,
          4.3832173058142985,
          4.231704685650897,
          4.080194307579319,
          3.9286879682294398,
          3.7771887443971366,
          3.6257017826324898,
          3.4742354907556035,
          3.3228032830067207,
          3.1714260582463396,
          3.020135607345793,
          2.8689791414488752,
          2.7180250950688674,
          2.5673702749041922,
          2.4171482874178025,
          2.267538982620721,
          2.1187784053699374,
          1.9711684695186307,
          1.8250852998413052,
          1.6809849701198232,
          1.539405258735826,
          1.4009620990808003,
          1.2663396604104662,
          1.1362734682115843,
          1.0115266381683625,
          0.8928600906404256,
          0.7809984334682554,
          0.6765939273528261,
          0.5801914551008593,
          0.49219760048752903,
          0.41285674534967143,
          0.34223651540645506,
          0.28022401065025804,
          0.226533164398532,
          0.18072244026367912,
          0.1422210591619475,
          0.1103611875310122,
          0.0844131054052113,
          0.06362034105844572,
          0.047232078312116954,
          0.03453073321744071,
          0.02485334685611562,
          0.017606229817424435,
          0.012273013376847608,
          0.008416832762255133,
          0.005677745712728388,
          0.003766667696024406,
          0.0024571063665699278,
          0.0015758443590441207,
          0.0009935017906781418,
          0.0006156566752212322,
          0.0003749529257720541,
          0.0002244095405631863,
          0.0001319759314740987,
          0.00007626114852151561,
          0.000043294932643468675,
          0.00002414733269995653,
          0.000013230490313787327,
          0.000007120926598607087,
          0.0000037647192283859,
          0.0000019550069158675003,
          9.971716988409944e-7,
          4.995579615580292e-7,
          2.4580253368841165e-7,
          1.1878547190054929e-7,
          5.6378092581597114e-8,
          2.62798311130165e-8,
          1.2030850665903364e-8,
          5.409154452978763e-9,
          2.3884744041711743e-9,
          1.035785762325177e-9,
          4.4114199610066667e-10,
          1.8452189934475662e-10,
          7.580210555649471e-11,
          3.0583139619410106e-11,
          1.2118661860280376e-11,
          4.7163293703211135e-12,
          1.8027526899836818e-12,
          6.767948682945799e-13,
          2.495592770797946e-13,
          9.038441285500587e-14,
          3.21532159446053e-14,
          1.1235041938112594e-14,
          3.856143258662735e-15,
          1.3000767101519396e-15,
          4.305580362706301e-16,
          1.4007196378401388e-16,
          4.4764913469291405e-17,
          1.4054060410072342e-17,
          4.334651844179859e-18,
          1.313427281255369e-18,
          3.9099262620197867e-19,
          1.1435452935387001e-19,
          3.28603517166301e-20,
          9.277629881362624e-21,
          2.573712500161428e-21,
          7.01541724677483e-22
         ],
         "yaxis": "y"
        }
       ],
       "layout": {
        "legend": {
         "title": {
          "text": "variable"
         },
         "tracegroupgap": 0
        },
        "margin": {
         "t": 60
        },
        "shapes": [
         {
          "line": {
           "color": "red"
          },
          "name": "Strike",
          "type": "line",
          "x0": 195,
          "x1": 195,
          "y0": 7.01541724677483e-22,
          "y1": 0
         }
        ],
        "template": {
         "data": {
          "bar": [
           {
            "error_x": {
             "color": "#2a3f5f"
            },
            "error_y": {
             "color": "#2a3f5f"
            },
            "marker": {
             "line": {
              "color": "#E5ECF6",
              "width": 0.5
             },
             "pattern": {
              "fillmode": "overlay",
              "size": 10,
              "solidity": 0.2
             }
            },
            "type": "bar"
           }
          ],
          "barpolar": [
           {
            "marker": {
             "line": {
              "color": "#E5ECF6",
              "width": 0.5
             },
             "pattern": {
              "fillmode": "overlay",
              "size": 10,
              "solidity": 0.2
             }
            },
            "type": "barpolar"
           }
          ],
          "carpet": [
           {
            "aaxis": {
             "endlinecolor": "#2a3f5f",
             "gridcolor": "white",
             "linecolor": "white",
             "minorgridcolor": "white",
             "startlinecolor": "#2a3f5f"
            },
            "baxis": {
             "endlinecolor": "#2a3f5f",
             "gridcolor": "white",
             "linecolor": "white",
             "minorgridcolor": "white",
             "startlinecolor": "#2a3f5f"
            },
            "type": "carpet"
           }
          ],
          "choropleth": [
           {
            "colorbar": {
             "outlinewidth": 0,
             "ticks": ""
            },
            "type": "choropleth"
           }
          ],
          "contour": [
           {
            "colorbar": {
             "outlinewidth": 0,
             "ticks": ""
            },
            "colorscale": [
             [
              0,
              "#0d0887"
             ],
             [
              0.1111111111111111,
              "#46039f"
             ],
             [
              0.2222222222222222,
              "#7201a8"
             ],
             [
              0.3333333333333333,
              "#9c179e"
             ],
             [
              0.4444444444444444,
              "#bd3786"
             ],
             [
              0.5555555555555556,
              "#d8576b"
             ],
             [
              0.6666666666666666,
              "#ed7953"
             ],
             [
              0.7777777777777778,
              "#fb9f3a"
             ],
             [
              0.8888888888888888,
              "#fdca26"
             ],
             [
              1,
              "#f0f921"
             ]
            ],
            "type": "contour"
           }
          ],
          "contourcarpet": [
           {
            "colorbar": {
             "outlinewidth": 0,
             "ticks": ""
            },
            "type": "contourcarpet"
           }
          ],
          "heatmap": [
           {
            "colorbar": {
             "outlinewidth": 0,
             "ticks": ""
            },
            "colorscale": [
             [
              0,
              "#0d0887"
             ],
             [
              0.1111111111111111,
              "#46039f"
             ],
             [
              0.2222222222222222,
              "#7201a8"
             ],
             [
              0.3333333333333333,
              "#9c179e"
             ],
             [
              0.4444444444444444,
              "#bd3786"
             ],
             [
              0.5555555555555556,
              "#d8576b"
             ],
             [
              0.6666666666666666,
              "#ed7953"
             ],
             [
              0.7777777777777778,
              "#fb9f3a"
             ],
             [
              0.8888888888888888,
              "#fdca26"
             ],
             [
              1,
              "#f0f921"
             ]
            ],
            "type": "heatmap"
           }
          ],
          "heatmapgl": [
           {
            "colorbar": {
             "outlinewidth": 0,
             "ticks": ""
            },
            "colorscale": [
             [
              0,
              "#0d0887"
             ],
             [
              0.1111111111111111,
              "#46039f"
             ],
             [
              0.2222222222222222,
              "#7201a8"
             ],
             [
              0.3333333333333333,
              "#9c179e"
             ],
             [
              0.4444444444444444,
              "#bd3786"
             ],
             [
              0.5555555555555556,
              "#d8576b"
             ],
             [
              0.6666666666666666,
              "#ed7953"
             ],
             [
              0.7777777777777778,
              "#fb9f3a"
             ],
             [
              0.8888888888888888,
              "#fdca26"
             ],
             [
              1,
              "#f0f921"
             ]
            ],
            "type": "heatmapgl"
           }
          ],
          "histogram": [
           {
            "marker": {
             "pattern": {
              "fillmode": "overlay",
              "size": 10,
              "solidity": 0.2
             }
            },
            "type": "histogram"
           }
          ],
          "histogram2d": [
           {
            "colorbar": {
             "outlinewidth": 0,
             "ticks": ""
            },
            "colorscale": [
             [
              0,
              "#0d0887"
             ],
             [
              0.1111111111111111,
              "#46039f"
             ],
             [
              0.2222222222222222,
              "#7201a8"
             ],
             [
              0.3333333333333333,
              "#9c179e"
             ],
             [
              0.4444444444444444,
              "#bd3786"
             ],
             [
              0.5555555555555556,
              "#d8576b"
             ],
             [
              0.6666666666666666,
              "#ed7953"
             ],
             [
              0.7777777777777778,
              "#fb9f3a"
             ],
             [
              0.8888888888888888,
              "#fdca26"
             ],
             [
              1,
              "#f0f921"
             ]
            ],
            "type": "histogram2d"
           }
          ],
          "histogram2dcontour": [
           {
            "colorbar": {
             "outlinewidth": 0,
             "ticks": ""
            },
            "colorscale": [
             [
              0,
              "#0d0887"
             ],
             [
              0.1111111111111111,
              "#46039f"
             ],
             [
              0.2222222222222222,
              "#7201a8"
             ],
             [
              0.3333333333333333,
              "#9c179e"
             ],
             [
              0.4444444444444444,
              "#bd3786"
             ],
             [
              0.5555555555555556,
              "#d8576b"
             ],
             [
              0.6666666666666666,
              "#ed7953"
             ],
             [
              0.7777777777777778,
              "#fb9f3a"
             ],
             [
              0.8888888888888888,
              "#fdca26"
             ],
             [
              1,
              "#f0f921"
             ]
            ],
            "type": "histogram2dcontour"
           }
          ],
          "mesh3d": [
           {
            "colorbar": {
             "outlinewidth": 0,
             "ticks": ""
            },
            "type": "mesh3d"
           }
          ],
          "parcoords": [
           {
            "line": {
             "colorbar": {
              "outlinewidth": 0,
              "ticks": ""
             }
            },
            "type": "parcoords"
           }
          ],
          "pie": [
           {
            "automargin": true,
            "type": "pie"
           }
          ],
          "scatter": [
           {
            "fillpattern": {
             "fillmode": "overlay",
             "size": 10,
             "solidity": 0.2
            },
            "type": "scatter"
           }
          ],
          "scatter3d": [
           {
            "line": {
             "colorbar": {
              "outlinewidth": 0,
              "ticks": ""
             }
            },
            "marker": {
             "colorbar": {
              "outlinewidth": 0,
              "ticks": ""
             }
            },
            "type": "scatter3d"
           }
          ],
          "scattercarpet": [
           {
            "marker": {
             "colorbar": {
              "outlinewidth": 0,
              "ticks": ""
             }
            },
            "type": "scattercarpet"
           }
          ],
          "scattergeo": [
           {
            "marker": {
             "colorbar": {
              "outlinewidth": 0,
              "ticks": ""
             }
            },
            "type": "scattergeo"
           }
          ],
          "scattergl": [
           {
            "marker": {
             "colorbar": {
              "outlinewidth": 0,
              "ticks": ""
             }
            },
            "type": "scattergl"
           }
          ],
          "scattermapbox": [
           {
            "marker": {
             "colorbar": {
              "outlinewidth": 0,
              "ticks": ""
             }
            },
            "type": "scattermapbox"
           }
          ],
          "scatterpolar": [
           {
            "marker": {
             "colorbar": {
              "outlinewidth": 0,
              "ticks": ""
             }
            },
            "type": "scatterpolar"
           }
          ],
          "scatterpolargl": [
           {
            "marker": {
             "colorbar": {
              "outlinewidth": 0,
              "ticks": ""
             }
            },
            "type": "scatterpolargl"
           }
          ],
          "scatterternary": [
           {
            "marker": {
             "colorbar": {
              "outlinewidth": 0,
              "ticks": ""
             }
            },
            "type": "scatterternary"
           }
          ],
          "surface": [
           {
            "colorbar": {
             "outlinewidth": 0,
             "ticks": ""
            },
            "colorscale": [
             [
              0,
              "#0d0887"
             ],
             [
              0.1111111111111111,
              "#46039f"
             ],
             [
              0.2222222222222222,
              "#7201a8"
             ],
             [
              0.3333333333333333,
              "#9c179e"
             ],
             [
              0.4444444444444444,
              "#bd3786"
             ],
             [
              0.5555555555555556,
              "#d8576b"
             ],
             [
              0.6666666666666666,
              "#ed7953"
             ],
             [
              0.7777777777777778,
              "#fb9f3a"
             ],
             [
              0.8888888888888888,
              "#fdca26"
             ],
             [
              1,
              "#f0f921"
             ]
            ],
            "type": "surface"
           }
          ],
          "table": [
           {
            "cells": {
             "fill": {
              "color": "#EBF0F8"
             },
             "line": {
              "color": "white"
             }
            },
            "header": {
             "fill": {
              "color": "#C8D4E3"
             },
             "line": {
              "color": "white"
             }
            },
            "type": "table"
           }
          ]
         },
         "layout": {
          "annotationdefaults": {
           "arrowcolor": "#2a3f5f",
           "arrowhead": 0,
           "arrowwidth": 1
          },
          "autotypenumbers": "strict",
          "coloraxis": {
           "colorbar": {
            "outlinewidth": 0,
            "ticks": ""
           }
          },
          "colorscale": {
           "diverging": [
            [
             0,
             "#8e0152"
            ],
            [
             0.1,
             "#c51b7d"
            ],
            [
             0.2,
             "#de77ae"
            ],
            [
             0.3,
             "#f1b6da"
            ],
            [
             0.4,
             "#fde0ef"
            ],
            [
             0.5,
             "#f7f7f7"
            ],
            [
             0.6,
             "#e6f5d0"
            ],
            [
             0.7,
             "#b8e186"
            ],
            [
             0.8,
             "#7fbc41"
            ],
            [
             0.9,
             "#4d9221"
            ],
            [
             1,
             "#276419"
            ]
           ],
           "sequential": [
            [
             0,
             "#0d0887"
            ],
            [
             0.1111111111111111,
             "#46039f"
            ],
            [
             0.2222222222222222,
             "#7201a8"
            ],
            [
             0.3333333333333333,
             "#9c179e"
            ],
            [
             0.4444444444444444,
             "#bd3786"
            ],
            [
             0.5555555555555556,
             "#d8576b"
            ],
            [
             0.6666666666666666,
             "#ed7953"
            ],
            [
             0.7777777777777778,
             "#fb9f3a"
            ],
            [
             0.8888888888888888,
             "#fdca26"
            ],
            [
             1,
             "#f0f921"
            ]
           ],
           "sequentialminus": [
            [
             0,
             "#0d0887"
            ],
            [
             0.1111111111111111,
             "#46039f"
            ],
            [
             0.2222222222222222,
             "#7201a8"
            ],
            [
             0.3333333333333333,
             "#9c179e"
            ],
            [
             0.4444444444444444,
             "#bd3786"
            ],
            [
             0.5555555555555556,
             "#d8576b"
            ],
            [
             0.6666666666666666,
             "#ed7953"
            ],
            [
             0.7777777777777778,
             "#fb9f3a"
            ],
            [
             0.8888888888888888,
             "#fdca26"
            ],
            [
             1,
             "#f0f921"
            ]
           ]
          },
          "colorway": [
           "#636efa",
           "#EF553B",
           "#00cc96",
           "#ab63fa",
           "#FFA15A",
           "#19d3f3",
           "#FF6692",
           "#B6E880",
           "#FF97FF",
           "#FECB52"
          ],
          "font": {
           "color": "#2a3f5f"
          },
          "geo": {
           "bgcolor": "white",
           "lakecolor": "white",
           "landcolor": "#E5ECF6",
           "showlakes": true,
           "showland": true,
           "subunitcolor": "white"
          },
          "hoverlabel": {
           "align": "left"
          },
          "hovermode": "closest",
          "mapbox": {
           "style": "light"
          },
          "paper_bgcolor": "white",
          "plot_bgcolor": "#E5ECF6",
          "polar": {
           "angularaxis": {
            "gridcolor": "white",
            "linecolor": "white",
            "ticks": ""
           },
           "bgcolor": "#E5ECF6",
           "radialaxis": {
            "gridcolor": "white",
            "linecolor": "white",
            "ticks": ""
           }
          },
          "scene": {
           "xaxis": {
            "backgroundcolor": "#E5ECF6",
            "gridcolor": "white",
            "gridwidth": 2,
            "linecolor": "white",
            "showbackground": true,
            "ticks": "",
            "zerolinecolor": "white"
           },
           "yaxis": {
            "backgroundcolor": "#E5ECF6",
            "gridcolor": "white",
            "gridwidth": 2,
            "linecolor": "white",
            "showbackground": true,
            "ticks": "",
            "zerolinecolor": "white"
           },
           "zaxis": {
            "backgroundcolor": "#E5ECF6",
            "gridcolor": "white",
            "gridwidth": 2,
            "linecolor": "white",
            "showbackground": true,
            "ticks": "",
            "zerolinecolor": "white"
           }
          },
          "shapedefaults": {
           "line": {
            "color": "#2a3f5f"
           }
          },
          "ternary": {
           "aaxis": {
            "gridcolor": "white",
            "linecolor": "white",
            "ticks": ""
           },
           "baxis": {
            "gridcolor": "white",
            "linecolor": "white",
            "ticks": ""
           },
           "bgcolor": "#E5ECF6",
           "caxis": {
            "gridcolor": "white",
            "linecolor": "white",
            "ticks": ""
           }
          },
          "title": {
           "x": 0.05
          },
          "xaxis": {
           "automargin": true,
           "gridcolor": "white",
           "linecolor": "white",
           "ticks": "",
           "title": {
            "standoff": 15
           },
           "zerolinecolor": "white",
           "zerolinewidth": 2
          },
          "yaxis": {
           "automargin": true,
           "gridcolor": "white",
           "linecolor": "white",
           "ticks": "",
           "title": {
            "standoff": 15
           },
           "zerolinecolor": "white",
           "zerolinewidth": 2
          }
         }
        },
        "xaxis": {
         "anchor": "y",
         "domain": [
          0,
          1
         ],
         "title": {
          "text": "Spot Price"
         }
        },
        "yaxis": {
         "anchor": "x",
         "domain": [
          0,
          1
         ],
         "title": {
          "text": "Derivative Price"
         }
        }
       }
      }
     },
     "metadata": {},
     "output_type": "display_data"
    }
   ],
   "source": [
    "T = 0.001\n",
    "rf = onemonth.iloc[-1]['ONE_M']\n",
    "K = 195\n",
    "iv = 0.17\n",
    "S0 =np.linspace(190,205,num = 100)\n",
    "applejanOB = PUT(S0 = S0, K = 195, R = rf , Sigma=iv, T = T)\n",
    "applejan = Option_Pricer(contract=applejanOB)\n",
    "applejan.plot_contract()\n"
   ]
  }
 ],
 "metadata": {
  "kernelspec": {
   "display_name": "Python 3",
   "language": "python",
   "name": "python3"
  },
  "language_info": {
   "codemirror_mode": {
    "name": "ipython",
    "version": 3
   },
   "file_extension": ".py",
   "mimetype": "text/x-python",
   "name": "python",
   "nbconvert_exporter": "python",
   "pygments_lexer": "ipython3",
   "version": "3.11.7"
  }
 },
 "nbformat": 4,
 "nbformat_minor": 2
}
