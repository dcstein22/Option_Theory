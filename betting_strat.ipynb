{
 "cells": [
  {
   "attachments": {},
   "cell_type": "markdown",
   "metadata": {},
   "source": [
    "# Optimal Bet Size Calculator\n",
    "\n",
    "- Hello everyone, my name is Danny Stein and Jonah asked me a while ago to figure out what would would be the optimal bet size that would maximize long-term wealth. I uncovered a white paper that reviews derivation the Kelly Criterion based on what Ed Thorp found.\n",
    "\n",
    "- The goal of a sport's gambler is to maximize the expected value of wealth after N rounds. This means the size of your units *must be optimized* or else you will definitely lose in the long-run, which is  exactly what happens to 95% of gamblers. Majority of people gamble just because it is fun, the type of attitude you need if you know it's a lose-lose situation.  "
   ]
  },
  {
   "attachments": {},
   "cell_type": "markdown",
   "metadata": {},
   "source": [
    "# Derivation of Optimal Fraction of Bet Size\n",
    "\n",
    "\n",
    "\n",
    "- Based on Jonah's model we have obtained the probability of successes based on the absolute spread differences of his model.\n",
    "- If we believe these are true, and that they are, then he is giving you an edge based on what the market is giving you at a certain time. \n",
    "- For example if Jonah's model predicts that UIUC has an absolute difference of $4$ against what the Market is giving you, he believes that his model's prediction is large enough from the market, then it is worth betting on. \n",
    "\n",
    "## Assumptions\n",
    "\n",
    "1. The probability of winning the bet is known $\\frac{1}{2}<p<1$ and the probability of a loss is $q = 1-p$, and each bet is independent of each other. \n",
    "2. Let $f$ represent the fraction of captial on each bet $0<f<1$. Additionally, $W_{n}$ and $L_{n}$ represent the number of wins and losses after $n$ bets, respectively. \n",
    "\n",
    "3. In the market we never really get an **even payoff** which is just a line that is $\\pm 100$. Generally we consider a scenario that **b** units are won per unit bet per win and **a** units are lost per unit bet per loss. For example if the market gives UIUC -110, the b = 1 units and a = 1.1 units. The opposite is true if UIUC is -110. \n",
    "\n",
    "### Derivation of optimal bet size\n",
    "\n",
    "- Given inital capital of $X_{0}$ or your bankroll after n bets, your initial captial equals:\n",
    "\n",
    "$X_{n} = X_{0}(1-af)^{L_{n}}(1+bf)^{W_{n}}$\n",
    "\n",
    "- In this context, long-term wealth comes down to maximizing the average **geometric growth rate per bet.**\n",
    "\n",
    "$g(f) = ln(\\frac{X_n}{X_0})^{1/n}  = \\frac{1}{n} (L_n ln(1-af) + W_nln(1+bf))$\n",
    "\n",
    "- The expected value of $g(f)$ is:\n",
    "\n",
    "$G(f) = \\mathbb{E}g(f) = qln(1-af)+pln(1+bf)$\n",
    "\n",
    "- We want to maximize $G(f)$ so that that the expected average growth rate of capital is maximized by choosing $f$ optimally. All this entails is by taking the first derivative of $\\mathbb{E}g(f)$ with respect to **f** - the optimal bet size. \n",
    "\n",
    "$\\frac{\\mathrm d}{\\mathrm d f} \\big(g(f)) = \\frac{-qa}{1-af} + \\frac{pb}{1+bf} = 0$\n",
    "\n",
    "$\\frac{pb}{1+bf} = \\frac{qa}{1-af}$\n",
    "\n",
    "$pb(1-af) = qa(1+bf)$\n",
    "\n",
    "$pb - pbaf = qa +qabf$\n",
    "\n",
    "$qabf + pbaf = pb -aq$\n",
    "\n",
    "$fab(q+p) = pb-qa$\n",
    "\n",
    "- Since we know that **q+p = 1, f becomes**\n",
    "\n",
    "$\\therefore f = \\frac{pb-qa}{ab}$\n",
    "\n",
    "\n",
    "\n",
    "$f = \\frac{pb-qa}{ab}$\n"
   ]
  },
  {
   "attachments": {},
   "cell_type": "markdown",
   "metadata": {},
   "source": [
    "# Interpretation of $f = \\frac{pb-qa}{ab}$\n",
    "\n",
    "**Example:** Let's say UIUC is playing Michigan at home and Vegas (the market) has UIUC -1, yet Jonah's model predicts UIUC's spread to be -7 which would give us an absolute difference of 6 from the market. Historically, Jonah's model gives us a 56% chance of hitting if the difference between his line and the market's absolute difference is 6. Right now the market for UIUC is favored by (-1) and -110. \n",
    "This means you need to **risk** $110 to win $100. Thus, b = 1 (b represents unit that are won per unit bet per win) and a = 1.1 ( a represents units that are lost per unit bet per loss.)\n",
    "\n",
    "Plugging p = .56, q = .44, a = 1, and b = 1.1, we calculate that $f = .07/1.1 = 0.0690$. Rather 6.909% of your bankroll that night should be allocated to this bet according to the assumptions given above. \n",
    "\n",
    "- **Jonah's model is not actually 56% right, if it was that would be incredibly insane given how hard it is to find that extra alpha.**\n",
    "- Right now he is 53.12% right on predicting totals and around 52.5% right on predicting spreads, something that would be expected and indicates how the betting market is incredibly efficient. Theoretically speaking, lines that are -110 should never be bet unless Jonah's model accuracy is $>52.380$%. \n",
    "    - Why?\n",
    "    \n",
    "    Because in a risk-neutral world your **expected payoff is always 0.** A line that is -110 implies a risk-neutral probability of $52.38$% of happening. However, if you have a model that says **nooo** actually the probability **of that event occuring is 54%** then it would be appropriate to bet on that game with an appropriate allocation. **Never bet more than you should**.\n",
    "\n",
    "\n",
    "Rememeber this number maximizes your wealth **in the long-run** so I recommend that you should never bet greater than percentage based on a probabilitic and mathematical basis, and remember it is always better to be conservative than aggressive, so some people would divide that 6.909% by one-half and bet that amount. \n"
   ]
  },
  {
   "attachments": {},
   "cell_type": "markdown",
   "metadata": {},
   "source": [
    "# Simulations of Optimal Allocation"
   ]
  },
  {
   "cell_type": "code",
   "execution_count": null,
   "metadata": {},
   "outputs": [],
   "source": [
    "import math\n",
    "import time\n",
    "import numpy as np\n",
    "import pandas as pd\n",
    "import datetime as dt\n",
    "import matplotlib.pyplot as plt\n",
    "import matplotlib as mpl\n",
    "plt.style.use('seaborn')\n",
    "%matplotlib inline\n",
    "np.random.seed(100)"
   ]
  },
  {
   "cell_type": "code",
   "execution_count": null,
   "metadata": {},
   "outputs": [],
   "source": [
    "p = .56\n",
    "f = ((.56)-.44*(1.1))/1.1 # optimal fraction of wealth to be invested\n",
    "I = 50\n",
    "n = 200"
   ]
  },
  {
   "cell_type": "code",
   "execution_count": null,
   "metadata": {},
   "outputs": [],
   "source": [
    "def simulation(f_):\n",
    "    c = np.zeros((n,I)) # 200 trials per series simulated- there will be 50 seriess\n",
    "    c[0] = 100 # initial wealth is $100\n",
    "    for i in range(I):\n",
    "        for t in range(1, n):\n",
    "            o = np.random.binomial(1,p)\n",
    "            if o > 0:\n",
    "                c[t,i] = (1+f)*c[t-1,i]\n",
    "            else:\n",
    "                c[t,i] = (1-f*(1.1))*c[t-1,i]\n",
    "    return c\n",
    "        "
   ]
  },
  {
   "cell_type": "code",
   "execution_count": null,
   "metadata": {},
   "outputs": [],
   "source": [
    "c_1 = simulation(f)\n",
    "plt.figure(figsize = (10,10))\n",
    "plt.plot(c_1,'b',lw =0.5)\n",
    "plt.plot(c_1.mean(axis =1), 'r', lw =2.5, label = 'Mean of 50 Series')\n",
    "plt.ylabel('Capital after N trials', size = 15)\n",
    "plt.title('Simulation', size = 20)\n",
    "plt.xlabel('Trial Number', size = 15)\n",
    "plt.legend(loc = 'upper center')"
   ]
  },
  {
   "cell_type": "code",
   "execution_count": null,
   "metadata": {},
   "outputs": [],
   "source": [
    "print(f'Mean {c_1.mean(axis = 1).mean()}, Standard Deviation {c_1.std(axis = 1).mean()}')"
   ]
  },
  {
   "cell_type": "code",
   "execution_count": null,
   "metadata": {},
   "outputs": [],
   "source": [
    "f"
   ]
  },
  {
   "attachments": {},
   "cell_type": "markdown",
   "metadata": {},
   "source": [
    "- As you can see the **red line** is the mean of all the 50 series and it does gradually increase in the long-run. The mean over all the 50 series is $169 ( remember inital capital is $10) with a standard deviation of $63.57. We can see that there is a lot of variance, but this is expected with betting.\n",
    "\n",
    "\n"
   ]
  },
  {
   "attachments": {},
   "cell_type": "markdown",
   "metadata": {},
   "source": [
    "# Simulation with different allocations\n",
    "\n",
    "- Here I want to simulate for different values of f and plot the mean over the 50 series against time. \n",
    "\n",
    "- In our example above, we calculated $f^* = 0.0609$.\n",
    "- In this next example, I am going to make f equal to .02, .1, .25, .5, and .8"
   ]
  },
  {
   "cell_type": "code",
   "execution_count": null,
   "metadata": {},
   "outputs": [],
   "source": [
    "\n",
    "c_1 = simulation(f)\n",
    "c_005 = simulation(.02)\n",
    "c_008 = simulation(.1)\n",
    "c_025 = simulation(.25)\n",
    "c_05 = simulation(.5)\n",
    "c_08 = simulation(.8)"
   ]
  },
  {
   "cell_type": "code",
   "execution_count": null,
   "metadata": {},
   "outputs": [],
   "source": [
    "plt.figure(figsize = (15,8))\n",
    "plt.plot(c_1.mean(axis = 1), c = 'r', label = '$f^*$ =.0609')\n",
    "plt.plot(c_005.mean(axis = 1), c ='b', label = 'f = .02')\n",
    "plt.plot(c_008.mean(axis =1), c = 'g', label = 'f = .1')\n",
    "plt.plot(c_025.mean(axis = 1), c ='y', label = 'f = .25')\n",
    "plt.plot(c_05.mean(axis = 1), c = 'c', label = 'f = .5')\n",
    "plt.plot(c_08.mean(axis = 1), c = 'k', label = 'f = .8')\n",
    "plt.ylabel('Average Capital after 200 Trials', size = 15)\n",
    "plt.xlabel('Trial Number', size = 15)\n",
    "plt.title('Simulations of Different f Allocations | Initial Capital $10', size= 20)\n",
    "plt.legend(loc = 0)"
   ]
  },
  {
   "cell_type": "code",
   "execution_count": null,
   "metadata": {},
   "outputs": [],
   "source": [
    "series = pd.DataFrame([(c_1.mean(axis = 1)).mean(), (c_005.mean(axis = 1)).mean(),(c_008.mean(axis =1)).mean(), (c_025.mean(axis = 1)).mean(), (c_05.mean(axis = 1)).mean(), (c_08.mean(axis = 1)).mean()], index = ['f = .0609', 'f = .02','f =.1','f = .25','f = .5', 'f = .8'], columns = ['Mean Captial after N Trials'])\n"
   ]
  },
  {
   "cell_type": "code",
   "execution_count": null,
   "metadata": {},
   "outputs": [],
   "source": [
    "vol = pd.DataFrame([(c_1.std(axis = 1)).mean(), (c_005.std(axis = 1)).mean(),(c_008.std(axis = 1)).mean(), (c_025.std(axis =1)).mean(), (c_05.std(axis =1)).mean(), (c_08.std(axis = 1)).mean()], index = ['f = .0609', 'f = .02','f =.1','f = .25','f = .5', 'f = .8'], columns = ['Vol of f'])"
   ]
  },
  {
   "cell_type": "code",
   "execution_count": null,
   "metadata": {},
   "outputs": [],
   "source": [
    "series = series.join(vol, how = 'inner')\n",
    "series['Mean Per Vol'] = series['Mean Captial after N Trials']/series['Vol of f']\n"
   ]
  },
  {
   "cell_type": "code",
   "execution_count": null,
   "metadata": {},
   "outputs": [],
   "source": [
    "series"
   ]
  },
  {
   "cell_type": "code",
   "execution_count": null,
   "metadata": {},
   "outputs": [],
   "source": [
    "pd.DataFrame(c_1)"
   ]
  },
  {
   "attachments": {},
   "cell_type": "markdown",
   "metadata": {},
   "source": [
    "- Remember this is just one simulation. Sometimes, other allocations will do better simply because of better luck, but in an infinite amount of time, the optimal allocation derived by Ed Thorp is the best one theoretically. What we have accomplished is maximizing the expected value of wealth across time based on the empirical probabilities that Jonah's model has predicted. \n",
    "- I have ran the simulation with no set.seed() and sometimes the optimal allocation does fail, but there is nothing you can do to change that! Gambling is gambling!\n",
    "\n",
    "- Based on the value of f calculated, I would recommend that you never bet higher than what f calculates, if anything, bet smaller than that amount. \n"
   ]
  }
 ],
 "metadata": {
  "kernelspec": {
   "display_name": "base",
   "language": "python",
   "name": "python3"
  },
  "language_info": {
   "codemirror_mode": {
    "name": "ipython",
    "version": 3
   },
   "file_extension": ".py",
   "mimetype": "text/x-python",
   "name": "python",
   "nbconvert_exporter": "python",
   "pygments_lexer": "ipython3",
   "version": "3.9.13 (main, Aug 25 2022, 23:51:50) [MSC v.1916 64 bit (AMD64)]"
  },
  "orig_nbformat": 4,
  "vscode": {
   "interpreter": {
    "hash": "44a761cc06a695ddb39d99b7e807436f731f960c127538853a5b90f596df33e4"
   }
  }
 },
 "nbformat": 4,
 "nbformat_minor": 2
}
