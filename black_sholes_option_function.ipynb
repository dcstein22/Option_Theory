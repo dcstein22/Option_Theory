{
 "cells": [
  {
   "cell_type": "code",
   "execution_count": 5,
   "metadata": {},
   "outputs": [],
   "source": [
    "import numpy as np\n",
    "import scipy.stats as scs\n",
    "import matplotlib.pyplot as plt\n",
    "import pandas as pd\n",
    "import yfinance as yf\n",
    "import matplotlib as mpl\n",
    "import datetime as dt\n",
    "import typing\n",
    "import scipy.stats as stats\n",
    "from datetime import datetime, timedelta\n",
    "plt.style.use('seaborn')\n",
    "%matplotlib inline"
   ]
  },
  {
   "cell_type": "code",
   "execution_count": 11,
   "metadata": {},
   "outputs": [
    {
     "data": {
      "text/html": [
       "<div>\n",
       "<style scoped>\n",
       "    .dataframe tbody tr th:only-of-type {\n",
       "        vertical-align: middle;\n",
       "    }\n",
       "\n",
       "    .dataframe tbody tr th {\n",
       "        vertical-align: top;\n",
       "    }\n",
       "\n",
       "    .dataframe thead th {\n",
       "        text-align: right;\n",
       "    }\n",
       "</style>\n",
       "<table border=\"1\" class=\"dataframe\">\n",
       "  <thead>\n",
       "    <tr style=\"text-align: right;\">\n",
       "      <th></th>\n",
       "      <th>Sales</th>\n",
       "      <th>Profit</th>\n",
       "      <th>Sales_Profit</th>\n",
       "    </tr>\n",
       "  </thead>\n",
       "  <tbody>\n",
       "    <tr>\n",
       "      <th>E</th>\n",
       "      <td>8500.0</td>\n",
       "      <td>2.50</td>\n",
       "      <td>21250.0</td>\n",
       "    </tr>\n",
       "    <tr>\n",
       "      <th>A</th>\n",
       "      <td>10500.0</td>\n",
       "      <td>1.60</td>\n",
       "      <td>16800.0</td>\n",
       "    </tr>\n",
       "    <tr>\n",
       "      <th>D</th>\n",
       "      <td>9500.0</td>\n",
       "      <td>1.75</td>\n",
       "      <td>16625.0</td>\n",
       "    </tr>\n",
       "    <tr>\n",
       "      <th>F</th>\n",
       "      <td>11000.0</td>\n",
       "      <td>1.50</td>\n",
       "      <td>16500.0</td>\n",
       "    </tr>\n",
       "    <tr>\n",
       "      <th>C</th>\n",
       "      <td>6500.0</td>\n",
       "      <td>2.50</td>\n",
       "      <td>16250.0</td>\n",
       "    </tr>\n",
       "    <tr>\n",
       "      <th>B</th>\n",
       "      <td>5000.0</td>\n",
       "      <td>3.00</td>\n",
       "      <td>15000.0</td>\n",
       "    </tr>\n",
       "  </tbody>\n",
       "</table>\n",
       "</div>"
      ],
      "text/plain": [
       "     Sales  Profit  Sales_Profit\n",
       "E   8500.0    2.50       21250.0\n",
       "A  10500.0    1.60       16800.0\n",
       "D   9500.0    1.75       16625.0\n",
       "F  11000.0    1.50       16500.0\n",
       "C   6500.0    2.50       16250.0\n",
       "B   5000.0    3.00       15000.0"
      ]
     },
     "execution_count": 11,
     "metadata": {},
     "output_type": "execute_result"
    }
   ],
   "source": [
    "sales = [10500,5000,6500,9500,8500,11000]\n",
    "profit = [1.6,3,2.5,1.75,2.5,1.50]\n",
    "product = ['A','B','C','D','E','F']\n",
    "DF = pd.DataFrame([sales,profit],columns = product,index = ['Sales','Profit']).T\n",
    "DF['Sales_Profit'] = DF['Sales']*DF['Profit']\n",
    "DF.sort_values(by = 'Sales_Profit',ascending=False)\n"
   ]
  },
  {
   "cell_type": "code",
   "execution_count": 3,
   "metadata": {},
   "outputs": [
    {
     "data": {
      "text/plain": [
       "184.23975842658803"
      ]
     },
     "execution_count": 3,
     "metadata": {},
     "output_type": "execute_result"
    }
   ],
   "source": [
    "stats.norm.cdf(0.36867)*1000 - 1000*(np.exp(-0.06*3))*stats.norm.cdf(0.12619)"
   ]
  },
  {
   "cell_type": "code",
   "execution_count": 5,
   "metadata": {},
   "outputs": [
    {
     "data": {
      "text/plain": [
       "0.39853002837836904"
      ]
     },
     "execution_count": 5,
     "metadata": {},
     "output_type": "execute_result"
    }
   ],
   "source": [
    "stats.norm.pdf(.045473)"
   ]
  },
  {
   "cell_type": "code",
   "execution_count": 6,
   "metadata": {},
   "outputs": [
    {
     "name": "stdout",
     "output_type": "stream",
     "text": [
      "[*********************100%***********************]  1 of 1 completed\n"
     ]
    }
   ],
   "source": [
    "google = pd.DataFrame(yf.download('googl', start = '2022-12-01')['Adj Close']).pct_change().dropna()"
   ]
  },
  {
   "cell_type": "code",
   "execution_count": 7,
   "metadata": {},
   "outputs": [
    {
     "data": {
      "text/plain": [
       "16"
      ]
     },
     "execution_count": 7,
     "metadata": {},
     "output_type": "execute_result"
    }
   ],
   "source": [
    "d = pd.date_range(start='2023-02-02', end = '2023-02-17', freq='D')\n",
    "len(d)"
   ]
  },
  {
   "cell_type": "code",
   "execution_count": 8,
   "metadata": {},
   "outputs": [
    {
     "name": "stdout",
     "output_type": "stream",
     "text": [
      "Time delta: 15 days 00:00:00\n"
     ]
    }
   ],
   "source": [
    "start = '2023-02-02'\n",
    "end = '2023-02-17'\n",
    "date_range = pd.date_range(start = start, end = end , freq = 'B')\n",
    "delta = date_range[-1] - date_range[0]\n",
    "print(\"Time delta:\", delta)"
   ]
  },
  {
   "cell_type": "markdown",
   "metadata": {},
   "source": [
    "# Option Formula\n",
    "\n",
    "## Call Option \n",
    "\n",
    "- Gives the owner the right to buy but not the obligation to buy the underlying asset at a specific price $K$.\n",
    "\n",
    "$C_{0,t} = S_0 \\text{N}({d_1}) - Ke^{-rT} \\text{N}({d_2})$\n",
    "\n",
    "## Put Option\n",
    "\n",
    "$P_{0,t} = Ke^{-rT} \\text{N}({-d_2}) - S_0 \\text{N}({d_1})$\n"
   ]
  },
  {
   "cell_type": "code",
   "execution_count": 14,
   "metadata": {},
   "outputs": [],
   "source": [
    "def call(S0, K, r, sigma, T):\n",
    "    \"\"\"\n",
    "    Returns the Black-Scholes Call Option Price\n",
    "    S0: Spot price at time 0\n",
    "    K: Strike price\n",
    "    r: risk-free interest rate\n",
    "    sigma: annualized volatility of the option\n",
    "    T: Time to maturity\n",
    "\n",
    "    \"\"\"\n",
    "    d1 = (np.log(S0/K)+(r+((sigma**2)/2))*T)/(sigma*np.sqrt(T))\n",
    "    d2 = d1 - sigma*np.sqrt(T)\n",
    "    pv = K*np.exp(-r*T)\n",
    "\n",
    "    C = S0*(stats.norm.cdf(d1)) - pv*(stats.norm.cdf(d2))\n",
    "    return pd.DataFrame([np.round(C,4)], columns = ['Call Option'],index = ['Price'] )\n",
    "def put(S0, K, r, sigma, T):\n",
    "    \"\"\"\n",
    "    Returns the Black-Scholes Put Option Price\n",
    "    S0: Spot price at time 0\n",
    "    K: Strike price\n",
    "    r: risk-free interest rate\n",
    "    sigma: annualized volatility of the option\n",
    "    T: Time to maturity\n",
    "\n",
    "    \"\"\"\n",
    "    d1 = (np.log(S0/K)+(r+((sigma**2)/2))*T)/(sigma*np.sqrt(T))\n",
    "    d2 = d1 - sigma*np.sqrt(T)\n",
    "    pv = K*np.exp(-r*T)\n",
    "\n",
    "    C = pv*(stats.norm.cdf(-d2)) - S0*(stats.norm.cdf(-d1))\n",
    "    return pd.DataFrame([np.round(C,4)], columns = ['Put Option'],index = ['Price'] )\n",
    "    "
   ]
  },
  {
   "cell_type": "code",
   "execution_count": 10,
   "metadata": {},
   "outputs": [
    {
     "data": {
      "text/html": [
       "<div>\n",
       "<style scoped>\n",
       "    .dataframe tbody tr th:only-of-type {\n",
       "        vertical-align: middle;\n",
       "    }\n",
       "\n",
       "    .dataframe tbody tr th {\n",
       "        vertical-align: top;\n",
       "    }\n",
       "\n",
       "    .dataframe thead th {\n",
       "        text-align: right;\n",
       "    }\n",
       "</style>\n",
       "<table border=\"1\" class=\"dataframe\">\n",
       "  <thead>\n",
       "    <tr style=\"text-align: right;\">\n",
       "      <th></th>\n",
       "      <th>Call Option</th>\n",
       "    </tr>\n",
       "  </thead>\n",
       "  <tbody>\n",
       "    <tr>\n",
       "      <th>Price</th>\n",
       "      <td>4.3215</td>\n",
       "    </tr>\n",
       "  </tbody>\n",
       "</table>\n",
       "</div>"
      ],
      "text/plain": [
       "       Call Option\n",
       "Price       4.3215"
      ]
     },
     "execution_count": 10,
     "metadata": {},
     "output_type": "execute_result"
    }
   ],
   "source": [
    "call(100,105,.04,.3,.25)"
   ]
  },
  {
   "cell_type": "code",
   "execution_count": 15,
   "metadata": {},
   "outputs": [
    {
     "data": {
      "text/html": [
       "<div>\n",
       "<style scoped>\n",
       "    .dataframe tbody tr th:only-of-type {\n",
       "        vertical-align: middle;\n",
       "    }\n",
       "\n",
       "    .dataframe tbody tr th {\n",
       "        vertical-align: top;\n",
       "    }\n",
       "\n",
       "    .dataframe thead th {\n",
       "        text-align: right;\n",
       "    }\n",
       "</style>\n",
       "<table border=\"1\" class=\"dataframe\">\n",
       "  <thead>\n",
       "    <tr style=\"text-align: right;\">\n",
       "      <th></th>\n",
       "      <th>Put Option</th>\n",
       "    </tr>\n",
       "  </thead>\n",
       "  <tbody>\n",
       "    <tr>\n",
       "      <th>Price</th>\n",
       "      <td>8.2767</td>\n",
       "    </tr>\n",
       "  </tbody>\n",
       "</table>\n",
       "</div>"
      ],
      "text/plain": [
       "       Put Option\n",
       "Price      8.2767"
      ]
     },
     "execution_count": 15,
     "metadata": {},
     "output_type": "execute_result"
    }
   ],
   "source": [
    "put(100,105,.04,.3,.25)"
   ]
  },
  {
   "cell_type": "code",
   "execution_count": 12,
   "metadata": {},
   "outputs": [
    {
     "name": "stdout",
     "output_type": "stream",
     "text": [
      "\n",
      "    Returns the Black-Scholes Call Option Price\n",
      "    S0: Spot price at time 0\n",
      "    K: Strike price\n",
      "    r: risk-free interest rate\n",
      "    sigma: annualized volatility of the option\n",
      "    T: Time to maturity\n",
      "\n",
      "    \n"
     ]
    }
   ],
   "source": [
    "print(call.__doc__)"
   ]
  },
  {
   "cell_type": "code",
   "execution_count": 12,
   "metadata": {},
   "outputs": [],
   "source": [
    "def option(type = None, So = None, K = None, r = None, sigma = None, current_date = None, expiration_date = None):\n",
    "    no_business_days = np.busday_count(begindates = current_date, enddates = expiration_date)\n",
    "    Time = (no_business_days/252)\n",
    "    # Divide by 252 because there are 252 trading days\n",
    "    d1 = (np.log(So/K)+(r+((sigma**2)/2))*Time)/(sigma*np.sqrt(Time))\n",
    "    d2 = d1 - sigma*np.sqrt(Time)\n",
    "    present_value = K*(np.exp(-r*(Time)))\n",
    "    if type == 'Call':\n",
    "        price = So*(scs.norm.cdf(d1))-present_value*(scs.norm.cdf(d2))\n",
    "    elif type == \"Put\":\n",
    "        price = present_value*(scs.norm.cdf(-d2))-So*(scs.norm.cdf(-d1))\n",
    "    else:\n",
    "        print(\"Wrong security name\")\n",
    "    return pd.DataFrame([np.round(price,4)],columns = ['Option Price'])\n",
    "        \n",
    "        "
   ]
  },
  {
   "cell_type": "code",
   "execution_count": 21,
   "metadata": {},
   "outputs": [
    {
     "data": {
      "text/html": [
       "<div>\n",
       "<style scoped>\n",
       "    .dataframe tbody tr th:only-of-type {\n",
       "        vertical-align: middle;\n",
       "    }\n",
       "\n",
       "    .dataframe tbody tr th {\n",
       "        vertical-align: top;\n",
       "    }\n",
       "\n",
       "    .dataframe thead th {\n",
       "        text-align: right;\n",
       "    }\n",
       "</style>\n",
       "<table border=\"1\" class=\"dataframe\">\n",
       "  <thead>\n",
       "    <tr style=\"text-align: right;\">\n",
       "      <th></th>\n",
       "      <th>Option Price</th>\n",
       "    </tr>\n",
       "  </thead>\n",
       "  <tbody>\n",
       "    <tr>\n",
       "      <th>0</th>\n",
       "      <td>10.1643</td>\n",
       "    </tr>\n",
       "  </tbody>\n",
       "</table>\n",
       "</div>"
      ],
      "text/plain": [
       "   Option Price\n",
       "0       10.1643"
      ]
     },
     "execution_count": 21,
     "metadata": {},
     "output_type": "execute_result"
    }
   ],
   "source": [
    "option('Put',So = 444.49,K = 445, r = 0.05388,sigma=.1547,current_date='2023-08-11',expiration_date='2023-10-20')"
   ]
  },
  {
   "cell_type": "code",
   "execution_count": 13,
   "metadata": {},
   "outputs": [],
   "source": [
    "def fx_options(spot_fx_rate: float,strike_fx_rate:float,sigma: float ,domestic_interest: float,foreign_interest:float,domestic_currency:str, foreign_currency:str, spot_date:str,expiration_date: str, option_type:str):\n",
    "    tau = len(pd.date_range(start=spot_date,end = expiration_date))\n",
    "    if domestic_currency == 'USD':\n",
    "        t1 = tau/360\n",
    "    else:\n",
    "        t1 = tau/365\n",
    "    if foreign_currency == 'USD':\n",
    "        t2 = tau/360\n",
    "    else:\n",
    "        t2 = tau/365\n",
    "    domestic_discount = np.exp(-domestic_interest*t1)\n",
    "    foreign_discount = np.exp(-foreign_interest*t2)\n",
    "    d1 =(np.log(spot_fx_rate/strike_fx_rate)+((domestic_interest-foreign_interest)+((sigma**2)/2))*tau)/(sigma*np.sqrt(tau))\n",
    "    d2 = d1 - sigma*np.sqrt(tau)\n",
    "\n",
    "    if option_type == 'Call':\n",
    "        price = spot_fx_rate*foreign_discount*(scs.norm.cdf(d1)) - strike_fx_rate*domestic_discount*(scs.norm.cdf(d2))\n",
    "\n",
    "    elif option_type == 'Put':\n",
    "        price = strike_fx_rate*domestic_discount*(scs.norm.cdf(-d2)) -spot_fx_rate*foreign_discount*(scs.norm.cdf(-d1))\n",
    "    else:\n",
    "        print('Wrong Option Type')\n",
    "\n",
    "    return np.round(price,6)\n",
    "\n",
    "\n",
    "    \n"
   ]
  },
  {
   "cell_type": "code",
   "execution_count": 14,
   "metadata": {},
   "outputs": [
    {
     "data": {
      "text/plain": [
       "0.429888"
      ]
     },
     "execution_count": 14,
     "metadata": {},
     "output_type": "execute_result"
    }
   ],
   "source": [
    "fx_options(1.6,1.170,0.05,.0475,.0475,'EUR','GBP','2023-02-27','2023-02-28','Call')"
   ]
  },
  {
   "cell_type": "code",
   "execution_count": 15,
   "metadata": {},
   "outputs": [
    {
     "data": {
      "text/plain": [
       "0.5"
      ]
     },
     "execution_count": 15,
     "metadata": {},
     "output_type": "execute_result"
    }
   ],
   "source": [
    "scs.norm.cdf(0)"
   ]
  },
  {
   "cell_type": "code",
   "execution_count": 16,
   "metadata": {},
   "outputs": [
    {
     "data": {
      "text/html": [
       "<div>\n",
       "<style scoped>\n",
       "    .dataframe tbody tr th:only-of-type {\n",
       "        vertical-align: middle;\n",
       "    }\n",
       "\n",
       "    .dataframe tbody tr th {\n",
       "        vertical-align: top;\n",
       "    }\n",
       "\n",
       "    .dataframe thead th {\n",
       "        text-align: right;\n",
       "    }\n",
       "</style>\n",
       "<table border=\"1\" class=\"dataframe\">\n",
       "  <thead>\n",
       "    <tr style=\"text-align: right;\">\n",
       "      <th></th>\n",
       "      <th>Option Price</th>\n",
       "    </tr>\n",
       "  </thead>\n",
       "  <tbody>\n",
       "    <tr>\n",
       "      <th>0</th>\n",
       "      <td>12.5464</td>\n",
       "    </tr>\n",
       "  </tbody>\n",
       "</table>\n",
       "</div>"
      ],
      "text/plain": [
       "   Option Price\n",
       "0       12.5464"
      ]
     },
     "execution_count": 16,
     "metadata": {},
     "output_type": "execute_result"
    }
   ],
   "source": [
    "option('Call', So = 106.7,K = 95,r = .04,sigma = .5, current_date='2023-02-02',expiration_date='2023-02-17')"
   ]
  },
  {
   "cell_type": "code",
   "execution_count": 17,
   "metadata": {},
   "outputs": [
    {
     "data": {
      "text/html": [
       "<div>\n",
       "<style scoped>\n",
       "    .dataframe tbody tr th:only-of-type {\n",
       "        vertical-align: middle;\n",
       "    }\n",
       "\n",
       "    .dataframe tbody tr th {\n",
       "        vertical-align: top;\n",
       "    }\n",
       "\n",
       "    .dataframe thead th {\n",
       "        text-align: right;\n",
       "    }\n",
       "</style>\n",
       "<table border=\"1\" class=\"dataframe\">\n",
       "  <thead>\n",
       "    <tr style=\"text-align: right;\">\n",
       "      <th></th>\n",
       "      <th>Option Price</th>\n",
       "    </tr>\n",
       "  </thead>\n",
       "  <tbody>\n",
       "    <tr>\n",
       "      <th>0</th>\n",
       "      <td>17.3773</td>\n",
       "    </tr>\n",
       "  </tbody>\n",
       "</table>\n",
       "</div>"
      ],
      "text/plain": [
       "   Option Price\n",
       "0       17.3773"
      ]
     },
     "execution_count": 17,
     "metadata": {},
     "output_type": "execute_result"
    }
   ],
   "source": [
    "option('Call', So = 112,K = 95,r = .0468,sigma = .5, current_date='2023-02-03',expiration_date='2023-02-17')"
   ]
  },
  {
   "cell_type": "code",
   "execution_count": 18,
   "metadata": {},
   "outputs": [
    {
     "data": {
      "text/plain": [
       "0.4183954556526073"
      ]
     },
     "execution_count": 18,
     "metadata": {},
     "output_type": "execute_result"
    }
   ],
   "source": [
    "scs.norm.cdf(-.206)"
   ]
  }
 ],
 "metadata": {
  "kernelspec": {
   "display_name": "base",
   "language": "python",
   "name": "python3"
  },
  "language_info": {
   "codemirror_mode": {
    "name": "ipython",
    "version": 3
   },
   "file_extension": ".py",
   "mimetype": "text/x-python",
   "name": "python",
   "nbconvert_exporter": "python",
   "pygments_lexer": "ipython3",
   "version": "3.9.13"
  },
  "orig_nbformat": 4,
  "vscode": {
   "interpreter": {
    "hash": "44a761cc06a695ddb39d99b7e807436f731f960c127538853a5b90f596df33e4"
   }
  }
 },
 "nbformat": 4,
 "nbformat_minor": 2
}
