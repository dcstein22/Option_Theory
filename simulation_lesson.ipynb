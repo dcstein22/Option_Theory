{
 "cells": [
  {
   "cell_type": "code",
   "execution_count": 2,
   "metadata": {},
   "outputs": [],
   "source": [
    "import pandas as pd\n",
    "import numpy as np \n",
    "import pandas_datareader\n",
    "import datetime as dt"
   ]
  },
  {
   "cell_type": "markdown",
   "metadata": {},
   "source": [
    "# Option Simulation\n",
    "\n",
    "## Bank of America | Long Time Value Spread\n",
    "\n",
    "\\begin{align}\n",
    "\n",
    "V_{p,\\tau} = +30C(K=32,T = 0.11) - 30C(K=32,T=0.05) - 0.35\n",
    "\n",
    "\\end{align}"
   ]
  },
  {
   "cell_type": "markdown",
   "metadata": {},
   "source": [
    "Initial premium cost $\\$1,050$."
   ]
  },
  {
   "cell_type": "code",
   "execution_count": 75,
   "metadata": {},
   "outputs": [
    {
     "name": "stdout",
     "output_type": "stream",
     "text": [
      "Short call time to maturity: 0.0493; Long call time to maturity: 0.1068\n"
     ]
    }
   ],
   "source": [
    "t1 =pd.date_range(start = dt.datetime.today(),end = '2024-02-09')\n",
    "S_C_T = len(t1)/365\n",
    "t2 = pd.date_range(start = dt.datetime.today(),end = '2024-03-01')\n",
    "L_C_T = len(t2)/365\n",
    "print(f\"Short call time to maturity: {S_C_T:.4f}; Long call time to maturity: {L_C_T:.4f}\")"
   ]
  },
  {
   "cell_type": "code",
   "execution_count": 76,
   "metadata": {},
   "outputs": [],
   "source": [
    "size = 30\n",
    "multiplier = 100\n",
    "port = np.array([[-.9,-1.02,-0.662,-.225,.02,-.027],[1.25,1.35,0.64,0.165,-0.014,.039]])*100\n",
    "port = pd.DataFrame(port,columns=['Initial_Price','Cur_Price','Delta',\"Gamma\",'Theta','Vega'],index = ['SC','LC'])\n",
    "port.loc['Port',:] = np.array(port.sum(axis = 0))*30\n",
    "#port.loc['Port_Totals',:] = (multiplier*30)*(np.array(port.sum(axis = 0)))"
   ]
  },
  {
   "cell_type": "code",
   "execution_count": 77,
   "metadata": {},
   "outputs": [
    {
     "data": {
      "text/html": [
       "<div>\n",
       "<style scoped>\n",
       "    .dataframe tbody tr th:only-of-type {\n",
       "        vertical-align: middle;\n",
       "    }\n",
       "\n",
       "    .dataframe tbody tr th {\n",
       "        vertical-align: top;\n",
       "    }\n",
       "\n",
       "    .dataframe thead th {\n",
       "        text-align: right;\n",
       "    }\n",
       "</style>\n",
       "<table border=\"1\" class=\"dataframe\">\n",
       "  <thead>\n",
       "    <tr style=\"text-align: right;\">\n",
       "      <th></th>\n",
       "      <th>Initial_Price</th>\n",
       "      <th>Cur_Price</th>\n",
       "      <th>Delta</th>\n",
       "      <th>Gamma</th>\n",
       "      <th>Theta</th>\n",
       "      <th>Vega</th>\n",
       "    </tr>\n",
       "  </thead>\n",
       "  <tbody>\n",
       "    <tr>\n",
       "      <th>SC</th>\n",
       "      <td>-90.0</td>\n",
       "      <td>-102.0</td>\n",
       "      <td>-66.2</td>\n",
       "      <td>-22.5</td>\n",
       "      <td>2.0</td>\n",
       "      <td>-2.7</td>\n",
       "    </tr>\n",
       "    <tr>\n",
       "      <th>LC</th>\n",
       "      <td>125.0</td>\n",
       "      <td>135.0</td>\n",
       "      <td>64.0</td>\n",
       "      <td>16.5</td>\n",
       "      <td>-1.4</td>\n",
       "      <td>3.9</td>\n",
       "    </tr>\n",
       "    <tr>\n",
       "      <th>Port</th>\n",
       "      <td>1050.0</td>\n",
       "      <td>990.0</td>\n",
       "      <td>-66.0</td>\n",
       "      <td>-180.0</td>\n",
       "      <td>18.0</td>\n",
       "      <td>36.0</td>\n",
       "    </tr>\n",
       "  </tbody>\n",
       "</table>\n",
       "</div>"
      ],
      "text/plain": [
       "      Initial_Price  Cur_Price  Delta  Gamma  Theta  Vega\n",
       "SC            -90.0     -102.0  -66.2  -22.5    2.0  -2.7\n",
       "LC            125.0      135.0   64.0   16.5   -1.4   3.9\n",
       "Port         1050.0      990.0  -66.0 -180.0   18.0  36.0"
      ]
     },
     "execution_count": 77,
     "metadata": {},
     "output_type": "execute_result"
    }
   ],
   "source": [
    "port"
   ]
  },
  {
   "cell_type": "markdown",
   "metadata": {},
   "source": [
    "- In the *call calendar spread* we are initially short delta, short gamma, long theta, and long vega (<strong>time value</strong>).\n",
    "- We want the short call to finish worthless at $\\tau_{1}$ such that the long call still has time value left in the option. "
   ]
  },
  {
   "cell_type": "markdown",
   "metadata": {},
   "source": [
    "# Apple | Long Straddle\n",
    "\n",
    "\\begin{align}\n",
    "\n",
    "V_{p,\\tau} = +20C(K=192.5) +20P(K=192.5) - \\$7.90\n",
    "\n",
    "\\end{align}\n",
    "\n",
    "- Both options expire February 2, 2024\n",
    "- Initial price for this straddle was $\\$15,800$."
   ]
  },
  {
   "cell_type": "code",
   "execution_count": 67,
   "metadata": {},
   "outputs": [
    {
     "data": {
      "text/html": [
       "<div>\n",
       "<style scoped>\n",
       "    .dataframe tbody tr th:only-of-type {\n",
       "        vertical-align: middle;\n",
       "    }\n",
       "\n",
       "    .dataframe tbody tr th {\n",
       "        vertical-align: top;\n",
       "    }\n",
       "\n",
       "    .dataframe thead th {\n",
       "        text-align: right;\n",
       "    }\n",
       "</style>\n",
       "<table border=\"1\" class=\"dataframe\">\n",
       "  <thead>\n",
       "    <tr style=\"text-align: right;\">\n",
       "      <th></th>\n",
       "      <th>Initial_Price</th>\n",
       "      <th>Cur_Price</th>\n",
       "      <th>Delta</th>\n",
       "      <th>Gamma</th>\n",
       "      <th>Theta</th>\n",
       "      <th>Vega</th>\n",
       "    </tr>\n",
       "  </thead>\n",
       "  <tbody>\n",
       "    <tr>\n",
       "      <th>C(K=192.5)</th>\n",
       "      <td>415.0</td>\n",
       "      <td>495.0</td>\n",
       "      <td>57.9</td>\n",
       "      <td>4.1</td>\n",
       "      <td>-19.4</td>\n",
       "      <td>13.1</td>\n",
       "    </tr>\n",
       "    <tr>\n",
       "      <th>P(K=192.5)</th>\n",
       "      <td>375.0</td>\n",
       "      <td>320.0</td>\n",
       "      <td>-42.4</td>\n",
       "      <td>4.1</td>\n",
       "      <td>-16.7</td>\n",
       "      <td>13.1</td>\n",
       "    </tr>\n",
       "    <tr>\n",
       "      <th>Port</th>\n",
       "      <td>15800.0</td>\n",
       "      <td>16300.0</td>\n",
       "      <td>310.0</td>\n",
       "      <td>164.0</td>\n",
       "      <td>-722.0</td>\n",
       "      <td>524.0</td>\n",
       "    </tr>\n",
       "  </tbody>\n",
       "</table>\n",
       "</div>"
      ],
      "text/plain": [
       "            Initial_Price  Cur_Price  Delta  Gamma  Theta   Vega\n",
       "C(K=192.5)          415.0      495.0   57.9    4.1  -19.4   13.1\n",
       "P(K=192.5)          375.0      320.0  -42.4    4.1  -16.7   13.1\n",
       "Port              15800.0    16300.0  310.0  164.0 -722.0  524.0"
      ]
     },
     "execution_count": 67,
     "metadata": {},
     "output_type": "execute_result"
    }
   ],
   "source": [
    "apple = np.array([[4.15,4.95,0.579,.041,-0.194,.131],[3.75,3.20,-0.424,0.041,-0.167,.131]])*100\n",
    "apple_port = pd.DataFrame(apple,columns=['Initial_Price','Cur_Price','Delta',\"Gamma\",'Theta','Vega'],index =['C(K=192.5)','P(K=192.5)'])\n",
    "apple_port.loc['Port',:] = np.array(apple_port.sum(axis =0))*20\n",
    "apple_port\n"
   ]
  },
  {
   "cell_type": "markdown",
   "metadata": {},
   "source": [
    "# Intel | Short Straddle\n",
    "\n",
    "\\begin{align}\n",
    "\n",
    "V_{p,\\tau} = -20C(K=48) -20P(K=48) + \\$4.25\n",
    "\n",
    "\\end{align}\n",
    "\n",
    "- Both options expire February 2, 2024"
   ]
  },
  {
   "cell_type": "code",
   "execution_count": 72,
   "metadata": {},
   "outputs": [
    {
     "data": {
      "text/html": [
       "<div>\n",
       "<style scoped>\n",
       "    .dataframe tbody tr th:only-of-type {\n",
       "        vertical-align: middle;\n",
       "    }\n",
       "\n",
       "    .dataframe tbody tr th {\n",
       "        vertical-align: top;\n",
       "    }\n",
       "\n",
       "    .dataframe thead th {\n",
       "        text-align: right;\n",
       "    }\n",
       "</style>\n",
       "<table border=\"1\" class=\"dataframe\">\n",
       "  <thead>\n",
       "    <tr style=\"text-align: right;\">\n",
       "      <th></th>\n",
       "      <th>Initial_Price</th>\n",
       "      <th>Cur_Price</th>\n",
       "      <th>Delta</th>\n",
       "      <th>Gamma</th>\n",
       "      <th>Theta</th>\n",
       "      <th>Vega</th>\n",
       "    </tr>\n",
       "  </thead>\n",
       "  <tbody>\n",
       "    <tr>\n",
       "      <th>C(48)</th>\n",
       "      <td>-258.0</td>\n",
       "      <td>-210.0</td>\n",
       "      <td>-54.7</td>\n",
       "      <td>-8.2</td>\n",
       "      <td>9.4</td>\n",
       "      <td>-3.3</td>\n",
       "    </tr>\n",
       "    <tr>\n",
       "      <th>P(48)</th>\n",
       "      <td>-167.0</td>\n",
       "      <td>-178.0</td>\n",
       "      <td>45.4</td>\n",
       "      <td>-8.3</td>\n",
       "      <td>8.7</td>\n",
       "      <td>-3.3</td>\n",
       "    </tr>\n",
       "    <tr>\n",
       "      <th>Port</th>\n",
       "      <td>-8500.0</td>\n",
       "      <td>-7760.0</td>\n",
       "      <td>-186.0</td>\n",
       "      <td>-330.0</td>\n",
       "      <td>362.0</td>\n",
       "      <td>-132.0</td>\n",
       "    </tr>\n",
       "  </tbody>\n",
       "</table>\n",
       "</div>"
      ],
      "text/plain": [
       "       Initial_Price  Cur_Price  Delta  Gamma  Theta   Vega\n",
       "C(48)         -258.0     -210.0  -54.7   -8.2    9.4   -3.3\n",
       "P(48)         -167.0     -178.0   45.4   -8.3    8.7   -3.3\n",
       "Port         -8500.0    -7760.0 -186.0 -330.0  362.0 -132.0"
      ]
     },
     "execution_count": 72,
     "metadata": {},
     "output_type": "execute_result"
    }
   ],
   "source": [
    "intel = np.array([[2.58,2.10,0.547,0.082,-.094,.033],[1.67,1.78,-.454,0.083,-.087,0.033]])*-100\n",
    "intelP = pd.DataFrame(intel,columns=['Initial_Price','Cur_Price','Delta',\"Gamma\",'Theta','Vega'],index = ['C(48)',\"P(48)\"])\n",
    "intelP.loc['Port',:] =np.array(intelP.sum(axis=0))*20\n",
    "intelP"
   ]
  },
  {
   "cell_type": "markdown",
   "metadata": {},
   "source": [
    "## How do we $\\Delta$ hedge this position?\n",
    "\n",
    "- Simply purchase $186$ shares of stock.\n",
    "\n",
    "- Since this is at time $\\tau$ and the closing price of Intel is $\\$48.27$. How do we make this portfolio $\\Delta=-200$ and $\\Gamma=0$ nueutral using the call,put, and the asset?"
   ]
  },
  {
   "cell_type": "code",
   "execution_count": 92,
   "metadata": {},
   "outputs": [
    {
     "data": {
      "text/plain": [
       "array([18.13164869, 21.84584105])"
      ]
     },
     "execution_count": 92,
     "metadata": {},
     "output_type": "execute_result"
    }
   ],
   "source": [
    "A = np.array([[48.2,1],[8.2,8.3]])\n",
    "b = np.array([0,330])\n",
    "np.linalg.solve(A,b)"
   ]
  },
  {
   "cell_type": "code",
   "execution_count": 73,
   "metadata": {},
   "outputs": [
    {
     "data": {
      "text/plain": [
       "C(48)     48.0\n",
       "P(48)    -11.0\n",
       "Port     740.0\n",
       "dtype: float64"
      ]
     },
     "execution_count": 73,
     "metadata": {},
     "output_type": "execute_result"
    }
   ],
   "source": [
    "intelP['Cur_Price']-intelP['Initial_Price']"
   ]
  }
 ],
 "metadata": {
  "kernelspec": {
   "display_name": "Python 3",
   "language": "python",
   "name": "python3"
  },
  "language_info": {
   "codemirror_mode": {
    "name": "ipython",
    "version": 3
   },
   "file_extension": ".py",
   "mimetype": "text/x-python",
   "name": "python",
   "nbconvert_exporter": "python",
   "pygments_lexer": "ipython3",
   "version": "3.11.7"
  }
 },
 "nbformat": 4,
 "nbformat_minor": 2
}
